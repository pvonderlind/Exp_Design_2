{
 "cells": [
  {
   "cell_type": "markdown",
   "id": "consistent-jason",
   "metadata": {},
   "source": [
    "# Introduction\n",
    "This notebook records the measures taken to reproduce the 2019 paper by Naseri et al [1] as documented by the paper *Reproducing \"Analyzing and Predicting News Popularity in an Instant\n",
    "Messaging Service\"* by Vonderlind et al [2].\n",
    "\n",
    "*[1]: Mohammad Naseri and Hamed Zamani. 2019. Analyzing and Predicting News Popularity in an Instant Messaging Service. In Proceedings of the 42nd International ACM SIGIR Conference on Research and Development in Information Retrieval (SIGIR'19). Association for Computing Machinery, New York, NY, USA, 1053–1056. DOI:https://doi.org/10.1145/3331184.3331301*  \n",
    "*[2]: Philip Vonderlind, Philipp Piwonka, and Julia Putz. 2022. Reproducing \"Analyzing and Predicting News Popularity in an Instant\n",
    "Messaging Service\". In .Zenodo, Vienna, Austria, 6 pages. https://doi.org/10.5281/zenodo.5920074*"
   ]
  },
  {
   "cell_type": "markdown",
   "id": "major-spare",
   "metadata": {},
   "source": [
    "We will train separate models for each news agency Telegram channel, as described in the paper. Weirdly enough, the also added\n",
    "the Guardian, BCC Persian and the Washington Post in their dataset, but they\n",
    "are not mentioned in the paper ...\n",
    "\n",
    "We will collect a few measures also used in the paper and investiagte the results.\n",
    "\n",
    "As the first step, we will clone the dataset containing the Telegram data used by [Naseri 2019]."
   ]
  },
  {
   "cell_type": "markdown",
   "id": "statewide-filename",
   "metadata": {},
   "source": [
    "# Feature Extraction"
   ]
  },
  {
   "cell_type": "code",
   "execution_count": 40,
   "id": "noted-intervention",
   "metadata": {},
   "outputs": [
    {
     "name": "stderr",
     "output_type": "stream",
     "text": [
      "WARNING: Ignoring invalid distribution -atplotlib (c:\\users\\entenzahn\\appdata\\local\\programs\\python\\python39\\lib\\site-packages)\n"
     ]
    }
   ],
   "source": [
    "# Run only if needed, e.g. when the Telegram News Folder is not yet downloaded!\n",
    "#! git clone https://github.com/IceCream71/TelegramNews.git"
   ]
  },
  {
   "cell_type": "markdown",
   "id": "intelligent-relations",
   "metadata": {},
   "source": [
    "**ISSUES FOUND**\n",
    "\n",
    "* **Which of the .bson files are actually used for the experiment?** There\n",
    "is no indication if Washington Post and BBC Persia etc. are used for the\n",
    "experiments, as they are not mentioned in the paper itself.\n",
    "\n",
    "* **How are the binary labels acutally generated from the data?** There is no indication for the threshold they used in the paper. They mention only: \"Therefore, we first found the thresholds that satisfy these percent-\n",
    "ages for training and test sets and assigned a binary label to each\n",
    "post (“popular” or “not popular”). \"\n",
    "\n",
    "* **How are the features generated from the data (manually, algorithm, ...)?** This would be important as the bson data does **not** have the same features. List of issues: What is the n-grams thing? How do we generate the hashtags and mention features? How are we supposed to generate the media-type features? What does Has Link mean (could be either the enitity type URL or a media page containing a url tag...).\n",
    "\n",
    "* **There is a typo in the features table** We can't really reproduce\n",
    "the #mentions features without guessing that they mean the count of the mentions\n",
    "in a post (They use the same text as for the hashtags)\n",
    "\n",
    "* **How are the NaN in the data handled?** Could be removed, zero-filled, interpolated. We just don't know...\n",
    "\n",
    "missing features (which can't be calculated due to missing information): \n",
    "\n",
    "* subscribers (shows the popularity of channel)\n",
    "* channel age (date of first post? in days)\n",
    "* frequent n-grams (frequent n-grams that news item contains)\n",
    "* frequent hashtags (frequent hashtags that news item contains)\n",
    "* frequent mentions (frequent mentions that news item contains)\n",
    "\n",
    "what does frequent mean?"
   ]
  },
  {
   "cell_type": "code",
   "execution_count": 2,
   "id": "white-hepatitis",
   "metadata": {},
   "outputs": [],
   "source": [
    "import pandas as pd\n",
    "import bson\n",
    "import seaborn as sns\n",
    "import numpy as np\n",
    "from sklearn.preprocessing import MinMaxScaler\n",
    "import scipy.stats as st\n",
    "from scipy.stats._continuous_distns import _distn_names\n",
    "import warnings\n",
    "import csv\n",
    "from sklearn.svm import LinearSVC\n",
    "from sklearn.model_selection import GridSearchCV\n",
    "import pickle\n",
    "from sklearn.metrics import f1_score, accuracy_score, balanced_accuracy_score, precision_score, recall_score\n",
    "from sklearn.metrics import confusion_matrix\n",
    "from sklearn.metrics import ConfusionMatrixDisplay\n",
    "import matplotlib.pyplot as plt\n",
    "from sklearn import svm\n",
    "from scipy import io"
   ]
  },
  {
   "cell_type": "code",
   "execution_count": 3,
   "id": "appointed-trace",
   "metadata": {},
   "outputs": [],
   "source": [
    "def create_df_for_bson(path): \n",
    "  with open (path, 'rb') as f:\n",
    "    data = bson.decode_all(f.read())\n",
    "\n",
    "  df = pd.DataFrame(data)\n",
    "  df = handle_NAS(df)\n",
    "  df = extract_features(df)\n",
    "  df = cut_date_range(df)\n",
    "  df = drop_unused_features(df)\n",
    "  return df\n",
    "\n",
    "def handle_NAS(df):\n",
    "  df = df.dropna(subset=['views'],axis=0)\n",
    "  return df\n",
    "\n",
    "def extract_features(df):\n",
    "  df = create_datetime_features(df)\n",
    "  df = add_channel_features(df)\n",
    "  df = create_entity_features(df)\n",
    "  return df\n",
    "\n",
    "def create_datetime_features(df):\n",
    "  df['age'] =  df.date\n",
    "  df['date'] = pd.to_datetime(df.date, unit='s')\n",
    "  df['year'] = df.date.dt.year\n",
    "  df['month'] = df.date.dt.month\n",
    "  df['day'] = df.date.dt.day\n",
    "  df['weekday'] = df.date.dt.dayofweek\n",
    "  df['hour'] = df.date.dt.hour\n",
    "  return df\n",
    "\n",
    "def cut_date_range(df):\n",
    "  # March 8, 2017 to October 8, 2017.\n",
    "  start_date = \"2017-03-08\"\n",
    "  end_date  = \"2017-10-08\"\n",
    "  mask = (df.date > start_date) & (df.date <= end_date)\n",
    "  return df.loc[mask]\n",
    "\n",
    "def add_channel_features(df):\n",
    "  df['minViews'] = df.views.min()\n",
    "  df['maxViews'] = df.views.max()\n",
    "  df['meanViews'] = df.views.mean()\n",
    "  df['stdViews'] = df.views.std()\n",
    "  df['hourlyAvgPosts'] = df.groupby('hour').size().mean()\n",
    "  df['dailyAvgPosts'] = df.groupby(['year','month','day']).size().mean()\n",
    "  return df\n",
    "\n",
    "def create_entity_features(df):\n",
    "  # Convert the entity field from bson into the actual features.\n",
    "  # For each row, check if media exists, if yes set media type.\n",
    "  df['hasMedia'] = df.media.notnull()\n",
    "  df['mediaType'] = df.apply(lambda x: x.media['_'] if x.hasMedia else '', axis=1)\n",
    "  # Check if URL exists in entities, if exists, is a link\n",
    "  df['hasLink'] = df.apply(lambda x: True if type(x.entities) != float and [d for d in x.entities if d['_'] ==  'messageEntityTextUrl'] else False, axis=1)\n",
    "  # Collect the mentions from the entities feature\n",
    "  df['mentions'] = df.apply(lambda x: len([d for d in x.entities if d['_'] == 'messageEntityMention']) if type(x.entities) != float else 0, axis=1)\n",
    "  # Same as before for the hashtags\n",
    "  df['hashtags'] = df.apply(lambda x: len([d for d in x.entities if d['_'] == 'messageEntityHashtag']) if type(x.entities) != float else 0, axis=1)\n",
    "  return df\n",
    "\n",
    "def drop_unused_features(df):\n",
    "  return df.drop(labels=['_id','_','flags','post','id','to_id','reply_to_msg_id',\n",
    "                  'media','channel','entities','message','fwd_from','edit_date',\n",
    "                  'via_bot_id','reply_markup','action', 'silent'],axis=1,errors='ignore')\n",
    "\n",
    " \n",
    "reutersWorld = create_df_for_bson('./TelegramNews/mongo/telegram/ReutersWorld.bson')\n",
    "cnnBrk = create_df_for_bson('./TelegramNews/mongo/telegram/CNNBrk.bson')\n",
    "pressTV = create_df_for_bson('./TelegramNews/mongo/telegram/presstv.bson')\n",
    "bbcBreaking = create_df_for_bson('./TelegramNews/mongo/telegram/bbcbreaking.bson')"
   ]
  },
  {
   "cell_type": "markdown",
   "id": "geographic-liability",
   "metadata": {},
   "source": [
    "I added some tests belkow to check if my calculations and mappings of the features correspond to the ones reported in the paper. The results seem\n",
    "fairly accurate if we take rounding into account. \n",
    "\n",
    "What is weird is that\n",
    "the actual size of the datasets don't match up with the repoted dataset sizes\n",
    "in the paper. My guess would be that they just repoted their acutal test set\n",
    "sizes and not the complete set."
   ]
  },
  {
   "cell_type": "code",
   "execution_count": 4,
   "id": "instant-banks",
   "metadata": {},
   "outputs": [
    {
     "name": "stdout",
     "output_type": "stream",
     "text": [
      "Mentions per news 0.4697\n"
     ]
    },
    {
     "data": {
      "image/png": "[encoded data removed]",
      "text/plain": [
       "<Figure size 432x288 with 1 Axes>"
      ]
     },
     "metadata": {
      "needs_background": "light"
     },
     "output_type": "display_data"
    }
   ],
   "source": [
    "sns.barplot(x=cnnBrk.mentions,y=cnnBrk.index);\n",
    "print(f\"Mentions per news {round(cnnBrk.mentions.sum() / len(cnnBrk.index),4)}\")"
   ]
  },
  {
   "cell_type": "code",
   "execution_count": 5,
   "id": "southwest-width",
   "metadata": {},
   "outputs": [
    {
     "name": "stdout",
     "output_type": "stream",
     "text": [
      "Hastags per news 0.0004\n"
     ]
    },
    {
     "data": {
      "image/png": "[encoded data removed]",
      "text/plain": [
       "<Figure size 432x288 with 1 Axes>"
      ]
     },
     "metadata": {
      "needs_background": "light"
     },
     "output_type": "display_data"
    }
   ],
   "source": [
    "sns.barplot(x=cnnBrk.hashtags,y=cnnBrk.index);\n",
    "print(f\"Hastags per news {round(cnnBrk.hashtags.sum() / len(cnnBrk.index),4)}\")"
   ]
  },
  {
   "cell_type": "code",
   "execution_count": 6,
   "id": "roman-manual",
   "metadata": {},
   "outputs": [
    {
     "name": "stdout",
     "output_type": "stream",
     "text": [
      "Media per news 0.5302\n"
     ]
    },
    {
     "data": {
      "image/png": "[encoded data removed]",
      "text/plain": [
       "<Figure size 432x288 with 1 Axes>"
      ]
     },
     "metadata": {
      "needs_background": "light"
     },
     "output_type": "display_data"
    }
   ],
   "source": [
    "sns.barplot(x=cnnBrk.hasMedia,y=cnnBrk.index);\n",
    "print(f\"Media per news {round(len(cnnBrk[cnnBrk.hasMedia == True].index) / len(cnnBrk.index),4)}\")"
   ]
  },
  {
   "cell_type": "code",
   "execution_count": 7,
   "id": "native-review",
   "metadata": {},
   "outputs": [],
   "source": [
    "def get_statistics_for_dataset(data, label):\n",
    "  news_item_count = len(data.index)\n",
    "  average_views = data.views.sum() / len(data.index)\n",
    "  std_views = np.std(data.views)\n",
    "  avg_hastags = round(data.hashtags.sum() / len(data.index),4)\n",
    "  avg_media = round(len(data[data.hasMedia == True].index) / len(data.index),4)\n",
    "  avg_mentions = round(data.mentions.sum() / len(data.index),4)\n",
    "  return {\"NI-count\": news_item_count,\n",
    "          \"avg_views\" : average_views,\n",
    "          \"std_views\" :std_views,\n",
    "          \"avg_hastags\" : avg_hastags,\n",
    "          \"avg_media\" : avg_media,\n",
    "          \"avg_mentions\" : avg_mentions,\n",
    "          \"agency\" : label}"
   ]
  },
  {
   "cell_type": "code",
   "execution_count": 8,
   "id": "chubby-preference",
   "metadata": {},
   "outputs": [
    {
     "data": {
      "text/html": [
       "<div>\n",
       "<style scoped>\n",
       "    .dataframe tbody tr th:only-of-type {\n",
       "        vertical-align: middle;\n",
       "    }\n",
       "\n",
       "    .dataframe tbody tr th {\n",
       "        vertical-align: top;\n",
       "    }\n",
       "\n",
       "    .dataframe thead th {\n",
       "        text-align: right;\n",
       "    }\n",
       "</style>\n",
       "<table border=\"1\" class=\"dataframe\">\n",
       "  <thead>\n",
       "    <tr style=\"text-align: right;\">\n",
       "      <th></th>\n",
       "      <th>NI-count</th>\n",
       "      <th>avg_views</th>\n",
       "      <th>std_views</th>\n",
       "      <th>avg_hastags</th>\n",
       "      <th>avg_media</th>\n",
       "      <th>avg_mentions</th>\n",
       "      <th>agency</th>\n",
       "    </tr>\n",
       "  </thead>\n",
       "  <tbody>\n",
       "    <tr>\n",
       "      <th>0</th>\n",
       "      <td>48471</td>\n",
       "      <td>88.985827</td>\n",
       "      <td>99.930244</td>\n",
       "      <td>0.0004</td>\n",
       "      <td>0.5302</td>\n",
       "      <td>0.4697</td>\n",
       "      <td>CNN</td>\n",
       "    </tr>\n",
       "    <tr>\n",
       "      <th>1</th>\n",
       "      <td>7860</td>\n",
       "      <td>1183.157888</td>\n",
       "      <td>337.592685</td>\n",
       "      <td>0.0004</td>\n",
       "      <td>0.9205</td>\n",
       "      <td>0.0219</td>\n",
       "      <td>PressTV</td>\n",
       "    </tr>\n",
       "    <tr>\n",
       "      <th>2</th>\n",
       "      <td>11307</td>\n",
       "      <td>221.345715</td>\n",
       "      <td>94.197241</td>\n",
       "      <td>0.0001</td>\n",
       "      <td>0.1633</td>\n",
       "      <td>0.9990</td>\n",
       "      <td>Reuters</td>\n",
       "    </tr>\n",
       "    <tr>\n",
       "      <th>3</th>\n",
       "      <td>1838</td>\n",
       "      <td>678.303047</td>\n",
       "      <td>1930.809073</td>\n",
       "      <td>0.1436</td>\n",
       "      <td>0.9233</td>\n",
       "      <td>0.3836</td>\n",
       "      <td>BBC</td>\n",
       "    </tr>\n",
       "  </tbody>\n",
       "</table>\n",
       "</div>"
      ],
      "text/plain": [
       "   NI-count    avg_views    std_views  avg_hastags  avg_media  avg_mentions  \\\n",
       "0     48471    88.985827    99.930244       0.0004     0.5302        0.4697   \n",
       "1      7860  1183.157888   337.592685       0.0004     0.9205        0.0219   \n",
       "2     11307   221.345715    94.197241       0.0001     0.1633        0.9990   \n",
       "3      1838   678.303047  1930.809073       0.1436     0.9233        0.3836   \n",
       "\n",
       "    agency  \n",
       "0      CNN  \n",
       "1  PressTV  \n",
       "2  Reuters  \n",
       "3      BBC  "
      ]
     },
     "execution_count": 8,
     "metadata": {},
     "output_type": "execute_result"
    }
   ],
   "source": [
    "def generate_stat_block():\n",
    "  cnnStat = get_statistics_for_dataset(cnnBrk, \"CNN\")\n",
    "  bbcStat = get_statistics_for_dataset(bbcBreaking, \"BBC\")\n",
    "  presstvStat = get_statistics_for_dataset(pressTV , \"PressTV\")\n",
    "  reutersStat = get_statistics_for_dataset(reutersWorld, \"Reuters\")\n",
    "  res = pd.DataFrame([cnnStat, presstvStat, reutersStat, bbcStat])\n",
    "  return res\n",
    "generate_stat_block()"
   ]
  },
  {
   "cell_type": "markdown",
   "id": "supposed-profession",
   "metadata": {},
   "source": [
    "# Distribution Assumptions\n",
    "We can now also test the distribution assumptions for the views variable made by the authors.\n",
    "For this we check all 89 distributions available in Skicit-Learn: (https://docs.scipy.org/doc/scipy/reference/stats.html)\n",
    "\n",
    "## Issues Found\n",
    "\n",
    "* **Which 89 distributions did they acutally test?** Scipy includes more distributions than 89 and is continually updated, so just linking to the page above is not enough ...\n",
    "\n",
    "* **Which metric was used to evaluate goodness of fit of the dist.?** No metric is repoted in the paper.\n",
    "\n",
    "* **Distributions do NOT MATCH with the paper !!**"
   ]
  },
  {
   "cell_type": "code",
   "execution_count": 9,
   "id": "prepared-illness",
   "metadata": {},
   "outputs": [],
   "source": [
    "def test_distribution(data, dist):\n",
    "    print(f\"Testing distribution {dist}\")\n",
    "    label = dist\n",
    "    dist = getattr(st, dist)\n",
    "\n",
    "    with warnings.catch_warnings():\n",
    "      warnings.filterwarnings('ignore')\n",
    "      try :\n",
    "        params = dist.fit(data.views)\n",
    "\n",
    "        #parameters of fitted distribution.\n",
    "        arg = params[:-2]\n",
    "        loc = params[-2]\n",
    "        scale = params[-1]\n",
    "\n",
    "        #calc pdf and error for fit.\n",
    "        pdf = dist.pdf(np.arange(len(data.views)), loc=loc, scale=scale, *arg)\n",
    "        sse = np.sum(np.power(data.views - pdf, 2.0))\n",
    "\n",
    "        #calc Kolgorov-Smirnov\n",
    "        dist, p = st.kstest(data.views, label, args=params)\n",
    "      except ValueError:\n",
    "        print(f\"Could not process distribution {dist}\")\n",
    "        return False\n",
    "    return {\"name\" : label, \"params\" : params, \"Error\" : sse, \"P-Value\" : p}"
   ]
  },
  {
   "cell_type": "code",
   "execution_count": 10,
   "id": "endangered-jefferson",
   "metadata": {},
   "outputs": [],
   "source": [
    "def test_best_distribution(data):\n",
    "  results = []\n",
    "  # Exclude levy_stable and studentized_range as their implementations in \n",
    "  # scipy suck and take a vast amount of time to compute.\n",
    "  dist_to_test = [d for d in _distn_names if not d in ['levy_stable', 'studentized_range']]\n",
    "  for dist in dist_to_test:\n",
    "    res = test_distribution(data, dist)\n",
    "    if res:\n",
    "      results.append(res)\n",
    "  return sorted(results, key=lambda x:x[\"P-Value\"])\n",
    "\n",
    "def generate_and_save_distribution_tests_for(data, label):\n",
    "  dists = test_best_distribution(data)\n",
    "  cols = [\"name\", \"params\", \"Error\", \"P-Value\"]\n",
    "  with open(f'distributions/{label}.csv', 'w', newline='', encoding='utf-8') as file:\n",
    "    writer = csv.DictWriter(file, fieldnames=cols)\n",
    "    writer.writeheader()\n",
    "    for d in dists:\n",
    "      writer.writerow(d)\n",
    "  print(f\"Done processing distribution tests for {label}\")"
   ]
  },
  {
   "cell_type": "code",
   "execution_count": 11,
   "id": "dangerous-reward",
   "metadata": {},
   "outputs": [],
   "source": [
    "#generate_and_save_distribution_tests_for(cnnBrk, \"cnn_breaking\")"
   ]
  },
  {
   "cell_type": "code",
   "execution_count": 12,
   "id": "electrical-banks",
   "metadata": {},
   "outputs": [],
   "source": [
    "#generate_and_save_distribution_tests_for(reutersWorld, \"reuters\")"
   ]
  },
  {
   "cell_type": "code",
   "execution_count": 13,
   "id": "valid-venice",
   "metadata": {},
   "outputs": [],
   "source": [
    "#generate_and_save_distribution_tests_for(bbcBreaking, \"bbc\")"
   ]
  },
  {
   "cell_type": "code",
   "execution_count": 14,
   "id": "devoted-duncan",
   "metadata": {},
   "outputs": [],
   "source": [
    "#generate_and_save_distribution_tests_for(pressTV, \"presstv\")"
   ]
  },
  {
   "cell_type": "markdown",
   "id": "oriental-router",
   "metadata": {},
   "source": [
    "# Label into top 5% and top 25%\n",
    "\n",
    "## Issues Found\n",
    "\n",
    "* **How are the labels applied?** My guess would be via a categorical variable as target, which is also what is applied below.\n",
    "\n",
    "* **Are there separate datasets for 25% and 5%?** I would guess this should be the case, since they mention _\"Therefore, we first found the thresholds that satisfy these percent-\n",
    "ages for training and test sets and assigned a binary label to each\n",
    "post (“popular” or “not popular”). \"_ I would say this suggest they do the experiments two times, once for each popularity prediction percentge."
   ]
  },
  {
   "cell_type": "code",
   "execution_count": 15,
   "id": "collective-natural",
   "metadata": {},
   "outputs": [
    {
     "data": {
      "image/png": "[encoded data removed]",
      "text/plain": [
       "<Figure size 432x288 with 1 Axes>"
      ]
     },
     "metadata": {
      "needs_background": "light"
     },
     "output_type": "display_data"
    }
   ],
   "source": [
    "def produce_binary_labels(df):\n",
    "  sorted = df.sort_values(by='views', ascending=False)\n",
    "  top5_indices = sorted.head(int(len(df)*(5/100))).index\n",
    "  top25_indices = sorted.head(int(len(df)*(25/100))).index\n",
    "\n",
    "  # Create the target, 0 for not popular, 1 for popular\n",
    "  df.loc[:,'popularity'] = 0\n",
    "\n",
    "  top5_set = df.copy()\n",
    "  top25_set = df.copy()\n",
    "\n",
    "  top5_set.loc[top5_indices,'popularity'] = 1\n",
    "  top25_set.loc[top25_indices,'popularity'] = 1\n",
    "\n",
    "  return top5_set, top25_set\n",
    "\n",
    "cnnBrk5, cnnBrk25 = produce_binary_labels(cnnBrk)\n",
    "sns.barplot(x=[0,1], y=cnnBrk5.groupby('popularity').popularity.count());"
   ]
  },
  {
   "cell_type": "code",
   "execution_count": 16,
   "id": "hearing-digit",
   "metadata": {},
   "outputs": [
    {
     "data": {
      "image/png": "[encoded data removed]",
      "text/plain": [
       "<Figure size 432x288 with 1 Axes>"
      ]
     },
     "metadata": {
      "needs_background": "light"
     },
     "output_type": "display_data"
    }
   ],
   "source": [
    "sns.barplot(x=[0,1], y=cnnBrk25.groupby('popularity').popularity.count());"
   ]
  },
  {
   "cell_type": "markdown",
   "id": "polyphonic-grounds",
   "metadata": {},
   "source": [
    "# Split into Training/Test\n",
    "\n",
    "## Issues Found\n",
    "\n",
    "* **Maybe there are imbalances in train/test due to holidays or \n",
    "interesting news topics in those months?** (Just a thought)\n",
    "\n",
    "* **Very few training samples!** The authors use 86.65% of their data for training, leaving just shy of 14% for testing. That may be an issue in case of overfitting.\n",
    "\n",
    "* **They don't mention which columns are scaled!!** This results in static cols,\n",
    "such as the std of views etc. to get put to 0!!"
   ]
  },
  {
   "cell_type": "code",
   "execution_count": 17,
   "id": "remarkable-participation",
   "metadata": {},
   "outputs": [
    {
     "name": "stdout",
     "output_type": "stream",
     "text": [
      "Size of Training set: 41998\n",
      "Size of Test set: 6473\n",
      "Percentage of train split: 86.65%\n"
     ]
    }
   ],
   "source": [
    "def create_train_test_split(df):\n",
    "  # the first six months of the data is selected for training and the last month \n",
    "  # is selected for testing.\n",
    "   # March 8, 2017 to October 8, 2017.\n",
    "  train_start = \"2017-03-08\"\n",
    "  train_end = \"2017-9-08\"\n",
    "  mask = (df.date > train_start) & (df.date <= train_end)\n",
    "\n",
    "  df = df.drop(labels=['date'],axis=1)\n",
    "  df.mediaType = df.mediaType.astype('category').cat.codes\n",
    "\n",
    "  training = df.loc[mask]\n",
    "  test = df.loc[-mask]\n",
    "\n",
    "  # Apply Min-Max scaling fitted on the training data\n",
    "  scaler = MinMaxScaler()\n",
    "  scaled_training = pd.DataFrame(scaler.fit_transform(training), columns=df.columns)\n",
    "  scaled_test = pd.DataFrame(scaler.transform(test), columns=df.columns)\n",
    "\n",
    "  return scaled_training, scaled_test\n",
    "\n",
    "cnnTrain5, cnnTest5 = create_train_test_split(cnnBrk5)\n",
    "print(f\"Size of Training set: {len(cnnTrain5.index)}\")\n",
    "print(f\"Size of Test set: {len(cnnTest5.index)}\")\n",
    "print(f\"Percentage of train split: {round(100 * len(cnnTrain5.index) / len(cnnBrk.index),2)}%\")"
   ]
  },
  {
   "cell_type": "code",
   "execution_count": 18,
   "id": "japanese-pierce",
   "metadata": {},
   "outputs": [
    {
     "name": "stdout",
     "output_type": "stream",
     "text": [
      "Size of Training set: 41998\n",
      "Size of Test set: 6473\n",
      "Percentage of train split: 86.65%\n"
     ]
    }
   ],
   "source": [
    "cnnTrain25, cnnTest25 = create_train_test_split(cnnBrk25)\n",
    "print(f\"Size of Training set: {len(cnnTrain25.index)}\")\n",
    "print(f\"Size of Test set: {len(cnnTest25.index)}\")\n",
    "print(f\"Percentage of train split: {round(100 * len(cnnTrain25.index) / len(cnnBrk.index),2)}%\")"
   ]
  },
  {
   "cell_type": "markdown",
   "id": "daily-harvard",
   "metadata": {},
   "source": [
    "# SVM Partial Models (STL)\n",
    "\n",
    "We will follow the paper and find the tuning parameter **c** by applying **5-fold CV**. We will collect the same 5 metrics mentioned in the paper. \n",
    "\n",
    "We also also try feature selection using randomized Lasso, as mentioned in the paper. Should their assumptions hold, the results should be that no substantial improvement can be shown.\n",
    "\n",
    "Before training we also have to also apply the sample weighting technique mentioned for the MTL: _\"Both of these models\n",
    "also use a sample weighting technique, exactly the same as the one\n",
    "used for MTL.\"_\n",
    "\n",
    "## Issues Found\n",
    "\n",
    "* **SVM also has other hyperparameters that they don't mention!!** These include gamma and kernel (and degree for some kernels). As they don't mention these parameters, we will just assume the default is used.\n",
    "\n",
    "* **Not mentioned wether they do GridSearch of Randomized Search for the hyperparameter tuning!**\n",
    "\n",
    "* **Which range of parameters for c is the search based on?** They only mention that they use 5-fold CV, but not over which range of parameters. We will just have to take some arbitrary values and hope for the best.\n",
    "\n",
    "* **Which metric is used to decide which CV fold is the best?** E.g. which\n",
    "scorer should be used to determine the optimal 'C' hyperparamter.\n",
    "\n",
    "* **Which Kernel do they use?** Since they use linear normalization, I guess one\n",
    "would use a linear kernel? This would also make the computation much faster..."
   ]
  },
  {
   "cell_type": "code",
   "execution_count": 19,
   "id": "offshore-genome",
   "metadata": {},
   "outputs": [
    {
     "data": {
      "text/plain": [
       "0.000063    31791\n",
       "0.000196    10207\n",
       "dtype: int64"
      ]
     },
     "execution_count": 19,
     "metadata": {},
     "output_type": "execute_result"
    }
   ],
   "source": [
    "def calculate_weights(train_df):\n",
    "  n = len(train_df.index)\n",
    "  labels = train_df.popularity\n",
    "  popular = len(labels[labels == 1])\n",
    "  not_popular = n - popular\n",
    "\n",
    "  denominator = sum((1 / (popular if labels[k] == 1 else not_popular)) for k in range(1,n))\n",
    "  bigLambda = map(lambda i: (1 / (popular if labels[i] == 1 else not_popular)) * denominator, range(0, n))\n",
    "  return pd.Series(bigLambda)\n",
    "\n",
    "bigLambdaCnn25 = calculate_weights(cnnTrain25)\n",
    "bigLambdaCnn25.value_counts()"
   ]
  },
  {
   "cell_type": "code",
   "execution_count": 20,
   "id": "favorite-precipitation",
   "metadata": {},
   "outputs": [],
   "source": [
    "def train_svm_wo_feature_select(train_df, weights):\n",
    "  weight_array = weights.unique()\n",
    "  weight_dict = {0 : weight_array[0], 1 : weight_array[1]}\n",
    "  param_grid = {'C' : np.logspace(-3, 2, 6)}\n",
    "\n",
    "  # Do 5-fold CV\n",
    "  # Use LinearSVC as we get quadratic scaling for the standard RFB\n",
    "  # kernel otherwise, which is unreasonable given the amount of data.\n",
    "  gridSearch = GridSearchCV(LinearSVC(class_weight=weight_dict), param_grid,\n",
    "                            verbose=1) \n",
    "  model = gridSearch.fit(train_df.drop('popularity', axis=1), \n",
    "                         train_df.popularity)\n",
    "  print(f\"Found best model :{model.best_params_}\")\n",
    "  return model"
   ]
  },
  {
   "cell_type": "code",
   "execution_count": 21,
   "id": "everyday-evans",
   "metadata": {},
   "outputs": [],
   "source": [
    "def calculate_metrics_for_model(model, test_df):\n",
    "  # Get predictions from model\n",
    "  test_preds = model.predict(test_df.drop('popularity', axis=1))\n",
    "  test_accuracy = accuracy_score(test_df.popularity, test_preds)\n",
    "  test_balanced_acc = balanced_accuracy_score(test_df.popularity, test_preds)\n",
    "  test_f1 = f1_score(test_df.popularity, test_preds)\n",
    "  test_precision = precision_score(test_df.popularity, test_preds)\n",
    "  test_recall = recall_score(test_df.popularity, test_preds)\n",
    "\n",
    "  print(\"Confusion Matrix\".center(50,\"-\"))\n",
    "  ConfusionMatrixDisplay.from_estimator(model, test_df.drop('popularity', axis=1), test_df.popularity)\n",
    "  plt.show()\n",
    "  \n",
    "  return {\"Accuracy\" : test_accuracy, \"Balanced_Accuracy\": test_balanced_acc, \n",
    "          \"Precision\": test_precision, \"Recall\": test_recall, \"F1\": test_f1}\n"
   ]
  },
  {
   "cell_type": "markdown",
   "id": "supported-vegetation",
   "metadata": {},
   "source": [
    "# Evaluation of model + generation for other datasets"
   ]
  },
  {
   "cell_type": "code",
   "execution_count": 22,
   "id": "spare-dutch",
   "metadata": {},
   "outputs": [],
   "source": [
    "def get_results_for_dataset(df, name):\n",
    "  print(name.center(50,\"=\"))\n",
    "\n",
    "  # Create labbeled train test splits for 5% and 25%\n",
    "  train, test = create_train_test_split(df)\n",
    "  train5, train25 = produce_binary_labels(train)\n",
    "  test5, test25 = produce_binary_labels(test)\n",
    "\n",
    "  # Train models for 5% and 25%\n",
    "  results_5 = get_model_results(train5, test5)\n",
    "  results_25 = get_model_results(train25, test25)\n",
    "\n",
    "  # Save best models to disk\n",
    "  with open(f'{name}_5.pkl', 'wb') as fid:\n",
    "    pickle.dump(results_5['model'], fid)  \n",
    "\n",
    "  with open(f'{name}_25.pkl', 'wb') as fid:\n",
    "    pickle.dump(results_25['model'], fid)  \n",
    "  \n",
    "  print(f\"Results for dataset {name}:\")\n",
    "  print(f\"5% Popularity: {results_5['metrics']}\")\n",
    "  print(f\"25% Popularity: {results_25['metrics']}\")\n",
    "  return {\"5\" : results_5, \"25\" : results_25}\n",
    "\n",
    "def get_model_results(train, test):\n",
    "  train_weights = calculate_weights(train)\n",
    "  model = train_svm_wo_feature_select(train, train_weights)\n",
    "  metrics = calculate_metrics_for_model(model, test)\n",
    "  return {\"model\" : model, \"metrics\" : metrics}"
   ]
  },
  {
   "cell_type": "markdown",
   "id": "reflected-liability",
   "metadata": {},
   "source": [
    "## Reuters World"
   ]
  },
  {
   "cell_type": "code",
   "execution_count": 23,
   "id": "built-stone",
   "metadata": {},
   "outputs": [
    {
     "name": "stdout",
     "output_type": "stream",
     "text": [
      "=====================Reuters======================\n",
      "Fitting 5 folds for each of 6 candidates, totalling 30 fits\n",
      "Found best model :{'C': 100.0}\n",
      "-----------------Confusion Matrix-----------------\n"
     ]
    },
    {
     "data": {
      "image/png": "[encoded data removed]",
      "text/plain": [
       "<Figure size 432x288 with 2 Axes>"
      ]
     },
     "metadata": {
      "needs_background": "light"
     },
     "output_type": "display_data"
    },
    {
     "name": "stdout",
     "output_type": "stream",
     "text": [
      "Fitting 5 folds for each of 6 candidates, totalling 30 fits\n",
      "Found best model :{'C': 10.0}\n",
      "-----------------Confusion Matrix-----------------\n"
     ]
    },
    {
     "data": {
      "image/png": "[encoded data removed]",
      "text/plain": [
       "<Figure size 432x288 with 2 Axes>"
      ]
     },
     "metadata": {
      "needs_background": "light"
     },
     "output_type": "display_data"
    },
    {
     "name": "stdout",
     "output_type": "stream",
     "text": [
      "Results for dataset Reuters:\n",
      "5% Popularity: {'Accuracy': 0.9539584503088153, 'Balanced_Accuracy': 0.5393258426966292, 'Precision': 1.0, 'Recall': 0.07865168539325842, 'F1': 0.14583333333333334}\n",
      "25% Popularity: {'Accuracy': 0.7445255474452555, 'Balanced_Accuracy': 0.7570292000269124, 'Precision': 0.49291784702549574, 'Recall': 0.7820224719101123, 'F1': 0.6046915725456125}\n"
     ]
    }
   ],
   "source": [
    "resReuters = get_results_for_dataset(reutersWorld, \"Reuters\")"
   ]
  },
  {
   "cell_type": "markdown",
   "id": "scientific-contribution",
   "metadata": {},
   "source": [
    "## CNN"
   ]
  },
  {
   "cell_type": "code",
   "execution_count": 24,
   "id": "southern-basement",
   "metadata": {},
   "outputs": [
    {
     "name": "stdout",
     "output_type": "stream",
     "text": [
      "=======================CNN========================\n",
      "Fitting 5 folds for each of 6 candidates, totalling 30 fits\n",
      "Found best model :{'C': 100.0}\n",
      "-----------------Confusion Matrix-----------------\n"
     ]
    },
    {
     "data": {
      "image/png": "[encoded data removed]",
      "text/plain": [
       "<Figure size 432x288 with 2 Axes>"
      ]
     },
     "metadata": {
      "needs_background": "light"
     },
     "output_type": "display_data"
    },
    {
     "name": "stdout",
     "output_type": "stream",
     "text": [
      "Fitting 5 folds for each of 6 candidates, totalling 30 fits\n",
      "Found best model :{'C': 100.0}\n",
      "-----------------Confusion Matrix-----------------\n"
     ]
    },
    {
     "data": {
      "image/png": "[encoded data removed]",
      "text/plain": [
       "<Figure size 432x288 with 2 Axes>"
      ]
     },
     "metadata": {
      "needs_background": "light"
     },
     "output_type": "display_data"
    },
    {
     "name": "stdout",
     "output_type": "stream",
     "text": [
      "Results for dataset CNN:\n",
      "5% Popularity: {'Accuracy': 0.0498995828827437, 'Balanced_Accuracy': 0.5, 'Precision': 0.0498995828827437, 'Recall': 1.0, 'F1': 0.09505591524426132}\n",
      "25% Popularity: {'Accuracy': 0.2499613780318245, 'Balanced_Accuracy': 0.5, 'Precision': 0.2499613780318245, 'Recall': 1.0, 'F1': 0.399950562353232}\n"
     ]
    }
   ],
   "source": [
    "resCNN = get_results_for_dataset(cnnBrk, \"CNN\")"
   ]
  },
  {
   "cell_type": "markdown",
   "id": "outstanding-clarity",
   "metadata": {},
   "source": [
    "## Press TV"
   ]
  },
  {
   "cell_type": "code",
   "execution_count": 25,
   "id": "serial-victoria",
   "metadata": {},
   "outputs": [
    {
     "name": "stdout",
     "output_type": "stream",
     "text": [
      "=====================PressTV======================\n",
      "Fitting 5 folds for each of 6 candidates, totalling 30 fits\n",
      "Found best model :{'C': 100.0}\n",
      "-----------------Confusion Matrix-----------------\n"
     ]
    },
    {
     "data": {
      "image/png": "[encoded data removed]",
      "text/plain": [
       "<Figure size 432x288 with 2 Axes>"
      ]
     },
     "metadata": {
      "needs_background": "light"
     },
     "output_type": "display_data"
    },
    {
     "name": "stdout",
     "output_type": "stream",
     "text": [
      "Fitting 5 folds for each of 6 candidates, totalling 30 fits\n",
      "Found best model :{'C': 100.0}\n",
      "-----------------Confusion Matrix-----------------\n"
     ]
    },
    {
     "data": {
      "image/png": "[encoded data removed]",
      "text/plain": [
       "<Figure size 432x288 with 2 Axes>"
      ]
     },
     "metadata": {
      "needs_background": "light"
     },
     "output_type": "display_data"
    },
    {
     "name": "stdout",
     "output_type": "stream",
     "text": [
      "Results for dataset PressTV:\n",
      "5% Popularity: {'Accuracy': 0.9629317607413648, 'Balanced_Accuracy': 0.6271186440677966, 'Precision': 1.0, 'Recall': 0.2542372881355932, 'F1': 0.4054054054054054}\n",
      "25% Popularity: {'Accuracy': 0.9561920808761584, 'Balanced_Accuracy': 0.9685632602299269, 'Precision': 0.8546511627906976, 'Recall': 0.9932432432432432, 'F1': 0.91875}\n"
     ]
    }
   ],
   "source": [
    "resPressTV = get_results_for_dataset(pressTV, \"PressTV\")"
   ]
  },
  {
   "cell_type": "markdown",
   "id": "piano-biography",
   "metadata": {},
   "source": [
    "## BBC"
   ]
  },
  {
   "cell_type": "code",
   "execution_count": 26,
   "id": "selective-lexington",
   "metadata": {},
   "outputs": [
    {
     "name": "stdout",
     "output_type": "stream",
     "text": [
      "=======================BBC========================\n",
      "Fitting 5 folds for each of 6 candidates, totalling 30 fits\n",
      "Found best model :{'C': 0.01}\n",
      "-----------------Confusion Matrix-----------------\n"
     ]
    },
    {
     "data": {
      "image/png": "[encoded data removed]",
      "text/plain": [
       "<Figure size 432x288 with 2 Axes>"
      ]
     },
     "metadata": {
      "needs_background": "light"
     },
     "output_type": "display_data"
    },
    {
     "name": "stdout",
     "output_type": "stream",
     "text": [
      "Fitting 5 folds for each of 6 candidates, totalling 30 fits\n",
      "Found best model :{'C': 1.0}\n",
      "-----------------Confusion Matrix-----------------\n"
     ]
    },
    {
     "name": "stderr",
     "output_type": "stream",
     "text": [
      "c:\\users\\entenzahn\\appdata\\local\\programs\\python\\python39\\lib\\site-packages\\sklearn\\metrics\\_classification.py:1318: UndefinedMetricWarning: Precision is ill-defined and being set to 0.0 due to no predicted samples. Use `zero_division` parameter to control this behavior.\n",
      "  _warn_prf(average, modifier, msg_start, len(result))\n"
     ]
    },
    {
     "data": {
      "image/png": "[encoded data removed]",
      "text/plain": [
       "<Figure size 432x288 with 2 Axes>"
      ]
     },
     "metadata": {
      "needs_background": "light"
     },
     "output_type": "display_data"
    },
    {
     "name": "stdout",
     "output_type": "stream",
     "text": [
      "Results for dataset BBC:\n",
      "5% Popularity: {'Accuracy': 0.22123893805309736, 'Balanced_Accuracy': 0.547568710359408, 'Precision': 0.05405405405405406, 'Recall': 0.9090909090909091, 'F1': 0.10204081632653063}\n",
      "25% Popularity: {'Accuracy': 0.7522123893805309, 'Balanced_Accuracy': 0.5, 'Precision': 0.0, 'Recall': 0.0, 'F1': 0.0}\n"
     ]
    }
   ],
   "source": [
    "resBBC = get_results_for_dataset(bbcBreaking, \"BBC\")"
   ]
  },
  {
   "cell_type": "markdown",
   "id": "protective-anniversary",
   "metadata": {},
   "source": [
    "## Results\n",
    "\n",
    "The results seem similar for some of the models, but not very good for most metrics. This is probably due to inconsistencies mentioned above caused by\n",
    "the authors leaving out critical information about the algorithm's hyperparamters and the pre-processing of the dataset.\n",
    "\n",
    "From my guesses I would also say that we don't have a model that fits the\n",
    "data good enough. Maybe it isn't linearily seperable. Henceforth, a simple\n",
    "LinearSVC does not suffice. \n",
    "\n",
    "Another probable issue is the massive imbalance between training and test samples. Test sets are small to begin with, and by labelling the data using\n",
    "only 5% and 25% of the data, we reduce the quantity of popular news to \n",
    "next to nothing. For this reason, most classifiers on 5% seem to just overfit\n",
    "the Unpopular News (label 0) class."
   ]
  },
  {
   "cell_type": "markdown",
   "id": "banner-commerce",
   "metadata": {},
   "source": [
    "# MALSAR Multitask CASO (MTL)\n",
    "\n",
    "Next we try to reproduce the MTL performance measures by using the MALSAR package. Since we work with an external package, we need to split and evaluate the data in a slightly different order. Keep in mind the train/test split is deterministic, and therefore the datasets are comparable to the other methods."
   ]
  },
  {
   "cell_type": "code",
   "execution_count": 27,
   "id": "stainless-protection",
   "metadata": {},
   "outputs": [],
   "source": [
    "cnnTrain, cnnTest = create_train_test_split(cnnBrk)\n",
    "cnnTrain5, cnnTrain25 = produce_binary_labels(cnnTrain)\n",
    "cnnTest5, cnnTest25 = produce_binary_labels(cnnTest)\n",
    "\n",
    "reuTrain, reuTest = create_train_test_split(reutersWorld)\n",
    "reuTrain5, reuTrain25 = produce_binary_labels(reuTrain)\n",
    "reuTest5, reuTest25 = produce_binary_labels(reuTest)\n",
    "\n",
    "bbcTrain, bbcTest = create_train_test_split(bbcBreaking)\n",
    "bbcTrain5, bbcTrain25 = produce_binary_labels(bbcTrain)\n",
    "bbcTest5, bbcTest25 = produce_binary_labels(bbcTest)\n",
    "\n",
    "preTrain, preTest = create_train_test_split(pressTV)\n",
    "preTrain5, preTrain25 = produce_binary_labels(preTrain)\n",
    "preTest5, preTest25 = produce_binary_labels(preTest)"
   ]
  },
  {
   "cell_type": "markdown",
   "id": "powerful-austin",
   "metadata": {},
   "source": [
    "To prepare our data for MATLAB, we must split apart the X and Y matrices for each channel and popularity label type."
   ]
  },
  {
   "cell_type": "code",
   "execution_count": 28,
   "id": "surface-dialogue",
   "metadata": {},
   "outputs": [],
   "source": [
    "def split_xy(df, nm = False):\n",
    "    weight = calculate_weights(df) # where to apply?\n",
    "                                   \n",
    "    df.loc[df.popularity == 0, \"popularity\"] = -1\n",
    "    X = df.drop(\"popularity\", axis=1)\n",
    "    Y = df.popularity\n",
    "    \n",
    "    if nm:\n",
    "        X.to_csv(\"X_\"+nm+\".csv\", header=False, index=False)\n",
    "        Y.to_csv(\"Y_\"+nm+\".csv\", header=False, index=False)\n",
    "        \n",
    "    return X,Y\n",
    "\n",
    "X_cnnTrain25, Y_cnnTrain25 = split_xy(cnnTrain25, 'cnn25')\n",
    "X_reuTrain25, Y_reuTrain25 = split_xy(reuTrain25, 'reu25')\n",
    "X_bbcTrain25, Y_bbcTrain25 = split_xy(bbcTrain25, 'bbc25')\n",
    "X_preTrain25, Y_preTrain25 = split_xy(preTrain25, 'pre25')\n",
    "\n",
    "X_cnnTest25, Y_cnnTest25 = split_xy(cnnTest25)\n",
    "X_reuTest25, Y_reuTest25 = split_xy(reuTest25)\n",
    "X_bbcTest25, Y_bbcTest25 = split_xy(bbcTest25)\n",
    "X_preTest25, Y_preTest25 = split_xy(preTest25)\n",
    "\n",
    "X_cnnTrain5, Y_cnnTrain5 = split_xy(cnnTrain5, 'cnn5')\n",
    "X_reuTrain5, Y_reuTrain5 = split_xy(reuTrain5, 'reu5')\n",
    "X_bbcTrain5, Y_bbcTrain5 = split_xy(bbcTrain5, 'bbc5')\n",
    "X_preTrain5, Y_preTrain5 = split_xy(preTrain5, 'pre5')\n",
    "\n",
    "X_cnnTest5, Y_cnnTest5 = split_xy(cnnTest5)\n",
    "X_reuTest5, Y_reuTest5 = split_xy(reuTest5)\n",
    "X_bbcTest5, Y_bbcTest5 = split_xy(bbcTest5)\n",
    "X_preTest5, Y_preTest5 = split_xy(preTest5)"
   ]
  },
  {
   "cell_type": "markdown",
   "id": "commercial-accused",
   "metadata": {},
   "source": [
    "**Caution:** To proceed, the model parameters should be generated by executing edds.m. Please keep in mind the MALSAR package must be installed as laid out in the manual. For quick re-execution, the model files are already included in the repository.\n",
    "\n",
    "Once the MATLAB module has been executed, the following code will reimport the calculated model coefficients and apply it to our train and test sets for evaluation metrics:"
   ]
  },
  {
   "cell_type": "code",
   "execution_count": 29,
   "id": "funded-flexibility",
   "metadata": {},
   "outputs": [
    {
     "data": {
      "text/html": [
       "<div>\n",
       "<style scoped>\n",
       "    .dataframe tbody tr th:only-of-type {\n",
       "        vertical-align: middle;\n",
       "    }\n",
       "\n",
       "    .dataframe tbody tr th {\n",
       "        vertical-align: top;\n",
       "    }\n",
       "\n",
       "    .dataframe thead th {\n",
       "        text-align: right;\n",
       "    }\n",
       "</style>\n",
       "<table border=\"1\" class=\"dataframe\">\n",
       "  <thead>\n",
       "    <tr style=\"text-align: right;\">\n",
       "      <th>predicted</th>\n",
       "      <th>-1.0</th>\n",
       "      <th>1.0</th>\n",
       "    </tr>\n",
       "    <tr>\n",
       "      <th>original</th>\n",
       "      <th></th>\n",
       "      <th></th>\n",
       "    </tr>\n",
       "  </thead>\n",
       "  <tbody>\n",
       "    <tr>\n",
       "      <th>-1</th>\n",
       "      <td>27966</td>\n",
       "      <td>3533</td>\n",
       "    </tr>\n",
       "    <tr>\n",
       "      <th>1</th>\n",
       "      <td>8618</td>\n",
       "      <td>1881</td>\n",
       "    </tr>\n",
       "  </tbody>\n",
       "</table>\n",
       "</div>"
      ],
      "text/plain": [
       "predicted   -1.0   1.0\n",
       "original              \n",
       "-1         27966  3533\n",
       " 1          8618  1881"
      ]
     },
     "metadata": {},
     "output_type": "display_data"
    },
    {
     "name": "stdout",
     "output_type": "stream",
     "text": [
      "-----------CNN Train25 Confusion Matrix-----------\n"
     ]
    },
    {
     "data": {
      "image/png": "[encoded data removed]",
      "text/plain": [
       "<Figure size 432x288 with 2 Axes>"
      ]
     },
     "metadata": {
      "needs_background": "light"
     },
     "output_type": "display_data"
    },
    {
     "name": "stdout",
     "output_type": "stream",
     "text": [
      "{'Accuracy': 0.7106766988904234, 'Balanced_Accuracy': 0.5334988145630017, 'Precision': 0.34743258219431106, 'Recall': 0.17915991999238023, 'F1': 0.23641048199585246}\n"
     ]
    },
    {
     "data": {
      "text/html": [
       "<div>\n",
       "<style scoped>\n",
       "    .dataframe tbody tr th:only-of-type {\n",
       "        vertical-align: middle;\n",
       "    }\n",
       "\n",
       "    .dataframe tbody tr th {\n",
       "        vertical-align: top;\n",
       "    }\n",
       "\n",
       "    .dataframe thead th {\n",
       "        text-align: right;\n",
       "    }\n",
       "</style>\n",
       "<table border=\"1\" class=\"dataframe\">\n",
       "  <thead>\n",
       "    <tr style=\"text-align: right;\">\n",
       "      <th>predicted</th>\n",
       "      <th>-1.0</th>\n",
       "      <th>1.0</th>\n",
       "    </tr>\n",
       "    <tr>\n",
       "      <th>original</th>\n",
       "      <th></th>\n",
       "      <th></th>\n",
       "    </tr>\n",
       "  </thead>\n",
       "  <tbody>\n",
       "    <tr>\n",
       "      <th>-1</th>\n",
       "      <td>6658</td>\n",
       "      <td>487</td>\n",
       "    </tr>\n",
       "    <tr>\n",
       "      <th>1</th>\n",
       "      <td>802</td>\n",
       "      <td>1579</td>\n",
       "    </tr>\n",
       "  </tbody>\n",
       "</table>\n",
       "</div>"
      ],
      "text/plain": [
       "predicted  -1.0   1.0\n",
       "original             \n",
       "-1         6658   487\n",
       " 1          802  1579"
      ]
     },
     "metadata": {},
     "output_type": "display_data"
    },
    {
     "name": "stdout",
     "output_type": "stream",
     "text": [
      "---------Reuters Train25 Confusion Matrix---------\n"
     ]
    },
    {
     "data": {
      "image/png": "[encoded data removed]",
      "text/plain": [
       "<Figure size 432x288 with 2 Axes>"
      ]
     },
     "metadata": {
      "needs_background": "light"
     },
     "output_type": "display_data"
    },
    {
     "name": "stdout",
     "output_type": "stream",
     "text": [
      "{'Accuracy': 0.8646861221918959, 'Balanced_Accuracy': 0.7975035922654535, 'Precision': 0.7642787996127783, 'Recall': 0.6631667366652667, 'F1': 0.7101416685405891}\n"
     ]
    },
    {
     "data": {
      "text/html": [
       "<div>\n",
       "<style scoped>\n",
       "    .dataframe tbody tr th:only-of-type {\n",
       "        vertical-align: middle;\n",
       "    }\n",
       "\n",
       "    .dataframe tbody tr th {\n",
       "        vertical-align: top;\n",
       "    }\n",
       "\n",
       "    .dataframe thead th {\n",
       "        text-align: right;\n",
       "    }\n",
       "</style>\n",
       "<table border=\"1\" class=\"dataframe\">\n",
       "  <thead>\n",
       "    <tr style=\"text-align: right;\">\n",
       "      <th>predicted</th>\n",
       "      <th>-1.0</th>\n",
       "      <th>1.0</th>\n",
       "    </tr>\n",
       "    <tr>\n",
       "      <th>original</th>\n",
       "      <th></th>\n",
       "      <th></th>\n",
       "    </tr>\n",
       "  </thead>\n",
       "  <tbody>\n",
       "    <tr>\n",
       "      <th>-1</th>\n",
       "      <td>1120</td>\n",
       "      <td>89</td>\n",
       "    </tr>\n",
       "    <tr>\n",
       "      <th>1</th>\n",
       "      <td>193</td>\n",
       "      <td>210</td>\n",
       "    </tr>\n",
       "  </tbody>\n",
       "</table>\n",
       "</div>"
      ],
      "text/plain": [
       "predicted  -1.0   1.0\n",
       "original             \n",
       "-1         1120    89\n",
       " 1          193   210"
      ]
     },
     "metadata": {},
     "output_type": "display_data"
    },
    {
     "name": "stdout",
     "output_type": "stream",
     "text": [
      "-----------BBC Train25 Confusion Matrix-----------\n"
     ]
    },
    {
     "data": {
      "image/png": "[encoded data removed]",
      "text/plain": [
       "<Figure size 432x288 with 2 Axes>"
      ]
     },
     "metadata": {
      "needs_background": "light"
     },
     "output_type": "display_data"
    },
    {
     "name": "stdout",
     "output_type": "stream",
     "text": [
      "{'Accuracy': 0.825062034739454, 'Balanced_Accuracy': 0.7237386269644335, 'Precision': 0.7023411371237458, 'Recall': 0.5210918114143921, 'F1': 0.5982905982905983}\n"
     ]
    },
    {
     "data": {
      "text/html": [
       "<div>\n",
       "<style scoped>\n",
       "    .dataframe tbody tr th:only-of-type {\n",
       "        vertical-align: middle;\n",
       "    }\n",
       "\n",
       "    .dataframe tbody tr th {\n",
       "        vertical-align: top;\n",
       "    }\n",
       "\n",
       "    .dataframe thead th {\n",
       "        text-align: right;\n",
       "    }\n",
       "</style>\n",
       "<table border=\"1\" class=\"dataframe\">\n",
       "  <thead>\n",
       "    <tr style=\"text-align: right;\">\n",
       "      <th>predicted</th>\n",
       "      <th>-1.0</th>\n",
       "      <th>1.0</th>\n",
       "    </tr>\n",
       "    <tr>\n",
       "      <th>original</th>\n",
       "      <th></th>\n",
       "      <th></th>\n",
       "    </tr>\n",
       "  </thead>\n",
       "  <tbody>\n",
       "    <tr>\n",
       "      <th>-1</th>\n",
       "      <td>4982</td>\n",
       "      <td>23</td>\n",
       "    </tr>\n",
       "    <tr>\n",
       "      <th>1</th>\n",
       "      <td>1604</td>\n",
       "      <td>64</td>\n",
       "    </tr>\n",
       "  </tbody>\n",
       "</table>\n",
       "</div>"
      ],
      "text/plain": [
       "predicted  -1.0   1.0\n",
       "original             \n",
       "-1         4982    23\n",
       " 1         1604    64"
      ]
     },
     "metadata": {},
     "output_type": "display_data"
    },
    {
     "name": "stdout",
     "output_type": "stream",
     "text": [
      "---------PressTV Train25 Confusion Matrix---------\n"
     ]
    },
    {
     "data": {
      "image/png": "[encoded data removed]",
      "text/plain": [
       "<Figure size 432x288 with 2 Axes>"
      ]
     },
     "metadata": {
      "needs_background": "light"
     },
     "output_type": "display_data"
    },
    {
     "name": "stdout",
     "output_type": "stream",
     "text": [
      "{'Accuracy': 0.7561816274539188, 'Balanced_Accuracy': 0.5168869499804751, 'Precision': 0.735632183908046, 'Recall': 0.03836930455635491, 'F1': 0.07293447293447293}\n"
     ]
    },
    {
     "data": {
      "text/html": [
       "<div>\n",
       "<style scoped>\n",
       "    .dataframe tbody tr th:only-of-type {\n",
       "        vertical-align: middle;\n",
       "    }\n",
       "\n",
       "    .dataframe tbody tr th {\n",
       "        vertical-align: top;\n",
       "    }\n",
       "\n",
       "    .dataframe thead th {\n",
       "        text-align: right;\n",
       "    }\n",
       "</style>\n",
       "<table border=\"1\" class=\"dataframe\">\n",
       "  <thead>\n",
       "    <tr style=\"text-align: right;\">\n",
       "      <th>predicted</th>\n",
       "      <th>-1.0</th>\n",
       "      <th>1.0</th>\n",
       "    </tr>\n",
       "    <tr>\n",
       "      <th>original</th>\n",
       "      <th></th>\n",
       "      <th></th>\n",
       "    </tr>\n",
       "  </thead>\n",
       "  <tbody>\n",
       "    <tr>\n",
       "      <th>-1</th>\n",
       "      <td>1</td>\n",
       "      <td>4854</td>\n",
       "    </tr>\n",
       "    <tr>\n",
       "      <th>1</th>\n",
       "      <td>0</td>\n",
       "      <td>1618</td>\n",
       "    </tr>\n",
       "  </tbody>\n",
       "</table>\n",
       "</div>"
      ],
      "text/plain": [
       "predicted  -1.0   1.0\n",
       "original             \n",
       "-1            1  4854\n",
       " 1            0  1618"
      ]
     },
     "metadata": {},
     "output_type": "display_data"
    },
    {
     "name": "stdout",
     "output_type": "stream",
     "text": [
      "-----------CNN Test25 Confusion Matrix------------\n"
     ]
    },
    {
     "data": {
      "image/png": "[encoded data removed]",
      "text/plain": [
       "<Figure size 432x288 with 2 Axes>"
      ]
     },
     "metadata": {
      "needs_background": "light"
     },
     "output_type": "display_data"
    },
    {
     "name": "stdout",
     "output_type": "stream",
     "text": [
      "{'Accuracy': 0.2501158659045265, 'Balanced_Accuracy': 0.5001029866117405, 'Precision': 0.25, 'Recall': 1.0, 'F1': 0.4}\n"
     ]
    },
    {
     "data": {
      "text/html": [
       "<div>\n",
       "<style scoped>\n",
       "    .dataframe tbody tr th:only-of-type {\n",
       "        vertical-align: middle;\n",
       "    }\n",
       "\n",
       "    .dataframe tbody tr th {\n",
       "        vertical-align: top;\n",
       "    }\n",
       "\n",
       "    .dataframe thead th {\n",
       "        text-align: right;\n",
       "    }\n",
       "</style>\n",
       "<table border=\"1\" class=\"dataframe\">\n",
       "  <thead>\n",
       "    <tr style=\"text-align: right;\">\n",
       "      <th>predicted</th>\n",
       "      <th>1.0</th>\n",
       "    </tr>\n",
       "    <tr>\n",
       "      <th>original</th>\n",
       "      <th></th>\n",
       "    </tr>\n",
       "  </thead>\n",
       "  <tbody>\n",
       "    <tr>\n",
       "      <th>-1</th>\n",
       "      <td>1336</td>\n",
       "    </tr>\n",
       "    <tr>\n",
       "      <th>1</th>\n",
       "      <td>445</td>\n",
       "    </tr>\n",
       "  </tbody>\n",
       "</table>\n",
       "</div>"
      ],
      "text/plain": [
       "predicted   1.0\n",
       "original       \n",
       "-1         1336\n",
       " 1          445"
      ]
     },
     "metadata": {},
     "output_type": "display_data"
    },
    {
     "name": "stdout",
     "output_type": "stream",
     "text": [
      "---------Reuters Test25 Confusion Matrix----------\n"
     ]
    },
    {
     "data": {
      "image/png": "[encoded data removed]",
      "text/plain": [
       "<Figure size 432x288 with 2 Axes>"
      ]
     },
     "metadata": {
      "needs_background": "light"
     },
     "output_type": "display_data"
    },
    {
     "name": "stdout",
     "output_type": "stream",
     "text": [
      "{'Accuracy': 0.24985962942167322, 'Balanced_Accuracy': 0.5, 'Precision': 0.24985962942167322, 'Recall': 1.0, 'F1': 0.3998203054806828}\n"
     ]
    },
    {
     "data": {
      "text/html": [
       "<div>\n",
       "<style scoped>\n",
       "    .dataframe tbody tr th:only-of-type {\n",
       "        vertical-align: middle;\n",
       "    }\n",
       "\n",
       "    .dataframe tbody tr th {\n",
       "        vertical-align: top;\n",
       "    }\n",
       "\n",
       "    .dataframe thead th {\n",
       "        text-align: right;\n",
       "    }\n",
       "</style>\n",
       "<table border=\"1\" class=\"dataframe\">\n",
       "  <thead>\n",
       "    <tr style=\"text-align: right;\">\n",
       "      <th>predicted</th>\n",
       "      <th>1.0</th>\n",
       "    </tr>\n",
       "    <tr>\n",
       "      <th>original</th>\n",
       "      <th></th>\n",
       "    </tr>\n",
       "  </thead>\n",
       "  <tbody>\n",
       "    <tr>\n",
       "      <th>-1</th>\n",
       "      <td>170</td>\n",
       "    </tr>\n",
       "    <tr>\n",
       "      <th>1</th>\n",
       "      <td>56</td>\n",
       "    </tr>\n",
       "  </tbody>\n",
       "</table>\n",
       "</div>"
      ],
      "text/plain": [
       "predicted  1.0\n",
       "original      \n",
       "-1         170\n",
       " 1          56"
      ]
     },
     "metadata": {},
     "output_type": "display_data"
    },
    {
     "name": "stdout",
     "output_type": "stream",
     "text": [
      "-----------BBC Test25 Confusion Matrix------------\n"
     ]
    },
    {
     "data": {
      "image/png": "[encoded data removed]",
      "text/plain": [
       "<Figure size 432x288 with 2 Axes>"
      ]
     },
     "metadata": {
      "needs_background": "light"
     },
     "output_type": "display_data"
    },
    {
     "name": "stdout",
     "output_type": "stream",
     "text": [
      "{'Accuracy': 0.24778761061946902, 'Balanced_Accuracy': 0.5, 'Precision': 0.24778761061946902, 'Recall': 1.0, 'F1': 0.3971631205673759}\n"
     ]
    },
    {
     "data": {
      "text/html": [
       "<div>\n",
       "<style scoped>\n",
       "    .dataframe tbody tr th:only-of-type {\n",
       "        vertical-align: middle;\n",
       "    }\n",
       "\n",
       "    .dataframe tbody tr th {\n",
       "        vertical-align: top;\n",
       "    }\n",
       "\n",
       "    .dataframe thead th {\n",
       "        text-align: right;\n",
       "    }\n",
       "</style>\n",
       "<table border=\"1\" class=\"dataframe\">\n",
       "  <thead>\n",
       "    <tr style=\"text-align: right;\">\n",
       "      <th>predicted</th>\n",
       "      <th>-1.0</th>\n",
       "      <th>1.0</th>\n",
       "    </tr>\n",
       "    <tr>\n",
       "      <th>original</th>\n",
       "      <th></th>\n",
       "      <th></th>\n",
       "    </tr>\n",
       "  </thead>\n",
       "  <tbody>\n",
       "    <tr>\n",
       "      <th>-1</th>\n",
       "      <td>863</td>\n",
       "      <td>28</td>\n",
       "    </tr>\n",
       "    <tr>\n",
       "      <th>1</th>\n",
       "      <td>212</td>\n",
       "      <td>84</td>\n",
       "    </tr>\n",
       "  </tbody>\n",
       "</table>\n",
       "</div>"
      ],
      "text/plain": [
       "predicted  -1.0   1.0\n",
       "original             \n",
       "-1          863    28\n",
       " 1          212    84"
      ]
     },
     "metadata": {},
     "output_type": "display_data"
    },
    {
     "name": "stdout",
     "output_type": "stream",
     "text": [
      "---------PressTV Test25 Confusion Matrix----------\n"
     ]
    },
    {
     "data": {
      "image/png": "[encoded data removed]",
      "text/plain": [
       "<Figure size 432x288 with 2 Axes>"
      ]
     },
     "metadata": {
      "needs_background": "light"
     },
     "output_type": "display_data"
    },
    {
     "name": "stdout",
     "output_type": "stream",
     "text": [
      "{'Accuracy': 0.797809604043808, 'Balanced_Accuracy': 0.6261792095125429, 'Precision': 0.75, 'Recall': 0.28378378378378377, 'F1': 0.4117647058823529}\n"
     ]
    },
    {
     "data": {
      "text/html": [
       "<div>\n",
       "<style scoped>\n",
       "    .dataframe tbody tr th:only-of-type {\n",
       "        vertical-align: middle;\n",
       "    }\n",
       "\n",
       "    .dataframe tbody tr th {\n",
       "        vertical-align: top;\n",
       "    }\n",
       "\n",
       "    .dataframe thead th {\n",
       "        text-align: right;\n",
       "    }\n",
       "</style>\n",
       "<table border=\"1\" class=\"dataframe\">\n",
       "  <thead>\n",
       "    <tr style=\"text-align: right;\">\n",
       "      <th>predicted</th>\n",
       "      <th>-1.0</th>\n",
       "      <th>1.0</th>\n",
       "    </tr>\n",
       "    <tr>\n",
       "      <th>original</th>\n",
       "      <th></th>\n",
       "      <th></th>\n",
       "    </tr>\n",
       "  </thead>\n",
       "  <tbody>\n",
       "    <tr>\n",
       "      <th>-1</th>\n",
       "      <td>39899</td>\n",
       "      <td>0</td>\n",
       "    </tr>\n",
       "    <tr>\n",
       "      <th>1</th>\n",
       "      <td>2095</td>\n",
       "      <td>4</td>\n",
       "    </tr>\n",
       "  </tbody>\n",
       "</table>\n",
       "</div>"
      ],
      "text/plain": [
       "predicted   -1.0   1.0\n",
       "original              \n",
       "-1         39899     0\n",
       " 1          2095     4"
      ]
     },
     "metadata": {},
     "output_type": "display_data"
    },
    {
     "name": "stdout",
     "output_type": "stream",
     "text": [
      "-----------CNN Train5 Confusion Matrix------------\n"
     ]
    },
    {
     "data": {
      "image/png": "[encoded data removed]",
      "text/plain": [
       "<Figure size 432x288 with 2 Axes>"
      ]
     },
     "metadata": {
      "needs_background": "light"
     },
     "output_type": "display_data"
    },
    {
     "name": "stdout",
     "output_type": "stream",
     "text": [
      "{'Accuracy': 0.9501166722224867, 'Balanced_Accuracy': 0.5009528346831824, 'Precision': 1.0, 'Recall': 0.0019056693663649356, 'F1': 0.0038040893961008085}\n"
     ]
    },
    {
     "data": {
      "text/html": [
       "<div>\n",
       "<style scoped>\n",
       "    .dataframe tbody tr th:only-of-type {\n",
       "        vertical-align: middle;\n",
       "    }\n",
       "\n",
       "    .dataframe tbody tr th {\n",
       "        vertical-align: top;\n",
       "    }\n",
       "\n",
       "    .dataframe thead th {\n",
       "        text-align: right;\n",
       "    }\n",
       "</style>\n",
       "<table border=\"1\" class=\"dataframe\">\n",
       "  <thead>\n",
       "    <tr style=\"text-align: right;\">\n",
       "      <th>predicted</th>\n",
       "      <th>-1.0</th>\n",
       "      <th>1.0</th>\n",
       "    </tr>\n",
       "    <tr>\n",
       "      <th>original</th>\n",
       "      <th></th>\n",
       "      <th></th>\n",
       "    </tr>\n",
       "  </thead>\n",
       "  <tbody>\n",
       "    <tr>\n",
       "      <th>-1</th>\n",
       "      <td>9049</td>\n",
       "      <td>1</td>\n",
       "    </tr>\n",
       "    <tr>\n",
       "      <th>1</th>\n",
       "      <td>109</td>\n",
       "      <td>367</td>\n",
       "    </tr>\n",
       "  </tbody>\n",
       "</table>\n",
       "</div>"
      ],
      "text/plain": [
       "predicted  -1.0   1.0\n",
       "original             \n",
       "-1         9049     1\n",
       " 1          109   367"
      ]
     },
     "metadata": {},
     "output_type": "display_data"
    },
    {
     "name": "stdout",
     "output_type": "stream",
     "text": [
      "---------Reuters Train5 Confusion Matrix----------\n"
     ]
    },
    {
     "data": {
      "image/png": "[encoded data removed]",
      "text/plain": [
       "<Figure size 432x288 with 2 Axes>"
      ]
     },
     "metadata": {
      "needs_background": "light"
     },
     "output_type": "display_data"
    },
    {
     "name": "stdout",
     "output_type": "stream",
     "text": [
      "{'Accuracy': 0.9884526558891455, 'Balanced_Accuracy': 0.8854489530618878, 'Precision': 0.9972826086956522, 'Recall': 0.7710084033613446, 'F1': 0.8696682464454977}\n"
     ]
    },
    {
     "data": {
      "text/html": [
       "<div>\n",
       "<style scoped>\n",
       "    .dataframe tbody tr th:only-of-type {\n",
       "        vertical-align: middle;\n",
       "    }\n",
       "\n",
       "    .dataframe tbody tr th {\n",
       "        vertical-align: top;\n",
       "    }\n",
       "\n",
       "    .dataframe thead th {\n",
       "        text-align: right;\n",
       "    }\n",
       "</style>\n",
       "<table border=\"1\" class=\"dataframe\">\n",
       "  <thead>\n",
       "    <tr style=\"text-align: right;\">\n",
       "      <th>predicted</th>\n",
       "      <th>-1.0</th>\n",
       "      <th>1.0</th>\n",
       "    </tr>\n",
       "    <tr>\n",
       "      <th>original</th>\n",
       "      <th></th>\n",
       "      <th></th>\n",
       "    </tr>\n",
       "  </thead>\n",
       "  <tbody>\n",
       "    <tr>\n",
       "      <th>-1</th>\n",
       "      <td>1532</td>\n",
       "      <td>0</td>\n",
       "    </tr>\n",
       "    <tr>\n",
       "      <th>1</th>\n",
       "      <td>38</td>\n",
       "      <td>42</td>\n",
       "    </tr>\n",
       "  </tbody>\n",
       "</table>\n",
       "</div>"
      ],
      "text/plain": [
       "predicted  -1.0   1.0\n",
       "original             \n",
       "-1         1532     0\n",
       " 1           38    42"
      ]
     },
     "metadata": {},
     "output_type": "display_data"
    },
    {
     "name": "stdout",
     "output_type": "stream",
     "text": [
      "-----------BBC Train5 Confusion Matrix------------\n"
     ]
    },
    {
     "data": {
      "image/png": "[encoded data removed]",
      "text/plain": [
       "<Figure size 432x288 with 2 Axes>"
      ]
     },
     "metadata": {
      "needs_background": "light"
     },
     "output_type": "display_data"
    },
    {
     "name": "stdout",
     "output_type": "stream",
     "text": [
      "{'Accuracy': 0.9764267990074442, 'Balanced_Accuracy': 0.7625, 'Precision': 1.0, 'Recall': 0.525, 'F1': 0.6885245901639345}\n"
     ]
    },
    {
     "data": {
      "text/html": [
       "<div>\n",
       "<style scoped>\n",
       "    .dataframe tbody tr th:only-of-type {\n",
       "        vertical-align: middle;\n",
       "    }\n",
       "\n",
       "    .dataframe tbody tr th {\n",
       "        vertical-align: top;\n",
       "    }\n",
       "\n",
       "    .dataframe thead th {\n",
       "        text-align: right;\n",
       "    }\n",
       "</style>\n",
       "<table border=\"1\" class=\"dataframe\">\n",
       "  <thead>\n",
       "    <tr style=\"text-align: right;\">\n",
       "      <th>predicted</th>\n",
       "      <th>-1.0</th>\n",
       "      <th>1.0</th>\n",
       "    </tr>\n",
       "    <tr>\n",
       "      <th>original</th>\n",
       "      <th></th>\n",
       "      <th></th>\n",
       "    </tr>\n",
       "  </thead>\n",
       "  <tbody>\n",
       "    <tr>\n",
       "      <th>-1</th>\n",
       "      <td>6339</td>\n",
       "      <td>1</td>\n",
       "    </tr>\n",
       "    <tr>\n",
       "      <th>1</th>\n",
       "      <td>46</td>\n",
       "      <td>287</td>\n",
       "    </tr>\n",
       "  </tbody>\n",
       "</table>\n",
       "</div>"
      ],
      "text/plain": [
       "predicted  -1.0   1.0\n",
       "original             \n",
       "-1         6339     1\n",
       " 1           46   287"
      ]
     },
     "metadata": {},
     "output_type": "display_data"
    },
    {
     "name": "stdout",
     "output_type": "stream",
     "text": [
      "---------PressTV Train5 Confusion Matrix----------\n"
     ]
    },
    {
     "data": {
      "image/png": "[encoded data removed]",
      "text/plain": [
       "<Figure size 432x288 with 2 Axes>"
      ]
     },
     "metadata": {
      "needs_background": "light"
     },
     "output_type": "display_data"
    },
    {
     "name": "stdout",
     "output_type": "stream",
     "text": [
      "{'Accuracy': 0.9929566911434138, 'Balanced_Accuracy': 0.9308520665776187, 'Precision': 0.9965277777777778, 'Recall': 0.8618618618618619, 'F1': 0.9243156199677939}\n"
     ]
    },
    {
     "data": {
      "text/html": [
       "<div>\n",
       "<style scoped>\n",
       "    .dataframe tbody tr th:only-of-type {\n",
       "        vertical-align: middle;\n",
       "    }\n",
       "\n",
       "    .dataframe tbody tr th {\n",
       "        vertical-align: top;\n",
       "    }\n",
       "\n",
       "    .dataframe thead th {\n",
       "        text-align: right;\n",
       "    }\n",
       "</style>\n",
       "<table border=\"1\" class=\"dataframe\">\n",
       "  <thead>\n",
       "    <tr style=\"text-align: right;\">\n",
       "      <th>predicted</th>\n",
       "      <th>-1.0</th>\n",
       "      <th>1.0</th>\n",
       "    </tr>\n",
       "    <tr>\n",
       "      <th>original</th>\n",
       "      <th></th>\n",
       "      <th></th>\n",
       "    </tr>\n",
       "  </thead>\n",
       "  <tbody>\n",
       "    <tr>\n",
       "      <th>-1</th>\n",
       "      <td>6138</td>\n",
       "      <td>12</td>\n",
       "    </tr>\n",
       "    <tr>\n",
       "      <th>1</th>\n",
       "      <td>309</td>\n",
       "      <td>14</td>\n",
       "    </tr>\n",
       "  </tbody>\n",
       "</table>\n",
       "</div>"
      ],
      "text/plain": [
       "predicted  -1.0   1.0\n",
       "original             \n",
       "-1         6138    12\n",
       " 1          309    14"
      ]
     },
     "metadata": {},
     "output_type": "display_data"
    },
    {
     "name": "stdout",
     "output_type": "stream",
     "text": [
      "------------CNN Test5 Confusion Matrix------------\n"
     ]
    },
    {
     "data": {
      "image/png": "[encoded data removed]",
      "text/plain": [
       "<Figure size 432x288 with 2 Axes>"
      ]
     },
     "metadata": {
      "needs_background": "light"
     },
     "output_type": "display_data"
    },
    {
     "name": "stdout",
     "output_type": "stream",
     "text": [
      "{'Accuracy': 0.9504093928626602, 'Balanced_Accuracy': 0.5206962168692895, 'Precision': 0.5384615384615384, 'Recall': 0.043343653250773995, 'F1': 0.08022922636103152}\n"
     ]
    },
    {
     "data": {
      "text/html": [
       "<div>\n",
       "<style scoped>\n",
       "    .dataframe tbody tr th:only-of-type {\n",
       "        vertical-align: middle;\n",
       "    }\n",
       "\n",
       "    .dataframe tbody tr th {\n",
       "        vertical-align: top;\n",
       "    }\n",
       "\n",
       "    .dataframe thead th {\n",
       "        text-align: right;\n",
       "    }\n",
       "</style>\n",
       "<table border=\"1\" class=\"dataframe\">\n",
       "  <thead>\n",
       "    <tr style=\"text-align: right;\">\n",
       "      <th>predicted</th>\n",
       "      <th>-1.0</th>\n",
       "      <th>1.0</th>\n",
       "    </tr>\n",
       "    <tr>\n",
       "      <th>original</th>\n",
       "      <th></th>\n",
       "      <th></th>\n",
       "    </tr>\n",
       "  </thead>\n",
       "  <tbody>\n",
       "    <tr>\n",
       "      <th>-1</th>\n",
       "      <td>1415</td>\n",
       "      <td>277</td>\n",
       "    </tr>\n",
       "    <tr>\n",
       "      <th>1</th>\n",
       "      <td>0</td>\n",
       "      <td>89</td>\n",
       "    </tr>\n",
       "  </tbody>\n",
       "</table>\n",
       "</div>"
      ],
      "text/plain": [
       "predicted  -1.0   1.0\n",
       "original             \n",
       "-1         1415   277\n",
       " 1            0    89"
      ]
     },
     "metadata": {},
     "output_type": "display_data"
    },
    {
     "name": "stdout",
     "output_type": "stream",
     "text": [
      "----------Reuters Test5 Confusion Matrix----------\n"
     ]
    },
    {
     "data": {
      "image/png": "[encoded data removed]",
      "text/plain": [
       "<Figure size 432x288 with 2 Axes>"
      ]
     },
     "metadata": {
      "needs_background": "light"
     },
     "output_type": "display_data"
    },
    {
     "name": "stdout",
     "output_type": "stream",
     "text": [
      "{'Accuracy': 0.8444693992139247, 'Balanced_Accuracy': 0.918144208037825, 'Precision': 0.24316939890710382, 'Recall': 1.0, 'F1': 0.3912087912087912}\n"
     ]
    },
    {
     "data": {
      "text/html": [
       "<div>\n",
       "<style scoped>\n",
       "    .dataframe tbody tr th:only-of-type {\n",
       "        vertical-align: middle;\n",
       "    }\n",
       "\n",
       "    .dataframe tbody tr th {\n",
       "        vertical-align: top;\n",
       "    }\n",
       "\n",
       "    .dataframe thead th {\n",
       "        text-align: right;\n",
       "    }\n",
       "</style>\n",
       "<table border=\"1\" class=\"dataframe\">\n",
       "  <thead>\n",
       "    <tr style=\"text-align: right;\">\n",
       "      <th>predicted</th>\n",
       "      <th>-1.0</th>\n",
       "      <th>1.0</th>\n",
       "    </tr>\n",
       "    <tr>\n",
       "      <th>original</th>\n",
       "      <th></th>\n",
       "      <th></th>\n",
       "    </tr>\n",
       "  </thead>\n",
       "  <tbody>\n",
       "    <tr>\n",
       "      <th>-1</th>\n",
       "      <td>174</td>\n",
       "      <td>41</td>\n",
       "    </tr>\n",
       "    <tr>\n",
       "      <th>1</th>\n",
       "      <td>4</td>\n",
       "      <td>7</td>\n",
       "    </tr>\n",
       "  </tbody>\n",
       "</table>\n",
       "</div>"
      ],
      "text/plain": [
       "predicted  -1.0   1.0\n",
       "original             \n",
       "-1          174    41\n",
       " 1            4     7"
      ]
     },
     "metadata": {},
     "output_type": "display_data"
    },
    {
     "name": "stdout",
     "output_type": "stream",
     "text": [
      "------------BBC Test5 Confusion Matrix------------\n"
     ]
    },
    {
     "data": {
      "image/png": "[encoded data removed]",
      "text/plain": [
       "<Figure size 432x288 with 2 Axes>"
      ]
     },
     "metadata": {
      "needs_background": "light"
     },
     "output_type": "display_data"
    },
    {
     "name": "stdout",
     "output_type": "stream",
     "text": [
      "{'Accuracy': 0.8008849557522124, 'Balanced_Accuracy': 0.7228329809725158, 'Precision': 0.14583333333333334, 'Recall': 0.6363636363636364, 'F1': 0.23728813559322035}\n"
     ]
    },
    {
     "data": {
      "text/html": [
       "<div>\n",
       "<style scoped>\n",
       "    .dataframe tbody tr th:only-of-type {\n",
       "        vertical-align: middle;\n",
       "    }\n",
       "\n",
       "    .dataframe tbody tr th {\n",
       "        vertical-align: top;\n",
       "    }\n",
       "\n",
       "    .dataframe thead th {\n",
       "        text-align: right;\n",
       "    }\n",
       "</style>\n",
       "<table border=\"1\" class=\"dataframe\">\n",
       "  <thead>\n",
       "    <tr style=\"text-align: right;\">\n",
       "      <th>predicted</th>\n",
       "      <th>-1.0</th>\n",
       "      <th>1.0</th>\n",
       "    </tr>\n",
       "    <tr>\n",
       "      <th>original</th>\n",
       "      <th></th>\n",
       "      <th></th>\n",
       "    </tr>\n",
       "  </thead>\n",
       "  <tbody>\n",
       "    <tr>\n",
       "      <th>-1</th>\n",
       "      <td>1128</td>\n",
       "      <td>0</td>\n",
       "    </tr>\n",
       "    <tr>\n",
       "      <th>1</th>\n",
       "      <td>53</td>\n",
       "      <td>6</td>\n",
       "    </tr>\n",
       "  </tbody>\n",
       "</table>\n",
       "</div>"
      ],
      "text/plain": [
       "predicted  -1.0   1.0\n",
       "original             \n",
       "-1         1128     0\n",
       " 1           53     6"
      ]
     },
     "metadata": {},
     "output_type": "display_data"
    },
    {
     "name": "stdout",
     "output_type": "stream",
     "text": [
      "----------PressTV Test5 Confusion Matrix----------\n"
     ]
    },
    {
     "data": {
      "image/png": "[encoded data removed]",
      "text/plain": [
       "<Figure size 432x288 with 2 Axes>"
      ]
     },
     "metadata": {
      "needs_background": "light"
     },
     "output_type": "display_data"
    },
    {
     "name": "stdout",
     "output_type": "stream",
     "text": [
      "{'Accuracy': 0.9553496208930076, 'Balanced_Accuracy': 0.5508474576271186, 'Precision': 1.0, 'Recall': 0.1016949152542373, 'F1': 0.18461538461538463}\n"
     ]
    }
   ],
   "source": [
    "def calculate_metrics_for_model(res_df, nm): \n",
    "    test_accuracy = accuracy_score(res_df.original, res_df.predicted)\n",
    "    test_balanced_acc = balanced_accuracy_score(res_df.original, res_df.predicted)\n",
    "    test_f1 = f1_score(res_df.original, res_df.predicted)\n",
    "    test_precision = precision_score(res_df.original, res_df.predicted)\n",
    "    test_recall = recall_score(res_df.original, res_df.predicted)\n",
    "\n",
    "    print((nm+\" Confusion Matrix\").center(50,\"-\"))\n",
    "    cm = confusion_matrix(res_df.original, res_df.predicted)\n",
    "    ConfusionMatrixDisplay(cm).plot()\n",
    "    plt.show()\n",
    "\n",
    "    print({\"Accuracy\" : test_accuracy, \"Balanced_Accuracy\": test_balanced_acc, \n",
    "          \"Precision\": test_precision, \"Recall\": test_recall, \"F1\": test_f1})\n",
    "\n",
    "def evaluate_mlt(X, Y, W, c, i, nm):\n",
    "    \n",
    "    X = X.copy()\n",
    "    X.columns = range(0,X.shape[1])\n",
    "    res = np.sign(X.dot(W[i]) + c[i])\n",
    "\n",
    "    #display(res)\n",
    "    df_res = pd.DataFrame(data={'original':Y,'predicted':res})\n",
    "    #display(df_res.loc[df_res[\"original\"]==1,:])\n",
    "    #display(df_res.loc[df_res[\"original\"]==-1,:])\n",
    "    \n",
    "    display(pd.crosstab(df_res[\"original\"], df_res[\"predicted\"]))\n",
    "    \n",
    "    calculate_metrics_for_model(df_res, nm)\n",
    "    \n",
    "\n",
    "W = pd.read_csv('train_w25.csv',header=None)\n",
    "c = np.genfromtxt('train_c25.csv',delimiter=',')\n",
    "    \n",
    "evaluate_mlt(X_cnnTrain25, Y_cnnTrain25, W, c, 0, 'CNN Train25')\n",
    "evaluate_mlt(X_reuTrain25, Y_reuTrain25, W, c, 1, 'Reuters Train25')\n",
    "evaluate_mlt(X_bbcTrain25, Y_bbcTrain25, W, c, 2, 'BBC Train25')\n",
    "evaluate_mlt(X_preTrain25, Y_preTrain25, W, c, 3, 'PressTV Train25')\n",
    "\n",
    "evaluate_mlt(X_cnnTest25, Y_cnnTest25, W, c, 0, 'CNN Test25')\n",
    "evaluate_mlt(X_reuTest25, Y_reuTest25, W, c, 1, 'Reuters Test25')\n",
    "evaluate_mlt(X_bbcTest25, Y_bbcTest25, W, c, 2, 'BBC Test25')\n",
    "evaluate_mlt(X_preTest25, Y_preTest25, W, c, 3, 'PressTV Test25')\n",
    "\n",
    "W = pd.read_csv('train_w5.csv',header=None)\n",
    "c = np.genfromtxt('train_c5.csv',delimiter=',')\n",
    "\n",
    "evaluate_mlt(X_cnnTrain5, Y_cnnTrain5, W, c, 0, 'CNN Train5')\n",
    "evaluate_mlt(X_reuTrain5, Y_reuTrain5, W, c, 1, 'Reuters Train5')\n",
    "evaluate_mlt(X_bbcTrain5, Y_bbcTrain5, W, c, 2, 'BBC Train5')\n",
    "evaluate_mlt(X_preTrain5, Y_preTrain5, W, c, 3, 'PressTV Train5')\n",
    "\n",
    "evaluate_mlt(X_cnnTest5, Y_cnnTest5, W, c, 0, 'CNN Test5')\n",
    "evaluate_mlt(X_reuTest5, Y_reuTest5, W, c, 1, 'Reuters Test5')\n",
    "evaluate_mlt(X_bbcTest5, Y_bbcTest5, W, c, 2, 'BBC Test5')\n",
    "evaluate_mlt(X_preTest5, Y_preTest5, W, c, 3, 'PressTV Test5')"
   ]
  },
  {
   "cell_type": "markdown",
   "id": "tracked-memorabilia",
   "metadata": {},
   "source": [
    "# SVM Full model (STL-All)\n",
    "\n",
    "Within this chapter the single task learning model, **STL-All** (SVM classifier trained on all the data from all channels) is implemented based on the Paper Analyzing and Predicting News Popularity in an Instant Messaging Service. It is checked whether or not the implementation and the results reported in the paper are reproducible and what information might be missing or wrong.\n",
    "\n",
    "Note that preprocessing needs to be slightly adapted to include channel name and standardize on a per-channel basis. Resulting datasets are therefore comparable to STL and MALSAR."
   ]
  },
  {
   "cell_type": "code",
   "execution_count": 30,
   "id": "aboriginal-louis",
   "metadata": {},
   "outputs": [],
   "source": [
    "def add_channel(df, channel):\n",
    "    df['channel']=channel\n",
    "    return df\n",
    "\n",
    "\n",
    "def create_df_for_bson(path, channel):\n",
    "  with open (path, 'rb') as f:\n",
    "    data = bson.decode_all(f.read())\n",
    "\n",
    "  df = pd.DataFrame(data)\n",
    "  df = handle_NAS(df)\n",
    "  df = extract_features(df)\n",
    "  df = cut_date_range(df)\n",
    "  df = drop_unused_features(df)\n",
    "  df = add_channel(df, channel)\n",
    "  return df\n",
    "\n",
    "\n",
    "# keep needed features, more flexible as different datasets contain different features\n",
    "def drop_unused_features(df):\n",
    "  return df.drop(df.columns.difference(['age', 'date', 'year', 'month', 'day', 'weekday', \n",
    "                          'hour', 'minViews', 'maxViews', 'meanViews', 'stdViews',\n",
    "                          'hasMedia', 'mediaType', 'hasLink', 'mentions', 'hashtags', 'views']),axis=1)\n",
    "\n",
    " \n",
    "reutersWorld = create_df_for_bson('./TelegramNews/mongo/telegram/ReutersWorld.bson', 'reutersWorld')\n",
    "cnnBrk = create_df_for_bson('./TelegramNews/mongo/telegram/CNNBrk.bson', 'cnnBrk')\n",
    "pressTV = create_df_for_bson('./TelegramNews/mongo/telegram/presstv.bson', 'pressTV')\n",
    "bbcBreaking = create_df_for_bson('./TelegramNews/mongo/telegram/bbcbreaking.bson', 'bbc')\n",
    "bbcPersian = create_df_for_bson('./TelegramNews/mongo/telegram/bbcpersian.bson', 'bbc')\n",
    "washingtonPost = create_df_for_bson('./TelegramNews/mongo/telegram/washingtonpost.bson', 'washingtonPost')"
   ]
  },
  {
   "cell_type": "markdown",
   "id": "external-script",
   "metadata": {},
   "source": [
    "In the paper it is not clearly stated which datasets are included in training SVM all. In the repository we found more datasets than the ones listed in the table comparing the different models. Hence we simply assumed that for training SVM all, all available datasets (except the Guardian as it doesn't contain data) are used and only the ones listed in the mentioned table are used for prediction.\n",
    "\n",
    "Also they predicted BBC, however two datasets called bbcBreaking and bbcPersian do exist. It is not clear if BBC simply combines these two, or if only one of them is chosen as BBC."
   ]
  },
  {
   "cell_type": "code",
   "execution_count": 31,
   "id": "vanilla-regular",
   "metadata": {},
   "outputs": [],
   "source": [
    "dfs = [reutersWorld, cnnBrk, bbcBreaking, bbcPersian, pressTV, washingtonPost]\n",
    "all = pd.concat(dfs)"
   ]
  },
  {
   "cell_type": "markdown",
   "id": "initial-internship",
   "metadata": {},
   "source": [
    "We assumed that the train and test split is done first according to *Therefore, we first found the thresholds that satisfy these percentages for training and test sets and assigned a binary label to each post*. Also, if the split is done after assigning the popularity, in e.g. the cnn test set no popular posts can be found and the prediction would have an accuracy of 1.0, which is not the case in the paper."
   ]
  },
  {
   "cell_type": "code",
   "execution_count": 32,
   "id": "substantial-assignment",
   "metadata": {},
   "outputs": [],
   "source": [
    "def create_train_test_split(df):\n",
    "  # the first six months (March - September) of the data is selected for training and the last month (October)\n",
    "  # is selected for testing.\n",
    "   # March 8, 2017 to September 7, 2017.\n",
    "  train_start = \"2017-03-08\"\n",
    "  train_end = \"2017-09-07\"\n",
    "  mask = (df.date > train_start) & (df.date <= train_end)\n",
    "\n",
    "  df = df.drop(labels=['date'],axis=1)\n",
    "  df.mediaType = df.mediaType.astype('category').cat.codes\n",
    "\n",
    "  training = df.loc[mask]\n",
    "  test = df.loc[-mask]\n",
    "\n",
    "  return training, test"
   ]
  },
  {
   "cell_type": "code",
   "execution_count": 33,
   "id": "magnetic-nightmare",
   "metadata": {},
   "outputs": [
    {
     "name": "stdout",
     "output_type": "stream",
     "text": [
      "Size of Training set: 64916\n",
      "Size of Test set: 11056\n",
      "Percentage of train split: 85.45%\n"
     ]
    }
   ],
   "source": [
    "allTrain, allTest = create_train_test_split(all)\n",
    "\n",
    "print(f\"Size of Training set: {len(allTrain.index)}\")\n",
    "print(f\"Size of Test set: {len(allTest.index)}\")\n",
    "print(f\"Percentage of train split: {round(100 * len(allTrain.index) / len(all.index),2)}%\")"
   ]
  },
  {
   "cell_type": "markdown",
   "id": "knowing-slide",
   "metadata": {},
   "source": [
    "It is not clearly stated in the paper how the threshold which is used to state whether a post is popular or not is defined. In this case it is assumed, that the more views a post has, the more popular it is"
   ]
  },
  {
   "cell_type": "code",
   "execution_count": 34,
   "id": "destroyed-yorkshire",
   "metadata": {},
   "outputs": [],
   "source": [
    "# popular = 1\n",
    "# not popular = 0\n",
    "\n",
    "def assign_popularity (df, percent):\n",
    "  df.sort_values(by=['views'], inplace=True, ascending=False)\n",
    "  \n",
    "  quantile = (100-percent)/100\n",
    "  threshold = df.loc[:,'views'].quantile(quantile)\n",
    "  is_popular = df.loc[:,'views'] > threshold\n",
    "\n",
    "  df.loc[is_popular,'Popular']=1\n",
    "  df.loc[~is_popular, 'Popular']=0\n",
    "\n",
    "  return df\n",
    "\n",
    "allTrain_5 = assign_popularity(allTrain, 5)\n",
    "allTest_5 = assign_popularity(allTest, 5)\n",
    "\n",
    "allTrain_25 = assign_popularity(allTrain, 25)\n",
    "allTest_25 = assign_popularity(allTest, 25)"
   ]
  },
  {
   "cell_type": "code",
   "execution_count": 35,
   "id": "behavioral-listening",
   "metadata": {},
   "outputs": [
    {
     "name": "stdout",
     "output_type": "stream",
     "text": [
      "           views         age  year  month  day  weekday  hour  minViews  \\\n",
      "2716   1908500.0  1501109574  2017      7   26        2    22   78130.0   \n",
      "4817   1482198.0  1495247786  2017      5   20        5     2   78130.0   \n",
      "5007   1475636.0  1494845222  2017      5   15        0    10   78130.0   \n",
      "4550   1364851.0  1495645444  2017      5   24        2    17   78130.0   \n",
      "5729   1233545.0  1492715698  2017      4   20        3    19   78130.0   \n",
      "...          ...         ...   ...    ...  ...      ...   ...       ...   \n",
      "52145        6.0  1489419870  2017      3   13        0    15       5.0   \n",
      "52167        6.0  1489418859  2017      3   13        0    15       5.0   \n",
      "52168        5.0  1489418858  2017      3   13        0    15       5.0   \n",
      "52169        5.0  1489418856  2017      3   13        0    15       5.0   \n",
      "52170        5.0  1489418855  2017      3   13        0    15       5.0   \n",
      "\n",
      "        maxViews      meanViews       stdViews  hasMedia  mediaType  hasLink  \\\n",
      "2716   2904081.0  415212.015241  122121.066533      True          1    False   \n",
      "4817   2904081.0  415212.015241  122121.066533     False          0    False   \n",
      "5007   2904081.0  415212.015241  122121.066533      True          2    False   \n",
      "4550   2904081.0  415212.015241  122121.066533     False          0    False   \n",
      "5729   2904081.0  415212.015241  122121.066533     False          0    False   \n",
      "...          ...            ...            ...       ...        ...      ...   \n",
      "52145    15277.0      89.836100      97.311753      True          3     True   \n",
      "52167    15277.0      89.836100      97.311753      True          3     True   \n",
      "52168    15277.0      89.836100      97.311753      True          3     True   \n",
      "52169    15277.0      89.836100      97.311753      True          3     True   \n",
      "52170    15277.0      89.836100      97.311753      True          3     True   \n",
      "\n",
      "       mentions  hashtags channel  Popular  \n",
      "2716          0         0     bbc      1.0  \n",
      "4817          1         0     bbc      1.0  \n",
      "5007          0         0     bbc      1.0  \n",
      "4550          1         0     bbc      1.0  \n",
      "5729          1         0     bbc      1.0  \n",
      "...         ...       ...     ...      ...  \n",
      "52145         0         0  cnnBrk      0.0  \n",
      "52167         0         0  cnnBrk      0.0  \n",
      "52168         0         0  cnnBrk      0.0  \n",
      "52169         0         0  cnnBrk      0.0  \n",
      "52170         0         0  cnnBrk      0.0  \n",
      "\n",
      "[64916 rows x 18 columns]\n"
     ]
    }
   ],
   "source": [
    "print(allTrain_5)"
   ]
  },
  {
   "cell_type": "code",
   "execution_count": 36,
   "id": "hungry-bibliography",
   "metadata": {},
   "outputs": [
    {
     "name": "stdout",
     "output_type": "stream",
     "text": [
      "              views       age  year     month       day   weekday      hour  \\\n",
      "0      1.000000e+00  0.770360   0.0  0.666667  0.833333  0.333333  0.956522   \n",
      "1      7.766292e-01  0.399538   0.0  0.333333  0.633333  0.833333  0.086957   \n",
      "2      7.731909e-01  0.374071   0.0  0.333333  0.466667  0.000000  0.434783   \n",
      "3      7.151426e-01  0.424694   0.0  0.333333  0.766667  0.333333  0.739130   \n",
      "4      6.463418e-01  0.239356   0.0  0.166667  0.633333  0.500000  0.826087   \n",
      "...             ...       ...   ...       ...       ...       ...       ...   \n",
      "64911  5.239731e-07  0.030859   0.0  0.000000  0.400000  0.000000  0.652174   \n",
      "64912  5.239731e-07  0.030795   0.0  0.000000  0.400000  0.000000  0.652174   \n",
      "64913  0.000000e+00  0.030795   0.0  0.000000  0.400000  0.000000  0.652174   \n",
      "64914  0.000000e+00  0.030795   0.0  0.000000  0.400000  0.000000  0.652174   \n",
      "64915  0.000000e+00  0.030794   0.0  0.000000  0.400000  0.000000  0.652174   \n",
      "\n",
      "       minViews  maxViews  meanViews  stdViews  hasMedia  mediaType  hasLink  \\\n",
      "0           1.0  1.000000        1.0       1.0       1.0   0.333333      0.0   \n",
      "1           1.0  1.000000        1.0       1.0       0.0   0.000000      0.0   \n",
      "2           1.0  1.000000        1.0       1.0       1.0   0.666667      0.0   \n",
      "3           1.0  1.000000        1.0       1.0       0.0   0.000000      0.0   \n",
      "4           1.0  1.000000        1.0       1.0       0.0   0.000000      0.0   \n",
      "...         ...       ...        ...       ...       ...        ...      ...   \n",
      "64911       0.0  0.004511        0.0       0.0       1.0   1.000000      1.0   \n",
      "64912       0.0  0.004511        0.0       0.0       1.0   1.000000      1.0   \n",
      "64913       0.0  0.004511        0.0       0.0       1.0   1.000000      1.0   \n",
      "64914       0.0  0.004511        0.0       0.0       1.0   1.000000      1.0   \n",
      "64915       0.0  0.004511        0.0       0.0       1.0   1.000000      1.0   \n",
      "\n",
      "       mentions  hashtags  Popular  \n",
      "0      0.000000       0.0      1.0  \n",
      "1      0.020408       0.0      1.0  \n",
      "2      0.000000       0.0      1.0  \n",
      "3      0.020408       0.0      1.0  \n",
      "4      0.020408       0.0      1.0  \n",
      "...         ...       ...      ...  \n",
      "64911  0.000000       0.0      0.0  \n",
      "64912  0.000000       0.0      0.0  \n",
      "64913  0.000000       0.0      0.0  \n",
      "64914  0.000000       0.0      0.0  \n",
      "64915  0.000000       0.0      0.0  \n",
      "\n",
      "[64916 rows x 17 columns]\n"
     ]
    }
   ],
   "source": [
    "# Apply Min-Max scaling fitted on the training data\n",
    "from sklearn.preprocessing import MinMaxScaler\n",
    "\n",
    "scaler = MinMaxScaler()\n",
    "#training\n",
    "scaled_training_5 = pd.DataFrame(scaler.fit_transform(allTrain_5.drop('channel', axis=1)), columns=allTrain_5.drop('channel', axis=1).columns)\n",
    "scaled_training_25 = pd.DataFrame(scaler.fit_transform(allTrain_25.drop('channel', axis=1)), columns=allTrain_25.drop('channel', axis=1).columns)\n",
    "#test\n",
    "scaled_test_5 = pd.DataFrame(scaler.transform(allTest_5.drop('channel', axis=1)), columns=allTest_5.drop('channel', axis=1).columns)\n",
    "scaled_test_25 = pd.DataFrame(scaler.transform(allTest_25.drop('channel', axis=1)), columns=allTest_25.drop('channel', axis=1).columns)\n",
    "\n",
    "\n",
    "def scale_partial(df, channel):\n",
    "  is_channel = df.loc[:, 'channel']==channel\n",
    "  channel_df = df.loc[is_channel]\n",
    "  return pd.DataFrame(scaler.transform(channel_df.drop('channel', axis=1)), \n",
    "                      columns=channel_df.drop('channel', axis=1).columns)\n",
    "\n",
    "cnn_scaled_test_5 = scale_partial(allTest_5, 'cnnBrk')\n",
    "reuters_scaled_test_5 = scale_partial(allTest_5, 'reutersWorld')\n",
    "press_scaled_test_5 = scale_partial(allTest_5, 'pressTV')\n",
    "bbc_scaled_test_5 = scale_partial(allTest_5, 'bbc')\n",
    "\n",
    "cnn_scaled_test_25 = scale_partial(allTest_25, 'cnnBrk')\n",
    "reuters_scaled_test_25 = scale_partial(allTest_25, 'reutersWorld')\n",
    "press_scaled_test_25 = scale_partial(allTest_25, 'pressTV')\n",
    "bbc_scaled_test_25 = scale_partial(allTest_25, 'bbc')\n",
    "\n",
    "print(scaled_training_5)"
   ]
  },
  {
   "cell_type": "markdown",
   "id": "competent-inclusion",
   "metadata": {},
   "source": [
    "## SVM\n",
    "\n",
    "Aim is to predict top 5% and top 25% popular news for each agency. Therefore train svm classifier on all channels and predict popular news for only one **channel**"
   ]
  },
  {
   "cell_type": "code",
   "execution_count": 37,
   "id": "juvenile-springer",
   "metadata": {},
   "outputs": [],
   "source": [
    "def calculate_weights(train_df):\n",
    "  n = len(train_df.index)\n",
    "  labels = train_df.Popular\n",
    "  popular = len(labels[labels == 1])\n",
    "  not_popular = n - popular\n",
    "\n",
    "  denominator = sum((1 / (popular if labels[k] == 1 else not_popular)) for k in range(1,n))\n",
    "  bigLambda = map(lambda i: (1 / (popular if labels[i] == 1 else not_popular)) * denominator, range(0, n))\n",
    "  return pd.Series(bigLambda)\n",
    "\n",
    "weights_5 = calculate_weights(scaled_training_5)\n",
    "weights_25 = calculate_weights(scaled_training_25)"
   ]
  },
  {
   "cell_type": "markdown",
   "id": "documented-warrior",
   "metadata": {},
   "source": [
    "### Top 5%\n",
    "Interestingly using GridSearch including the weights as stated in the paper, the results are way more different than simply applying svc (using default settings). If adding the weights to the simple svc implementation, the results turn out to be exactly the same as when using the gridSearch implementation."
   ]
  },
  {
   "cell_type": "code",
   "execution_count": 38,
   "id": "generic-multimedia",
   "metadata": {},
   "outputs": [],
   "source": [
    "y5 = scaled_training_5['Popular']\n",
    "x5 = scaled_training_5.drop('Popular', axis=1)\n",
    "\n",
    "param_grid = {'C' : np.logspace(-3, 2, 6)}\n",
    "weight_array = weights_5.unique()\n",
    "weight_dict = {0 : weight_array[0], 1 : weight_array[1]}"
   ]
  },
  {
   "cell_type": "code",
   "execution_count": 39,
   "id": "further-pencil",
   "metadata": {},
   "outputs": [
    {
     "data": {
      "text/plain": [
       "SVC()"
      ]
     },
     "execution_count": 39,
     "metadata": {},
     "output_type": "execute_result"
    }
   ],
   "source": [
    "clf = svm.SVC()\n",
    "clf.fit(x5, y5)"
   ]
  },
  {
   "cell_type": "code",
   "execution_count": 117,
   "id": "acquired-helena",
   "metadata": {},
   "outputs": [
    {
     "ename": "KeyboardInterrupt",
     "evalue": "",
     "output_type": "error",
     "traceback": [
      "\u001b[1;31m---------------------------------------------------------------------------\u001b[0m",
      "\u001b[1;31mKeyboardInterrupt\u001b[0m                         Traceback (most recent call last)",
      "\u001b[1;32m<ipython-input-117-de50e7f9dcc2>\u001b[0m in \u001b[0;36m<module>\u001b[1;34m\u001b[0m\n\u001b[0;32m      1\u001b[0m \u001b[0msvc_classifier_grid\u001b[0m \u001b[1;33m=\u001b[0m \u001b[0mGridSearchCV\u001b[0m\u001b[1;33m(\u001b[0m\u001b[0msvm\u001b[0m\u001b[1;33m.\u001b[0m\u001b[0mSVC\u001b[0m\u001b[1;33m(\u001b[0m\u001b[1;33m)\u001b[0m\u001b[1;33m,\u001b[0m \u001b[0mparam_grid\u001b[0m\u001b[1;33m=\u001b[0m\u001b[0mparam_grid\u001b[0m\u001b[1;33m)\u001b[0m\u001b[1;33m\u001b[0m\u001b[1;33m\u001b[0m\u001b[0m\n\u001b[1;32m----> 2\u001b[1;33m \u001b[0mclf_grid\u001b[0m \u001b[1;33m=\u001b[0m \u001b[0msvc_classifier_grid\u001b[0m\u001b[1;33m.\u001b[0m\u001b[0mfit\u001b[0m\u001b[1;33m(\u001b[0m\u001b[0mx5\u001b[0m\u001b[1;33m,\u001b[0m\u001b[0my5\u001b[0m\u001b[1;33m)\u001b[0m\u001b[1;33m\u001b[0m\u001b[1;33m\u001b[0m\u001b[0m\n\u001b[0m",
      "\u001b[1;32mc:\\users\\entenzahn\\appdata\\local\\programs\\python\\python39\\lib\\site-packages\\sklearn\\model_selection\\_search.py\u001b[0m in \u001b[0;36mfit\u001b[1;34m(self, X, y, groups, **fit_params)\u001b[0m\n\u001b[0;32m    889\u001b[0m                 \u001b[1;32mreturn\u001b[0m \u001b[0mresults\u001b[0m\u001b[1;33m\u001b[0m\u001b[1;33m\u001b[0m\u001b[0m\n\u001b[0;32m    890\u001b[0m \u001b[1;33m\u001b[0m\u001b[0m\n\u001b[1;32m--> 891\u001b[1;33m             \u001b[0mself\u001b[0m\u001b[1;33m.\u001b[0m\u001b[0m_run_search\u001b[0m\u001b[1;33m(\u001b[0m\u001b[0mevaluate_candidates\u001b[0m\u001b[1;33m)\u001b[0m\u001b[1;33m\u001b[0m\u001b[1;33m\u001b[0m\u001b[0m\n\u001b[0m\u001b[0;32m    892\u001b[0m \u001b[1;33m\u001b[0m\u001b[0m\n\u001b[0;32m    893\u001b[0m             \u001b[1;31m# multimetric is determined here because in the case of a callable\u001b[0m\u001b[1;33m\u001b[0m\u001b[1;33m\u001b[0m\u001b[1;33m\u001b[0m\u001b[0m\n",
      "\u001b[1;32mc:\\users\\entenzahn\\appdata\\local\\programs\\python\\python39\\lib\\site-packages\\sklearn\\model_selection\\_search.py\u001b[0m in \u001b[0;36m_run_search\u001b[1;34m(self, evaluate_candidates)\u001b[0m\n\u001b[0;32m   1390\u001b[0m     \u001b[1;32mdef\u001b[0m \u001b[0m_run_search\u001b[0m\u001b[1;33m(\u001b[0m\u001b[0mself\u001b[0m\u001b[1;33m,\u001b[0m \u001b[0mevaluate_candidates\u001b[0m\u001b[1;33m)\u001b[0m\u001b[1;33m:\u001b[0m\u001b[1;33m\u001b[0m\u001b[1;33m\u001b[0m\u001b[0m\n\u001b[0;32m   1391\u001b[0m         \u001b[1;34m\"\"\"Search all candidates in param_grid\"\"\"\u001b[0m\u001b[1;33m\u001b[0m\u001b[1;33m\u001b[0m\u001b[0m\n\u001b[1;32m-> 1392\u001b[1;33m         \u001b[0mevaluate_candidates\u001b[0m\u001b[1;33m(\u001b[0m\u001b[0mParameterGrid\u001b[0m\u001b[1;33m(\u001b[0m\u001b[0mself\u001b[0m\u001b[1;33m.\u001b[0m\u001b[0mparam_grid\u001b[0m\u001b[1;33m)\u001b[0m\u001b[1;33m)\u001b[0m\u001b[1;33m\u001b[0m\u001b[1;33m\u001b[0m\u001b[0m\n\u001b[0m\u001b[0;32m   1393\u001b[0m \u001b[1;33m\u001b[0m\u001b[0m\n\u001b[0;32m   1394\u001b[0m \u001b[1;33m\u001b[0m\u001b[0m\n",
      "\u001b[1;32mc:\\users\\entenzahn\\appdata\\local\\programs\\python\\python39\\lib\\site-packages\\sklearn\\model_selection\\_search.py\u001b[0m in \u001b[0;36mevaluate_candidates\u001b[1;34m(candidate_params, cv, more_results)\u001b[0m\n\u001b[0;32m    836\u001b[0m                     )\n\u001b[0;32m    837\u001b[0m \u001b[1;33m\u001b[0m\u001b[0m\n\u001b[1;32m--> 838\u001b[1;33m                 out = parallel(\n\u001b[0m\u001b[0;32m    839\u001b[0m                     delayed(_fit_and_score)(\n\u001b[0;32m    840\u001b[0m                         \u001b[0mclone\u001b[0m\u001b[1;33m(\u001b[0m\u001b[0mbase_estimator\u001b[0m\u001b[1;33m)\u001b[0m\u001b[1;33m,\u001b[0m\u001b[1;33m\u001b[0m\u001b[1;33m\u001b[0m\u001b[0m\n",
      "\u001b[1;32mc:\\users\\entenzahn\\appdata\\local\\programs\\python\\python39\\lib\\site-packages\\joblib\\parallel.py\u001b[0m in \u001b[0;36m__call__\u001b[1;34m(self, iterable)\u001b[0m\n\u001b[0;32m   1042\u001b[0m                 \u001b[0mself\u001b[0m\u001b[1;33m.\u001b[0m\u001b[0m_iterating\u001b[0m \u001b[1;33m=\u001b[0m \u001b[0mself\u001b[0m\u001b[1;33m.\u001b[0m\u001b[0m_original_iterator\u001b[0m \u001b[1;32mis\u001b[0m \u001b[1;32mnot\u001b[0m \u001b[1;32mNone\u001b[0m\u001b[1;33m\u001b[0m\u001b[1;33m\u001b[0m\u001b[0m\n\u001b[0;32m   1043\u001b[0m \u001b[1;33m\u001b[0m\u001b[0m\n\u001b[1;32m-> 1044\u001b[1;33m             \u001b[1;32mwhile\u001b[0m \u001b[0mself\u001b[0m\u001b[1;33m.\u001b[0m\u001b[0mdispatch_one_batch\u001b[0m\u001b[1;33m(\u001b[0m\u001b[0miterator\u001b[0m\u001b[1;33m)\u001b[0m\u001b[1;33m:\u001b[0m\u001b[1;33m\u001b[0m\u001b[1;33m\u001b[0m\u001b[0m\n\u001b[0m\u001b[0;32m   1045\u001b[0m                 \u001b[1;32mpass\u001b[0m\u001b[1;33m\u001b[0m\u001b[1;33m\u001b[0m\u001b[0m\n\u001b[0;32m   1046\u001b[0m \u001b[1;33m\u001b[0m\u001b[0m\n",
      "\u001b[1;32mc:\\users\\entenzahn\\appdata\\local\\programs\\python\\python39\\lib\\site-packages\\joblib\\parallel.py\u001b[0m in \u001b[0;36mdispatch_one_batch\u001b[1;34m(self, iterator)\u001b[0m\n\u001b[0;32m    857\u001b[0m                 \u001b[1;32mreturn\u001b[0m \u001b[1;32mFalse\u001b[0m\u001b[1;33m\u001b[0m\u001b[1;33m\u001b[0m\u001b[0m\n\u001b[0;32m    858\u001b[0m             \u001b[1;32melse\u001b[0m\u001b[1;33m:\u001b[0m\u001b[1;33m\u001b[0m\u001b[1;33m\u001b[0m\u001b[0m\n\u001b[1;32m--> 859\u001b[1;33m                 \u001b[0mself\u001b[0m\u001b[1;33m.\u001b[0m\u001b[0m_dispatch\u001b[0m\u001b[1;33m(\u001b[0m\u001b[0mtasks\u001b[0m\u001b[1;33m)\u001b[0m\u001b[1;33m\u001b[0m\u001b[1;33m\u001b[0m\u001b[0m\n\u001b[0m\u001b[0;32m    860\u001b[0m                 \u001b[1;32mreturn\u001b[0m \u001b[1;32mTrue\u001b[0m\u001b[1;33m\u001b[0m\u001b[1;33m\u001b[0m\u001b[0m\n\u001b[0;32m    861\u001b[0m \u001b[1;33m\u001b[0m\u001b[0m\n",
      "\u001b[1;32mc:\\users\\entenzahn\\appdata\\local\\programs\\python\\python39\\lib\\site-packages\\joblib\\parallel.py\u001b[0m in \u001b[0;36m_dispatch\u001b[1;34m(self, batch)\u001b[0m\n\u001b[0;32m    775\u001b[0m         \u001b[1;32mwith\u001b[0m \u001b[0mself\u001b[0m\u001b[1;33m.\u001b[0m\u001b[0m_lock\u001b[0m\u001b[1;33m:\u001b[0m\u001b[1;33m\u001b[0m\u001b[1;33m\u001b[0m\u001b[0m\n\u001b[0;32m    776\u001b[0m             \u001b[0mjob_idx\u001b[0m \u001b[1;33m=\u001b[0m \u001b[0mlen\u001b[0m\u001b[1;33m(\u001b[0m\u001b[0mself\u001b[0m\u001b[1;33m.\u001b[0m\u001b[0m_jobs\u001b[0m\u001b[1;33m)\u001b[0m\u001b[1;33m\u001b[0m\u001b[1;33m\u001b[0m\u001b[0m\n\u001b[1;32m--> 777\u001b[1;33m             \u001b[0mjob\u001b[0m \u001b[1;33m=\u001b[0m \u001b[0mself\u001b[0m\u001b[1;33m.\u001b[0m\u001b[0m_backend\u001b[0m\u001b[1;33m.\u001b[0m\u001b[0mapply_async\u001b[0m\u001b[1;33m(\u001b[0m\u001b[0mbatch\u001b[0m\u001b[1;33m,\u001b[0m \u001b[0mcallback\u001b[0m\u001b[1;33m=\u001b[0m\u001b[0mcb\u001b[0m\u001b[1;33m)\u001b[0m\u001b[1;33m\u001b[0m\u001b[1;33m\u001b[0m\u001b[0m\n\u001b[0m\u001b[0;32m    778\u001b[0m             \u001b[1;31m# A job can complete so quickly than its callback is\u001b[0m\u001b[1;33m\u001b[0m\u001b[1;33m\u001b[0m\u001b[1;33m\u001b[0m\u001b[0m\n\u001b[0;32m    779\u001b[0m             \u001b[1;31m# called before we get here, causing self._jobs to\u001b[0m\u001b[1;33m\u001b[0m\u001b[1;33m\u001b[0m\u001b[1;33m\u001b[0m\u001b[0m\n",
      "\u001b[1;32mc:\\users\\entenzahn\\appdata\\local\\programs\\python\\python39\\lib\\site-packages\\joblib\\_parallel_backends.py\u001b[0m in \u001b[0;36mapply_async\u001b[1;34m(self, func, callback)\u001b[0m\n\u001b[0;32m    206\u001b[0m     \u001b[1;32mdef\u001b[0m \u001b[0mapply_async\u001b[0m\u001b[1;33m(\u001b[0m\u001b[0mself\u001b[0m\u001b[1;33m,\u001b[0m \u001b[0mfunc\u001b[0m\u001b[1;33m,\u001b[0m \u001b[0mcallback\u001b[0m\u001b[1;33m=\u001b[0m\u001b[1;32mNone\u001b[0m\u001b[1;33m)\u001b[0m\u001b[1;33m:\u001b[0m\u001b[1;33m\u001b[0m\u001b[1;33m\u001b[0m\u001b[0m\n\u001b[0;32m    207\u001b[0m         \u001b[1;34m\"\"\"Schedule a func to be run\"\"\"\u001b[0m\u001b[1;33m\u001b[0m\u001b[1;33m\u001b[0m\u001b[0m\n\u001b[1;32m--> 208\u001b[1;33m         \u001b[0mresult\u001b[0m \u001b[1;33m=\u001b[0m \u001b[0mImmediateResult\u001b[0m\u001b[1;33m(\u001b[0m\u001b[0mfunc\u001b[0m\u001b[1;33m)\u001b[0m\u001b[1;33m\u001b[0m\u001b[1;33m\u001b[0m\u001b[0m\n\u001b[0m\u001b[0;32m    209\u001b[0m         \u001b[1;32mif\u001b[0m \u001b[0mcallback\u001b[0m\u001b[1;33m:\u001b[0m\u001b[1;33m\u001b[0m\u001b[1;33m\u001b[0m\u001b[0m\n\u001b[0;32m    210\u001b[0m             \u001b[0mcallback\u001b[0m\u001b[1;33m(\u001b[0m\u001b[0mresult\u001b[0m\u001b[1;33m)\u001b[0m\u001b[1;33m\u001b[0m\u001b[1;33m\u001b[0m\u001b[0m\n",
      "\u001b[1;32mc:\\users\\entenzahn\\appdata\\local\\programs\\python\\python39\\lib\\site-packages\\joblib\\_parallel_backends.py\u001b[0m in \u001b[0;36m__init__\u001b[1;34m(self, batch)\u001b[0m\n\u001b[0;32m    570\u001b[0m         \u001b[1;31m# Don't delay the application, to avoid keeping the input\u001b[0m\u001b[1;33m\u001b[0m\u001b[1;33m\u001b[0m\u001b[1;33m\u001b[0m\u001b[0m\n\u001b[0;32m    571\u001b[0m         \u001b[1;31m# arguments in memory\u001b[0m\u001b[1;33m\u001b[0m\u001b[1;33m\u001b[0m\u001b[1;33m\u001b[0m\u001b[0m\n\u001b[1;32m--> 572\u001b[1;33m         \u001b[0mself\u001b[0m\u001b[1;33m.\u001b[0m\u001b[0mresults\u001b[0m \u001b[1;33m=\u001b[0m \u001b[0mbatch\u001b[0m\u001b[1;33m(\u001b[0m\u001b[1;33m)\u001b[0m\u001b[1;33m\u001b[0m\u001b[1;33m\u001b[0m\u001b[0m\n\u001b[0m\u001b[0;32m    573\u001b[0m \u001b[1;33m\u001b[0m\u001b[0m\n\u001b[0;32m    574\u001b[0m     \u001b[1;32mdef\u001b[0m \u001b[0mget\u001b[0m\u001b[1;33m(\u001b[0m\u001b[0mself\u001b[0m\u001b[1;33m)\u001b[0m\u001b[1;33m:\u001b[0m\u001b[1;33m\u001b[0m\u001b[1;33m\u001b[0m\u001b[0m\n",
      "\u001b[1;32mc:\\users\\entenzahn\\appdata\\local\\programs\\python\\python39\\lib\\site-packages\\joblib\\parallel.py\u001b[0m in \u001b[0;36m__call__\u001b[1;34m(self)\u001b[0m\n\u001b[0;32m    260\u001b[0m         \u001b[1;31m# change the default number of processes to -1\u001b[0m\u001b[1;33m\u001b[0m\u001b[1;33m\u001b[0m\u001b[1;33m\u001b[0m\u001b[0m\n\u001b[0;32m    261\u001b[0m         \u001b[1;32mwith\u001b[0m \u001b[0mparallel_backend\u001b[0m\u001b[1;33m(\u001b[0m\u001b[0mself\u001b[0m\u001b[1;33m.\u001b[0m\u001b[0m_backend\u001b[0m\u001b[1;33m,\u001b[0m \u001b[0mn_jobs\u001b[0m\u001b[1;33m=\u001b[0m\u001b[0mself\u001b[0m\u001b[1;33m.\u001b[0m\u001b[0m_n_jobs\u001b[0m\u001b[1;33m)\u001b[0m\u001b[1;33m:\u001b[0m\u001b[1;33m\u001b[0m\u001b[1;33m\u001b[0m\u001b[0m\n\u001b[1;32m--> 262\u001b[1;33m             return [func(*args, **kwargs)\n\u001b[0m\u001b[0;32m    263\u001b[0m                     for func, args, kwargs in self.items]\n\u001b[0;32m    264\u001b[0m \u001b[1;33m\u001b[0m\u001b[0m\n",
      "\u001b[1;32mc:\\users\\entenzahn\\appdata\\local\\programs\\python\\python39\\lib\\site-packages\\joblib\\parallel.py\u001b[0m in \u001b[0;36m<listcomp>\u001b[1;34m(.0)\u001b[0m\n\u001b[0;32m    260\u001b[0m         \u001b[1;31m# change the default number of processes to -1\u001b[0m\u001b[1;33m\u001b[0m\u001b[1;33m\u001b[0m\u001b[1;33m\u001b[0m\u001b[0m\n\u001b[0;32m    261\u001b[0m         \u001b[1;32mwith\u001b[0m \u001b[0mparallel_backend\u001b[0m\u001b[1;33m(\u001b[0m\u001b[0mself\u001b[0m\u001b[1;33m.\u001b[0m\u001b[0m_backend\u001b[0m\u001b[1;33m,\u001b[0m \u001b[0mn_jobs\u001b[0m\u001b[1;33m=\u001b[0m\u001b[0mself\u001b[0m\u001b[1;33m.\u001b[0m\u001b[0m_n_jobs\u001b[0m\u001b[1;33m)\u001b[0m\u001b[1;33m:\u001b[0m\u001b[1;33m\u001b[0m\u001b[1;33m\u001b[0m\u001b[0m\n\u001b[1;32m--> 262\u001b[1;33m             return [func(*args, **kwargs)\n\u001b[0m\u001b[0;32m    263\u001b[0m                     for func, args, kwargs in self.items]\n\u001b[0;32m    264\u001b[0m \u001b[1;33m\u001b[0m\u001b[0m\n",
      "\u001b[1;32mc:\\users\\entenzahn\\appdata\\local\\programs\\python\\python39\\lib\\site-packages\\sklearn\\utils\\fixes.py\u001b[0m in \u001b[0;36m__call__\u001b[1;34m(self, *args, **kwargs)\u001b[0m\n\u001b[0;32m    214\u001b[0m     \u001b[1;32mdef\u001b[0m \u001b[0m__call__\u001b[0m\u001b[1;33m(\u001b[0m\u001b[0mself\u001b[0m\u001b[1;33m,\u001b[0m \u001b[1;33m*\u001b[0m\u001b[0margs\u001b[0m\u001b[1;33m,\u001b[0m \u001b[1;33m**\u001b[0m\u001b[0mkwargs\u001b[0m\u001b[1;33m)\u001b[0m\u001b[1;33m:\u001b[0m\u001b[1;33m\u001b[0m\u001b[1;33m\u001b[0m\u001b[0m\n\u001b[0;32m    215\u001b[0m         \u001b[1;32mwith\u001b[0m \u001b[0mconfig_context\u001b[0m\u001b[1;33m(\u001b[0m\u001b[1;33m**\u001b[0m\u001b[0mself\u001b[0m\u001b[1;33m.\u001b[0m\u001b[0mconfig\u001b[0m\u001b[1;33m)\u001b[0m\u001b[1;33m:\u001b[0m\u001b[1;33m\u001b[0m\u001b[1;33m\u001b[0m\u001b[0m\n\u001b[1;32m--> 216\u001b[1;33m             \u001b[1;32mreturn\u001b[0m \u001b[0mself\u001b[0m\u001b[1;33m.\u001b[0m\u001b[0mfunction\u001b[0m\u001b[1;33m(\u001b[0m\u001b[1;33m*\u001b[0m\u001b[0margs\u001b[0m\u001b[1;33m,\u001b[0m \u001b[1;33m**\u001b[0m\u001b[0mkwargs\u001b[0m\u001b[1;33m)\u001b[0m\u001b[1;33m\u001b[0m\u001b[1;33m\u001b[0m\u001b[0m\n\u001b[0m\u001b[0;32m    217\u001b[0m \u001b[1;33m\u001b[0m\u001b[0m\n\u001b[0;32m    218\u001b[0m \u001b[1;33m\u001b[0m\u001b[0m\n",
      "\u001b[1;32mc:\\users\\entenzahn\\appdata\\local\\programs\\python\\python39\\lib\\site-packages\\sklearn\\model_selection\\_validation.py\u001b[0m in \u001b[0;36m_fit_and_score\u001b[1;34m(estimator, X, y, scorer, train, test, verbose, parameters, fit_params, return_train_score, return_parameters, return_n_test_samples, return_times, return_estimator, split_progress, candidate_progress, error_score)\u001b[0m\n\u001b[0;32m    678\u001b[0m             \u001b[0mestimator\u001b[0m\u001b[1;33m.\u001b[0m\u001b[0mfit\u001b[0m\u001b[1;33m(\u001b[0m\u001b[0mX_train\u001b[0m\u001b[1;33m,\u001b[0m \u001b[1;33m**\u001b[0m\u001b[0mfit_params\u001b[0m\u001b[1;33m)\u001b[0m\u001b[1;33m\u001b[0m\u001b[1;33m\u001b[0m\u001b[0m\n\u001b[0;32m    679\u001b[0m         \u001b[1;32melse\u001b[0m\u001b[1;33m:\u001b[0m\u001b[1;33m\u001b[0m\u001b[1;33m\u001b[0m\u001b[0m\n\u001b[1;32m--> 680\u001b[1;33m             \u001b[0mestimator\u001b[0m\u001b[1;33m.\u001b[0m\u001b[0mfit\u001b[0m\u001b[1;33m(\u001b[0m\u001b[0mX_train\u001b[0m\u001b[1;33m,\u001b[0m \u001b[0my_train\u001b[0m\u001b[1;33m,\u001b[0m \u001b[1;33m**\u001b[0m\u001b[0mfit_params\u001b[0m\u001b[1;33m)\u001b[0m\u001b[1;33m\u001b[0m\u001b[1;33m\u001b[0m\u001b[0m\n\u001b[0m\u001b[0;32m    681\u001b[0m \u001b[1;33m\u001b[0m\u001b[0m\n\u001b[0;32m    682\u001b[0m     \u001b[1;32mexcept\u001b[0m \u001b[0mException\u001b[0m\u001b[1;33m:\u001b[0m\u001b[1;33m\u001b[0m\u001b[1;33m\u001b[0m\u001b[0m\n",
      "\u001b[1;32mc:\\users\\entenzahn\\appdata\\local\\programs\\python\\python39\\lib\\site-packages\\sklearn\\svm\\_base.py\u001b[0m in \u001b[0;36mfit\u001b[1;34m(self, X, y, sample_weight)\u001b[0m\n\u001b[0;32m    253\u001b[0m \u001b[1;33m\u001b[0m\u001b[0m\n\u001b[0;32m    254\u001b[0m         \u001b[0mseed\u001b[0m \u001b[1;33m=\u001b[0m \u001b[0mrnd\u001b[0m\u001b[1;33m.\u001b[0m\u001b[0mrandint\u001b[0m\u001b[1;33m(\u001b[0m\u001b[0mnp\u001b[0m\u001b[1;33m.\u001b[0m\u001b[0miinfo\u001b[0m\u001b[1;33m(\u001b[0m\u001b[1;34m\"i\"\u001b[0m\u001b[1;33m)\u001b[0m\u001b[1;33m.\u001b[0m\u001b[0mmax\u001b[0m\u001b[1;33m)\u001b[0m\u001b[1;33m\u001b[0m\u001b[1;33m\u001b[0m\u001b[0m\n\u001b[1;32m--> 255\u001b[1;33m         \u001b[0mfit\u001b[0m\u001b[1;33m(\u001b[0m\u001b[0mX\u001b[0m\u001b[1;33m,\u001b[0m \u001b[0my\u001b[0m\u001b[1;33m,\u001b[0m \u001b[0msample_weight\u001b[0m\u001b[1;33m,\u001b[0m \u001b[0msolver_type\u001b[0m\u001b[1;33m,\u001b[0m \u001b[0mkernel\u001b[0m\u001b[1;33m,\u001b[0m \u001b[0mrandom_seed\u001b[0m\u001b[1;33m=\u001b[0m\u001b[0mseed\u001b[0m\u001b[1;33m)\u001b[0m\u001b[1;33m\u001b[0m\u001b[1;33m\u001b[0m\u001b[0m\n\u001b[0m\u001b[0;32m    256\u001b[0m         \u001b[1;31m# see comment on the other call to np.iinfo in this file\u001b[0m\u001b[1;33m\u001b[0m\u001b[1;33m\u001b[0m\u001b[1;33m\u001b[0m\u001b[0m\n\u001b[0;32m    257\u001b[0m \u001b[1;33m\u001b[0m\u001b[0m\n",
      "\u001b[1;32mc:\\users\\entenzahn\\appdata\\local\\programs\\python\\python39\\lib\\site-packages\\sklearn\\svm\\_base.py\u001b[0m in \u001b[0;36m_dense_fit\u001b[1;34m(self, X, y, sample_weight, solver_type, kernel, random_seed)\u001b[0m\n\u001b[0;32m    313\u001b[0m             \u001b[0mself\u001b[0m\u001b[1;33m.\u001b[0m\u001b[0m_probB\u001b[0m\u001b[1;33m,\u001b[0m\u001b[1;33m\u001b[0m\u001b[1;33m\u001b[0m\u001b[0m\n\u001b[0;32m    314\u001b[0m             \u001b[0mself\u001b[0m\u001b[1;33m.\u001b[0m\u001b[0mfit_status_\u001b[0m\u001b[1;33m,\u001b[0m\u001b[1;33m\u001b[0m\u001b[1;33m\u001b[0m\u001b[0m\n\u001b[1;32m--> 315\u001b[1;33m         \u001b[1;33m)\u001b[0m \u001b[1;33m=\u001b[0m \u001b[0mlibsvm\u001b[0m\u001b[1;33m.\u001b[0m\u001b[0mfit\u001b[0m\u001b[1;33m(\u001b[0m\u001b[1;33m\u001b[0m\u001b[1;33m\u001b[0m\u001b[0m\n\u001b[0m\u001b[0;32m    316\u001b[0m             \u001b[0mX\u001b[0m\u001b[1;33m,\u001b[0m\u001b[1;33m\u001b[0m\u001b[1;33m\u001b[0m\u001b[0m\n\u001b[0;32m    317\u001b[0m             \u001b[0my\u001b[0m\u001b[1;33m,\u001b[0m\u001b[1;33m\u001b[0m\u001b[1;33m\u001b[0m\u001b[0m\n",
      "\u001b[1;31mKeyboardInterrupt\u001b[0m: "
     ]
    }
   ],
   "source": [
    "svc_classifier_grid = GridSearchCV(svm.SVC(), param_grid=param_grid)\n",
    "clf_grid = svc_classifier_grid.fit(x5,y5)"
   ]
  },
  {
   "cell_type": "code",
   "execution_count": null,
   "id": "public-injury",
   "metadata": {},
   "outputs": [],
   "source": [
    "svc_classifier_grid = GridSearchCV(svm.SVC(class_weight=weight_dict), param_grid=param_grid, n_jobs=8)\n",
    "clf_grid_weighted = svc_classifier_grid.fit(x5,y5)"
   ]
  },
  {
   "cell_type": "code",
   "execution_count": null,
   "id": "pregnant-continent",
   "metadata": {},
   "outputs": [],
   "source": [
    "svc_classifier_grid = GridSearchCV(svm.LinearSVC(), cv=5, param_grid=param_grid, n_jobs=8)\n",
    "clf_grid_linear = svc_classifier_grid.fit(x5,y5)"
   ]
  },
  {
   "cell_type": "code",
   "execution_count": null,
   "id": "higher-stanford",
   "metadata": {},
   "outputs": [],
   "source": [
    "svc_classifier_grid = GridSearchCV(svm.LinearSVC(class_weight=weight_dict), param_grid=param_grid, cv=5, n_jobs=8)\n",
    "clf_grid_weighted_linear = svc_classifier_grid.fit(x5,y5)"
   ]
  },
  {
   "cell_type": "markdown",
   "id": "naval-mortgage",
   "metadata": {},
   "source": [
    "#### Prediction + Evaluation of Top5% models"
   ]
  },
  {
   "cell_type": "code",
   "execution_count": null,
   "id": "speaking-powell",
   "metadata": {},
   "outputs": [],
   "source": [
    "def model_metrics(true, predicted):\n",
    "  acc = accuracy_score(true, predicted)\n",
    "  ba = balanced_accuracy_score(true, predicted)\n",
    "  prec = precision_score(true, predicted)\n",
    "  recall = recall_score(true, predicted)\n",
    "  f1 = f1_score(true, predicted)\n",
    "\n",
    "  print('Accuracy: ', acc)\n",
    "  print('Balanced Accuracy: ', ba)\n",
    "  print('Precision: ', prec)\n",
    "  print('Recall: ', recall)\n",
    "  print('F1: ', f1)\n",
    "\n",
    "  return confusion_matrix(true, predicted)"
   ]
  },
  {
   "cell_type": "markdown",
   "id": "essential-device",
   "metadata": {},
   "source": [
    "Prediction for CNN"
   ]
  },
  {
   "cell_type": "code",
   "execution_count": null,
   "id": "identical-petersburg",
   "metadata": {},
   "outputs": [],
   "source": [
    "y5_cnn_test = cnn_scaled_test_5['Popular']\n",
    "x5_cnn_test = cnn_scaled_test_5.drop('Popular', axis=1)\n",
    "\n",
    "cnn_default = clf.predict(x5_cnn_test)\n",
    "print('clf - default settings')\n",
    "print(model_metrics(y5_cnn_test, cnn_default))"
   ]
  },
  {
   "cell_type": "code",
   "execution_count": null,
   "id": "inner-staff",
   "metadata": {},
   "outputs": [],
   "source": [
    "cnn_grid = clf_grid.predict(x5_cnn_test)\n",
    "print('grid - default settings')\n",
    "print(model_metrics(y5_cnn_test, cnn_grid))"
   ]
  },
  {
   "cell_type": "code",
   "execution_count": null,
   "id": "invalid-discussion",
   "metadata": {},
   "outputs": [],
   "source": [
    "cnn_grid_weighted = clf_grid_weighted.predict(x5_cnn_test)\n",
    "print('grid - weighted')\n",
    "print(model_metrics(y5_cnn_test, cnn_grid_weighted))"
   ]
  },
  {
   "cell_type": "code",
   "execution_count": null,
   "id": "wooden-heather",
   "metadata": {},
   "outputs": [],
   "source": [
    "cnn_grid_linear = clf_grid_linear.predict(x5_cnn_test)\n",
    "print('grid - linear')\n",
    "print(model_metrics(y5_cnn_test, cnn_grid_linear))"
   ]
  },
  {
   "cell_type": "code",
   "execution_count": null,
   "id": "compatible-grill",
   "metadata": {},
   "outputs": [],
   "source": [
    "cnn_grid_linear_weighted = clf_grid_weighted_linear.predict(x5_cnn_test)\n",
    "print('grid - linear + weighted')\n",
    "print(model_metrics(y5_cnn_test, cnn_grid_linear_weighted))"
   ]
  },
  {
   "cell_type": "markdown",
   "id": "removable-conviction",
   "metadata": {},
   "source": [
    "Prediction for BBC"
   ]
  },
  {
   "cell_type": "code",
   "execution_count": null,
   "id": "characteristic-essay",
   "metadata": {},
   "outputs": [],
   "source": [
    "y5_bbc_test = bbc_scaled_test_5['Popular']\n",
    "x5_bbc_test = bbc_scaled_test_5.drop('Popular', axis=1)\n",
    "\n",
    "bbc_default = clf.predict(x5_bbc_test)\n",
    "print('clf - default settings')\n",
    "print(model_metrics(y5_bbc_test, bbc_default))"
   ]
  },
  {
   "cell_type": "code",
   "execution_count": null,
   "id": "simple-christopher",
   "metadata": {},
   "outputs": [],
   "source": [
    "bbc_grid = clf_grid.predict(x5_bbc_test)\n",
    "print('grid - default settings')\n",
    "print(model_metrics(y5_bbc_test, bbc_grid))"
   ]
  },
  {
   "cell_type": "code",
   "execution_count": null,
   "id": "legendary-internship",
   "metadata": {},
   "outputs": [],
   "source": [
    "bbc_grid_weighted = clf_grid_weighted.predict(x5_bbc_test)\n",
    "print('grid - weighted')\n",
    "print(model_metrics(y5_bbc_test, bbc_grid_weighted))"
   ]
  },
  {
   "cell_type": "code",
   "execution_count": null,
   "id": "early-hampton",
   "metadata": {},
   "outputs": [],
   "source": [
    "bbc_grid_linear_weighted = clf_grid_weighted_linear.predict(x5_bbc_test)\n",
    "print('grid - linear + weighted')\n",
    "print(model_metrics(y5_bbc_test, bbc_grid_linear_weighted))"
   ]
  },
  {
   "cell_type": "markdown",
   "id": "removable-version",
   "metadata": {},
   "source": [
    "Prediction for Reuters"
   ]
  },
  {
   "cell_type": "code",
   "execution_count": null,
   "id": "molecular-transsexual",
   "metadata": {},
   "outputs": [],
   "source": [
    "y5_reuters_test = reuters_scaled_test_5['Popular']\n",
    "x5_reuters_test = reuters_scaled_test_5.drop('Popular', axis=1)\n",
    "\n",
    "reuters_default = clf.predict(x5_reuters_test)\n",
    "print('clf - default settings')\n",
    "print(model_metrics(y5_reuters_test, reuters_default))"
   ]
  },
  {
   "cell_type": "code",
   "execution_count": null,
   "id": "competitive-vanilla",
   "metadata": {},
   "outputs": [],
   "source": [
    "reuters_grid = clf_grid.predict(x5_reuters_test)\n",
    "print('grid - default settings')\n",
    "print(model_metrics(y5_reuters_test, reuters_grid))"
   ]
  },
  {
   "cell_type": "code",
   "execution_count": null,
   "id": "appropriate-remedy",
   "metadata": {},
   "outputs": [],
   "source": [
    "reuters_grid_weighted = clf_grid_weighted.predict(x5_reuters_test)\n",
    "print('grid - weighted')\n",
    "print(model_metrics(y5_reuters_test, reuters_grid_weighted))"
   ]
  },
  {
   "cell_type": "code",
   "execution_count": null,
   "id": "sustainable-french",
   "metadata": {},
   "outputs": [],
   "source": [
    "reuters_grid_linear_weighted = clf_grid_weighted_linear.predict(x5_reuters_test)\n",
    "print('grid - linear + weighted')\n",
    "print(model_metrics(y5_reuters_test, reuters_grid_linear_weighted))"
   ]
  },
  {
   "cell_type": "markdown",
   "id": "empty-harris",
   "metadata": {},
   "source": [
    "Prediction for PressTV"
   ]
  },
  {
   "cell_type": "code",
   "execution_count": null,
   "id": "resident-technology",
   "metadata": {},
   "outputs": [],
   "source": [
    "y5_press_test = press_scaled_test_5['Popular']\n",
    "x5_press_test = press_scaled_test_5.drop('Popular', axis=1)\n",
    "\n",
    "press_default = clf.predict(x5_press_test)\n",
    "print('clf - default settings')\n",
    "print(model_metrics(y5_press_test, press_default))"
   ]
  },
  {
   "cell_type": "code",
   "execution_count": null,
   "id": "reverse-cotton",
   "metadata": {},
   "outputs": [],
   "source": [
    "press_grid = clf_grid.predict(x5_press_test)\n",
    "print('grid - default settings')\n",
    "print(model_metrics(y5_press_test, press_grid))"
   ]
  },
  {
   "cell_type": "code",
   "execution_count": null,
   "id": "italic-murray",
   "metadata": {},
   "outputs": [],
   "source": [
    "press_grid_weighted = clf_grid_weighted.predict(x5_press_test)\n",
    "print('grid - weighted')\n",
    "print(model_metrics(y5_press_test, press_grid_weighted))"
   ]
  },
  {
   "cell_type": "code",
   "execution_count": null,
   "id": "pressing-property",
   "metadata": {},
   "outputs": [],
   "source": [
    "press_grid_linear_weighted = clf_grid_weighted_linear.predict(x5_press_test)\n",
    "print('grid - linear + weighted')\n",
    "print(model_metrics(y5_press_test, press_grid_linear_weighted))"
   ]
  },
  {
   "cell_type": "markdown",
   "id": "radio-three",
   "metadata": {},
   "source": [
    "## Top 25%"
   ]
  },
  {
   "cell_type": "code",
   "execution_count": null,
   "id": "fallen-alliance",
   "metadata": {},
   "outputs": [],
   "source": [
    "y25 = scaled_training_25['Popular']\n",
    "x25 = scaled_training_25.drop('Popular', axis=1)\n",
    "\n",
    "param_grid = {'C' : np.logspace(-3, 2, 6)}\n",
    "weight_array_25 = weights_25.unique()\n",
    "weight_dict_25 = {0 : weight_array_25[0], 1 : weight_array_25[1]}"
   ]
  },
  {
   "cell_type": "code",
   "execution_count": null,
   "id": "southeast-synthesis",
   "metadata": {},
   "outputs": [],
   "source": [
    "# default SVM\n",
    "clf_25 = svm.SVC()\n",
    "clf_25.fit(x25, y25)"
   ]
  },
  {
   "cell_type": "code",
   "execution_count": null,
   "id": "portable-outline",
   "metadata": {},
   "outputs": [],
   "source": [
    "# default kernel (rbf), no weights\n",
    "svc_classifier_grid_25 = GridSearchCV(svm.SVC(), param_grid=param_grid)\n",
    "clf_grid_25 = svc_classifier_grid_25.fit(x25,y25)"
   ]
  },
  {
   "cell_type": "code",
   "execution_count": null,
   "id": "regulated-density",
   "metadata": {},
   "outputs": [],
   "source": [
    "# default kernel (rbf), weights\n",
    "svc_classifier_grid_25 = GridSearchCV(svm.SVC(class_weight=weight_dict_25), param_grid=param_grid, n_jobs=8)\n",
    "clf_grid_weighted_25 = svc_classifier_grid_25.fit(x25,y25)"
   ]
  },
  {
   "cell_type": "code",
   "execution_count": null,
   "id": "ranking-mortality",
   "metadata": {},
   "outputs": [],
   "source": [
    "# linear kernel, no weights\n",
    "svc_classifier_grid_25 = GridSearchCV(svm.LinearSVC(), cv=5, param_grid=param_grid, n_jobs=8)\n",
    "clf_grid_linear_25 = svc_classifier_grid_25.fit(x25,y25)"
   ]
  },
  {
   "cell_type": "code",
   "execution_count": null,
   "id": "severe-humanity",
   "metadata": {},
   "outputs": [],
   "source": [
    "# linear kernel, weights\n",
    "svc_classifier_grid_25 = GridSearchCV(svm.LinearSVC(class_weight=weight_dict_25), param_grid=param_grid, cv=5, n_jobs=8)\n",
    "clf_grid_weighted_linear_25 = svc_classifier_grid_25.fit(x25,y25)"
   ]
  },
  {
   "cell_type": "markdown",
   "id": "spiritual-fields",
   "metadata": {},
   "source": [
    "#### Prediction + Evaluation for Top 25% models\n",
    "\n",
    "Prediction for CNN"
   ]
  },
  {
   "cell_type": "code",
   "execution_count": null,
   "id": "affected-appreciation",
   "metadata": {},
   "outputs": [],
   "source": [
    "y25_cnn_test = cnn_scaled_test_25['Popular']\n",
    "x25_cnn_test = cnn_scaled_test_25.drop('Popular', axis=1)\n",
    "\n",
    "cnn_default_25 = clf_25.predict(x25_cnn_test)\n",
    "print('clf - default settings')\n",
    "print(model_metrics(y25_cnn_test, cnn_default_25))"
   ]
  },
  {
   "cell_type": "code",
   "execution_count": null,
   "id": "reverse-fight",
   "metadata": {},
   "outputs": [],
   "source": [
    "cnn_grid_25 = clf_grid_25.predict(x25_cnn_test)\n",
    "print('grid - default settings')\n",
    "print(model_metrics(y25_cnn_test, cnn_grid_25))"
   ]
  },
  {
   "cell_type": "code",
   "execution_count": null,
   "id": "macro-burke",
   "metadata": {},
   "outputs": [],
   "source": [
    "cnn_grid_weighted_25 = clf_grid_weighted_25.predict(x25_cnn_test)\n",
    "print('grid - weighted')\n",
    "print(model_metrics(y25_cnn_test, cnn_grid_weighted_25))"
   ]
  },
  {
   "cell_type": "code",
   "execution_count": null,
   "id": "right-setup",
   "metadata": {},
   "outputs": [],
   "source": [
    "cnn_grid_linear_25 = clf_grid_linear_25.predict(x25_cnn_test)\n",
    "print('grid - linear')\n",
    "print(model_metrics(y25_cnn_test, cnn_grid_linear_25))"
   ]
  },
  {
   "cell_type": "code",
   "execution_count": null,
   "id": "alternative-buddy",
   "metadata": {},
   "outputs": [],
   "source": [
    "cnn_grid_linear_weighted_25 = clf_grid_weighted_linear_25.predict(x25_cnn_test)\n",
    "print('grid - linear + weighted')\n",
    "print(model_metrics(y25_cnn_test, cnn_grid_linear_weighted_25))"
   ]
  },
  {
   "cell_type": "markdown",
   "id": "historical-triangle",
   "metadata": {},
   "source": [
    "Prediction for BBC"
   ]
  },
  {
   "cell_type": "code",
   "execution_count": null,
   "id": "alert-promise",
   "metadata": {},
   "outputs": [],
   "source": [
    "y25_bbc_test = bbc_scaled_test_25['Popular']\n",
    "x25_bbc_test = bbc_scaled_test_25.drop('Popular', axis=1)\n",
    "\n",
    "bbc_default_25 = clf_25.predict(x25_bbc_test)\n",
    "print('clf - default settings')\n",
    "print(model_metrics(y25_bbc_test, bbc_default_25))"
   ]
  },
  {
   "cell_type": "code",
   "execution_count": null,
   "id": "graphic-terrace",
   "metadata": {},
   "outputs": [],
   "source": [
    "bbc_grid_25 = clf_grid_25.predict(x25_bbc_test)\n",
    "print('grid - default settings')\n",
    "print(model_metrics(y25_bbc_test, bbc_grid_25))"
   ]
  },
  {
   "cell_type": "code",
   "execution_count": null,
   "id": "collected-fortune",
   "metadata": {},
   "outputs": [],
   "source": [
    "bbc_grid_weighted_25 = clf_grid_weighted_25.predict(x25_bbc_test)\n",
    "print('grid - weighted')\n",
    "print(model_metrics(y25_bbc_test, bbc_grid_weighted_25))"
   ]
  },
  {
   "cell_type": "code",
   "execution_count": null,
   "id": "manual-yorkshire",
   "metadata": {},
   "outputs": [],
   "source": [
    "bbc_grid_linear_weighted_25 = clf_grid_weighted_linear_25.predict(x25_bbc_test)\n",
    "print('grid - linear + weighted')\n",
    "print(model_metrics(y25_bbc_test, bbc_grid_linear_weighted_25))"
   ]
  },
  {
   "cell_type": "markdown",
   "id": "functioning-family",
   "metadata": {},
   "source": [
    "Prediction for Reuters"
   ]
  },
  {
   "cell_type": "code",
   "execution_count": null,
   "id": "narrow-episode",
   "metadata": {},
   "outputs": [],
   "source": [
    "y25_reuters_test = reuters_scaled_test_25['Popular']\n",
    "x25_reuters_test = reuters_scaled_test_25.drop('Popular', axis=1)\n",
    "\n",
    "reuters_default_25 = clf_25.predict(x25_reuters_test)\n",
    "print('clf - default settings')\n",
    "print(model_metrics(y25_reuters_test, reuters_default_25))"
   ]
  },
  {
   "cell_type": "code",
   "execution_count": null,
   "id": "incorrect-branch",
   "metadata": {},
   "outputs": [],
   "source": [
    "reuters_grid_25 = clf_grid_25.predict(x25_reuters_test)\n",
    "print('grid - default settings')\n",
    "print(model_metrics(y25_reuters_test, reuters_grid_25))"
   ]
  },
  {
   "cell_type": "code",
   "execution_count": null,
   "id": "fitting-anaheim",
   "metadata": {},
   "outputs": [],
   "source": [
    "reuters_grid_weighted_25 = clf_grid_weighted_25.predict(x25_reuters_test)\n",
    "print('grid - weighted')\n",
    "print(model_metrics(y25_reuters_test, reuters_grid_weighted_25))"
   ]
  },
  {
   "cell_type": "code",
   "execution_count": null,
   "id": "consistent-folder",
   "metadata": {},
   "outputs": [],
   "source": [
    "reuters_grid_linear_weighted_25 = clf_grid_weighted_linear_25.predict(x25_reuters_test)\n",
    "print('grid - linear + weighted')\n",
    "print(model_metrics(y25_reuters_test, reuters_grid_linear_weighted_25))"
   ]
  },
  {
   "cell_type": "markdown",
   "id": "massive-cattle",
   "metadata": {},
   "source": [
    "Prediction for PressTV"
   ]
  },
  {
   "cell_type": "code",
   "execution_count": null,
   "id": "matched-awareness",
   "metadata": {},
   "outputs": [],
   "source": [
    "y25_press_test = press_scaled_test_25['Popular']\n",
    "x25_press_test = press_scaled_test_25.drop('Popular', axis=1)\n",
    "\n",
    "press_default_25 = clf_25.predict(x25_press_test)\n",
    "print('clf - default settings')\n",
    "print(model_metrics(y25_press_test, press_default_25))"
   ]
  },
  {
   "cell_type": "code",
   "execution_count": null,
   "id": "weighted-freeware",
   "metadata": {},
   "outputs": [],
   "source": [
    "press_grid_25 = clf_grid_25.predict(x25_press_test)\n",
    "print('grid - default settings')\n",
    "print(model_metrics(y25_press_test, press_grid_25))"
   ]
  },
  {
   "cell_type": "code",
   "execution_count": null,
   "id": "european-fundamental",
   "metadata": {},
   "outputs": [],
   "source": [
    "press_grid_weighted_25 = clf_grid_weighted_25.predict(x25_press_test)\n",
    "print('grid - weighted')\n",
    "print(model_metrics(y25_press_test, press_grid_weighted_25))"
   ]
  },
  {
   "cell_type": "code",
   "execution_count": null,
   "id": "opened-disco",
   "metadata": {},
   "outputs": [],
   "source": [
    "press_grid_linear_weighted_25 = clf_grid_weighted_linear_25.predict(x25_press_test)\n",
    "print('grid - linear + weighted')\n",
    "print(model_metrics(y25_press_test, press_grid_linear_weighted_25))"
   ]
  }
 ],
 "metadata": {
  "kernelspec": {
   "display_name": "Python 3",
   "language": "python",
   "name": "python3"
  },
  "language_info": {
   "codemirror_mode": {
    "name": "ipython",
    "version": 3
   },
   "file_extension": ".py",
   "mimetype": "text/x-python",
   "name": "python",
   "nbconvert_exporter": "python",
   "pygments_lexer": "ipython3",
   "version": "3.9.2"
  }
 },
 "nbformat": 4,
 "nbformat_minor": 5
}
