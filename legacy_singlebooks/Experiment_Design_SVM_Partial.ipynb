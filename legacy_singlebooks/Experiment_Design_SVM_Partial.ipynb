{
 "cells": [
  {
   "cell_type": "markdown",
   "metadata": {
    "id": "YSy_DWTKLtg8"
   },
   "source": [
    "This notebook implements the SVM Partial models for the News Prediction paper of Experiment Design. We will train separate models for each news agency Telegram channel, as described in the paper. Weirdly enough, the also added\n",
    "the Guardian, BCC Persian and the Washington Post in their dataset, but they\n",
    "are not mentioned in the paper ...\n",
    "\n",
    "We will collect a few measures also used in the paper and investiagte the results.\n",
    "\n",
    "As the first step, we will clone the dataset containing the Telegram data used by [Naseri 2019]."
   ]
  },
  {
   "cell_type": "markdown",
   "metadata": {
    "id": "9kwqm9kGRgUs"
   },
   "source": [
    "**ISSUES FOUND**\n",
    "\n",
    "* **Which of the .bson files are actually used for the experiment?** There\n",
    "is no indication if Washington Post and BBC Persia etc. are used for the\n",
    "experiments, as they are not mentioned in the paper itself.\n",
    "\n",
    "* **How are the binary labels acutally generated from the data?** There is no indication for the threshold they used in the paper. They mention only: \"Therefore, we first found the thresholds that satisfy these percent-\n",
    "ages for training and test sets and assigned a binary label to each\n",
    "post (“popular” or “not popular”). \"\n",
    "\n",
    "* **How are the features generated from the data (manually, algorithm, ...)?** This would be important as the bson data does **not** have the same features. List of issues: What is the n-grams thing? How do we generate the hashtags and mention features? How are we supposed to generate the media-type features? What does Has Link mean (could be either the enitity type URL or a media page containing a url tag...).\n",
    "\n",
    "* **THERE IS A TYPO MISTAKE IN THE FEATURES TABLE!!** We can't really reproduce\n",
    "the #mentions features without guessing that they mean the count of the mentions\n",
    "in a post (They use the same text as for the hashtags)\n",
    "\n",
    "* **How are the NaN in the data handled?** Could be removed, zero-filled, interpolated. We just don't know..."
   ]
  },
  {
   "cell_type": "markdown",
   "metadata": {
    "id": "w1brRJIlhYu-"
   },
   "source": [
    "# Feature Extraction"
   ]
  },
  {
   "cell_type": "code",
   "execution_count": 2,
   "metadata": {
    "colab": {
     "base_uri": "https://localhost:8080/"
    },
    "id": "gCLmZepRLnXs",
    "outputId": "180ed374-90f7-49e1-be86-14806dad509f"
   },
   "outputs": [
    {
     "name": "stderr",
     "output_type": "stream",
     "text": [
      "fatal: destination path 'TelegramNews' already exists and is not an empty directory.\n"
     ]
    }
   ],
   "source": [
    "# Run only if needed, e.g. when the Telegram News Folder is not yet downloaded!\n",
    "! git clone https://github.com/IceCream71/TelegramNews.git"
   ]
  },
  {
   "cell_type": "code",
   "execution_count": 1,
   "metadata": {
    "id": "FLBREFi9N9kY"
   },
   "outputs": [],
   "source": [
    "import pandas as pd\n",
    "import seaborn as sns\n",
    "import bson\n",
    "\n",
    "def create_df_for_bson(path): \n",
    "  with open (path, 'rb') as f:\n",
    "    data = bson.decode_all(f.read())\n",
    "\n",
    "  df = pd.DataFrame(data)\n",
    "  df = handle_NAS(df)\n",
    "  df = extract_features(df)\n",
    "  df = cut_date_range(df)\n",
    "  df = drop_unused_features(df)\n",
    "  return df\n",
    "\n",
    "def handle_NAS(df):\n",
    "  df = df.dropna(subset=['views'],axis=0)\n",
    "  return df\n",
    "\n",
    "def extract_features(df):\n",
    "  df = create_datetime_features(df)\n",
    "  df = add_channel_features(df)\n",
    "  df = create_entity_features(df)\n",
    "  return df\n",
    "\n",
    "def create_datetime_features(df):\n",
    "  df['age'] =  df.date\n",
    "  df['date'] = pd.to_datetime(df.date, unit='s')\n",
    "  df['year'] = df.date.dt.year\n",
    "  df['month'] = df.date.dt.month\n",
    "  df['day'] = df.date.dt.day\n",
    "  df['weekday'] = df.date.dt.dayofweek\n",
    "  df['hour'] = df.date.dt.hour\n",
    "  return df\n",
    "\n",
    "def cut_date_range(df):\n",
    "  # March 8, 2017 to October 8, 2017.\n",
    "  start_date = \"2017-03-08\"\n",
    "  end_date  = \"2017-10-08\"\n",
    "  mask = (df.date > start_date) & (df.date <= end_date)\n",
    "  return df.loc[mask]\n",
    "\n",
    "def add_channel_features(df):\n",
    "  df['minViews'] = df.views.min()\n",
    "  df['maxViews'] = df.views.max()\n",
    "  df['meanViews'] = df.views.mean()\n",
    "  df['stdViews'] = df.views.std()\n",
    "  df['hourlyAvgPosts'] = df.groupby('hour').size().mean()\n",
    "  df['dailyAvgPosts'] = df.groupby(['year','month','day']).size().mean()\n",
    "  return df\n",
    "\n",
    "def create_entity_features(df):\n",
    "  # Convert the entity field from bson into the actual features.\n",
    "  # For each row, check if media exists, if yes set media type.\n",
    "  df['hasMedia'] = df.media.notnull()\n",
    "  df['mediaType'] = df.apply(lambda x: x.media['_'] if x.hasMedia else '', axis=1)\n",
    "  # Check if URL exists in entities, if exists, is a link\n",
    "  df['hasLink'] = df.apply(lambda x: True if type(x.entities) != float and [d for d in x.entities if d['_'] ==  'messageEntityTextUrl'] else False, axis=1)\n",
    "  # Collect the mentions from the entities feature\n",
    "  df['mentions'] = df.apply(lambda x: len([d for d in x.entities if d['_'] == 'messageEntityMention']) if type(x.entities) != float else 0, axis=1)\n",
    "  # Same as before for the hashtags\n",
    "  df['hashtags'] = df.apply(lambda x: len([d for d in x.entities if d['_'] == 'messageEntityHashtag']) if type(x.entities) != float else 0, axis=1)\n",
    "  return df\n",
    "\n",
    "def drop_unused_features(df):\n",
    "  return df.drop(labels=['_id','_','flags','post','id','to_id','reply_to_msg_id',\n",
    "                  'media','channel','entities','message','fwd_from','edit_date',\n",
    "                  'via_bot_id','reply_markup','action', 'silent'],axis=1,errors='ignore')\n",
    "\n",
    " \n",
    "reutersWorld = create_df_for_bson('TelegramNews/mongo/telegram/ReutersWorld.bson')\n",
    "cnnBrk = create_df_for_bson('TelegramNews/mongo/telegram/CNNBrk.bson')\n",
    "bbc = create_df_for_bson('TelegramNews/mongo/telegram/bbcbreaking.bson')\n",
    "pressTV = create_df_for_bson('TelegramNews/mongo/telegram/presstv.bson')\n",
    "#bbcPersian = create_df_for_bson('/content/TelegramNews/mongo/telegram/bbcpersian.bson')\n",
    "#washingtonPost = create_df_for_bson('/content/TelegramNews/mongo/telegram/washingtonpost.bson')\n",
    "#theGuardian = create_df_for_bson('/content/TelegramNews/mongo/telegram/TheGuardian.bson')"
   ]
  },
  {
   "cell_type": "markdown",
   "metadata": {
    "id": "znggwkym_WkS"
   },
   "source": [
    "I added some tests belkow to check if my calculations and mappings of the features correspond to the ones reported in the paper. The results seem\n",
    "fairly accurate if we take rounding into account. \n",
    "\n",
    "What is weird is that\n",
    "the actual size of the datasets don't match up with the repoted dataset sizes\n",
    "in the paper. My guess would be that they just repoted their acutal test set\n",
    "sizes and not the complete set."
   ]
  },
  {
   "cell_type": "code",
   "execution_count": 2,
   "metadata": {
    "collapsed": false,
    "jupyter": {
     "outputs_hidden": false
    },
    "pycharm": {
     "name": "#%%\n"
    }
   },
   "outputs": [],
   "source": [
    "def get_statistics_for_dataset(data, label):\n",
    "  news_item_count = len(data.index)\n",
    "  average_views = data.views.sum() / len(data.index)\n",
    "  std_views = np.std(data.views)\n",
    "  avg_hastags = round(data.hashtags.sum() / len(data.index),4)\n",
    "  avg_media = round(len(data[data.hasMedia == True].index) / len(data.index),4)\n",
    "  avg_mentions = round(data.mentions.sum() / len(data.index),4)\n",
    "  return {\"NI-count\": news_item_count,\n",
    "          \"avg_views\" : average_views,\n",
    "          \"std_views\" :std_views,\n",
    "          \"avg_hastags\" : avg_hastags,\n",
    "          \"avg_media\" : avg_media,\n",
    "          \"avg_mentions\" : avg_mentions,\n",
    "          \"agency\" : label}"
   ]
  },
  {
   "cell_type": "code",
   "execution_count": 4,
   "metadata": {
    "colab": {
     "base_uri": "https://localhost:8080/",
     "height": 297
    },
    "id": "vpEtV1ilXbAG",
    "outputId": "2a1f7d7b-210a-4f80-fc7f-c7183952496e"
   },
   "outputs": [
    {
     "name": "stdout",
     "output_type": "stream",
     "text": [
      "Mentions per news 0.4697\n"
     ]
    },
    {
     "data": {
      "image/png": "[encoded data removed]",
      "text/plain": [
       "<Figure size 432x288 with 1 Axes>"
      ]
     },
     "metadata": {
      "needs_background": "light"
     },
     "output_type": "display_data"
    }
   ],
   "source": [
    "sns.barplot(x=cnnBrk.mentions,y=cnnBrk.index);\n",
    "print(f\"Mentions per news {round(cnnBrk.mentions.sum() / len(cnnBrk.index),4)}\")"
   ]
  },
  {
   "cell_type": "code",
   "execution_count": 10,
   "metadata": {
    "colab": {
     "base_uri": "https://localhost:8080/",
     "height": 297
    },
    "id": "wKY8DVV_9w_i",
    "outputId": "2b03a308-50de-4a7e-87b0-28e288216fa2"
   },
   "outputs": [
    {
     "name": "stdout",
     "output_type": "stream",
     "text": [
      "Hastags per news 0.0004\n"
     ]
    },
    {
     "data": {
      "image/png": "[encoded data removed]",
      "text/plain": [
       "<Figure size 432x288 with 1 Axes>"
      ]
     },
     "metadata": {
      "needs_background": "light"
     },
     "output_type": "display_data"
    }
   ],
   "source": [
    "sns.barplot(x=cnnBrk.hashtags,y=cnnBrk.index);\n",
    "print(f\"Hastags per news {round(cnnBrk.hashtags.sum() / len(cnnBrk.index),4)}\")"
   ]
  },
  {
   "cell_type": "code",
   "execution_count": 11,
   "metadata": {
    "colab": {
     "base_uri": "https://localhost:8080/",
     "height": 297
    },
    "id": "oKvrB-n5-0P0",
    "outputId": "4119f647-d6c6-4d52-b80e-9dfb1c06644e"
   },
   "outputs": [
    {
     "name": "stdout",
     "output_type": "stream",
     "text": [
      "Media per news 0.5302\n"
     ]
    },
    {
     "data": {
      "image/png": "[encoded data removed]",
      "text/plain": [
       "<Figure size 432x288 with 1 Axes>"
      ]
     },
     "metadata": {
      "needs_background": "light"
     },
     "output_type": "display_data"
    }
   ],
   "source": [
    "sns.barplot(x=cnnBrk.hasMedia,y=cnnBrk.index);\n",
    "print(f\"Media per news {round(len(cnnBrk[cnnBrk.hasMedia == True].index) / len(cnnBrk.index),4)}\")"
   ]
  },
  {
   "cell_type": "code",
   "execution_count": 41,
   "metadata": {
    "collapsed": false,
    "jupyter": {
     "outputs_hidden": false
    },
    "pycharm": {
     "name": "#%%\n"
    }
   },
   "outputs": [
    {
     "data": {
      "text/html": [
       "<div>\n",
       "<style scoped>\n",
       "    .dataframe tbody tr th:only-of-type {\n",
       "        vertical-align: middle;\n",
       "    }\n",
       "\n",
       "    .dataframe tbody tr th {\n",
       "        vertical-align: top;\n",
       "    }\n",
       "\n",
       "    .dataframe thead th {\n",
       "        text-align: right;\n",
       "    }\n",
       "</style>\n",
       "<table border=\"1\" class=\"dataframe\">\n",
       "  <thead>\n",
       "    <tr style=\"text-align: right;\">\n",
       "      <th></th>\n",
       "      <th>NI-count</th>\n",
       "      <th>avg_views</th>\n",
       "      <th>std_views</th>\n",
       "      <th>avg_hastags</th>\n",
       "      <th>avg_media</th>\n",
       "      <th>avg_mentions</th>\n",
       "      <th>agency</th>\n",
       "    </tr>\n",
       "  </thead>\n",
       "  <tbody>\n",
       "    <tr>\n",
       "      <th>0</th>\n",
       "      <td>48471</td>\n",
       "      <td>88.985827</td>\n",
       "      <td>99.930244</td>\n",
       "      <td>0.0004</td>\n",
       "      <td>0.5302</td>\n",
       "      <td>0.4697</td>\n",
       "      <td>CNN</td>\n",
       "    </tr>\n",
       "    <tr>\n",
       "      <th>1</th>\n",
       "      <td>7860</td>\n",
       "      <td>1183.157888</td>\n",
       "      <td>337.592685</td>\n",
       "      <td>0.0004</td>\n",
       "      <td>0.9205</td>\n",
       "      <td>0.0219</td>\n",
       "      <td>PressTV</td>\n",
       "    </tr>\n",
       "    <tr>\n",
       "      <th>2</th>\n",
       "      <td>11307</td>\n",
       "      <td>221.345715</td>\n",
       "      <td>94.197241</td>\n",
       "      <td>0.0001</td>\n",
       "      <td>0.1633</td>\n",
       "      <td>0.9990</td>\n",
       "      <td>Reuters</td>\n",
       "    </tr>\n",
       "    <tr>\n",
       "      <th>3</th>\n",
       "      <td>1838</td>\n",
       "      <td>678.303047</td>\n",
       "      <td>1930.809073</td>\n",
       "      <td>0.1436</td>\n",
       "      <td>0.9233</td>\n",
       "      <td>0.3836</td>\n",
       "      <td>BBC</td>\n",
       "    </tr>\n",
       "  </tbody>\n",
       "</table>\n",
       "</div>"
      ],
      "text/plain": [
       "   NI-count    avg_views    std_views  avg_hastags  avg_media  avg_mentions  \\\n",
       "0     48471    88.985827    99.930244       0.0004     0.5302        0.4697   \n",
       "1      7860  1183.157888   337.592685       0.0004     0.9205        0.0219   \n",
       "2     11307   221.345715    94.197241       0.0001     0.1633        0.9990   \n",
       "3      1838   678.303047  1930.809073       0.1436     0.9233        0.3836   \n",
       "\n",
       "    agency  \n",
       "0      CNN  \n",
       "1  PressTV  \n",
       "2  Reuters  \n",
       "3      BBC  "
      ]
     },
     "execution_count": 41,
     "metadata": {},
     "output_type": "execute_result"
    }
   ],
   "source": [
    "def generate_stat_block():\n",
    "  cnnStat = get_statistics_for_dataset(cnnBrk, \"CNN\")\n",
    "  bbcStat = get_statistics_for_dataset(bbc, \"BBC\")\n",
    "  presstvStat = get_statistics_for_dataset(pressTV , \"PressTV\")\n",
    "  reutersStat = get_statistics_for_dataset(reutersWorld, \"Reuters\")\n",
    "  res = pd.DataFrame([cnnStat, presstvStat, reutersStat, bbcStat])\n",
    "  return res\n",
    "generate_stat_block()"
   ]
  },
  {
   "cell_type": "markdown",
   "metadata": {
    "id": "B7mpiQjEhBqp"
   },
   "source": [
    "# Distribution Assumptions\n",
    "We can now also test the distribution assumptions for the views variable made by the authors.\n",
    "For this we check all 89 distributions available in Skicit-Learn: (https://docs.scipy.org/doc/scipy/reference/stats.html)\n",
    "\n",
    "## Issues Found\n",
    "\n",
    "* **Which 89 distributions did they acutally test?** Scipy includes more distributions than 89 and is continually updated, so just linking to the page above is not enough ...\n",
    "\n",
    "* **Which metric was used to evaluate goodness of fit of the dist.?** No metric is repoted in the paper.\n",
    "\n",
    "* **Distributions do NOT MATCH with the paper !!**"
   ]
  },
  {
   "cell_type": "code",
   "execution_count": 26,
   "metadata": {
    "collapsed": false,
    "jupyter": {
     "outputs_hidden": false
    },
    "pycharm": {
     "name": "#%%\n"
    }
   },
   "outputs": [],
   "source": [
    "import scipy.stats as st\n",
    "from scipy.stats._continuous_distns import _distn_names\n",
    "import numpy as np\n",
    "import warnings\n",
    "import csv\n",
    "\n",
    "def test_distribution(data, dist):\n",
    "    print(f\"Testing distribution {dist}\")\n",
    "    label = dist\n",
    "    dist = getattr(st, dist)\n",
    "\n",
    "    with warnings.catch_warnings():\n",
    "      warnings.filterwarnings('ignore')\n",
    "      try :\n",
    "        params = dist.fit(data.views)\n",
    "\n",
    "        #parameters of fitted distribution.\n",
    "        arg = params[:-2]\n",
    "        loc = params[-2]\n",
    "        scale = params[-1]\n",
    "\n",
    "        #calc pdf and error for fit.\n",
    "        pdf = dist.pdf(np.arange(len(data.views)), loc=loc, scale=scale, *arg)\n",
    "        sse = np.sum(np.power(data.views - pdf, 2.0))\n",
    "\n",
    "        #calc Kolgorov-Smirnov\n",
    "        dist, p = st.kstest(data.views, label, args=params)\n",
    "      except ValueError:\n",
    "        print(f\"Could not process distribution {dist}\")\n",
    "        return False\n",
    "    return {\"name\" : label, \"params\" : params, \"Error\" : sse, \"P-Value\" : p}"
   ]
  },
  {
   "cell_type": "code",
   "execution_count": 27,
   "metadata": {
    "id": "3L7XO0XkhWNc"
   },
   "outputs": [],
   "source": [
    "def test_best_distribution(data):\n",
    "  results = []\n",
    "  # Exclude levy_stable and studentized_range as their implementations in \n",
    "  # scipy suck and take a vast amount of time to compute.\n",
    "  dist_to_test = [d for d in _distn_names if not d in ['levy_stable', 'studentized_range']]\n",
    "  for dist in dist_to_test:\n",
    "    res = test_distribution(data, dist)\n",
    "    if res:\n",
    "      results.append(res)\n",
    "  return sorted(results, key=lambda x:x[\"P-Value\"])\n",
    "\n",
    "def generate_and_save_distribution_tests_for(data, label):\n",
    "  dists = test_best_distribution(data)\n",
    "  cols = [\"name\", \"params\", \"Error\", \"P-Value\"]\n",
    "  with open(f'distributions/{label}.csv', 'w', newline='', encoding='utf-8') as file:\n",
    "    writer = csv.DictWriter(file, fieldnames=cols)\n",
    "    writer.writeheader()\n",
    "    for d in dists:\n",
    "      writer.writerow(d)\n",
    "  print(f\"Done processing distribution tests for {label}\")"
   ]
  },
  {
   "cell_type": "code",
   "execution_count": 31,
   "metadata": {
    "collapsed": false,
    "jupyter": {
     "outputs_hidden": false
    },
    "pycharm": {
     "name": "#%%\n"
    }
   },
   "outputs": [
    {
     "name": "stdout",
     "output_type": "stream",
     "text": [
      "Testing distribution ksone\n",
      "Testing distribution kstwo\n",
      "Could not process distribution <scipy.stats._continuous_distns.kstwo_gen object at 0x000001DA743735B0>\n",
      "Testing distribution kstwobign\n",
      "Testing distribution norm\n",
      "Testing distribution alpha\n",
      "Testing distribution anglit\n",
      "Testing distribution arcsine\n",
      "Testing distribution beta\n",
      "Testing distribution betaprime\n",
      "Testing distribution bradford\n",
      "Testing distribution burr\n",
      "Testing distribution burr12\n",
      "Testing distribution fisk\n",
      "Testing distribution cauchy\n",
      "Testing distribution chi\n",
      "Testing distribution chi2\n",
      "Testing distribution cosine\n",
      "Testing distribution dgamma\n",
      "Testing distribution dweibull\n",
      "Testing distribution expon\n",
      "Testing distribution exponnorm\n",
      "Testing distribution exponweib\n",
      "Testing distribution exponpow\n",
      "Testing distribution fatiguelife\n",
      "Testing distribution foldcauchy\n",
      "Testing distribution f\n",
      "Testing distribution foldnorm\n",
      "Testing distribution weibull_min\n",
      "Testing distribution weibull_max\n",
      "Testing distribution genlogistic\n",
      "Testing distribution genpareto\n",
      "Testing distribution genexpon\n",
      "Testing distribution genextreme\n",
      "Testing distribution gamma\n",
      "Testing distribution erlang\n",
      "Testing distribution gengamma\n",
      "Testing distribution genhalflogistic\n",
      "Testing distribution genhyperbolic\n",
      "Testing distribution gompertz\n",
      "Testing distribution gumbel_r\n",
      "Testing distribution gumbel_l\n",
      "Testing distribution halfcauchy\n",
      "Testing distribution halflogistic\n",
      "Testing distribution halfnorm\n",
      "Testing distribution hypsecant\n",
      "Testing distribution gausshyper\n",
      "Testing distribution invgamma\n",
      "Testing distribution invgauss\n",
      "Testing distribution geninvgauss\n",
      "Testing distribution norminvgauss\n",
      "Testing distribution invweibull\n",
      "Testing distribution johnsonsb\n",
      "Testing distribution johnsonsu\n",
      "Testing distribution laplace\n",
      "Testing distribution laplace_asymmetric\n",
      "Testing distribution levy\n",
      "Testing distribution levy_l\n",
      "Testing distribution logistic\n",
      "Testing distribution loggamma\n",
      "Testing distribution loglaplace\n",
      "Testing distribution lognorm\n",
      "Testing distribution gilbrat\n",
      "Testing distribution maxwell\n",
      "Testing distribution mielke\n",
      "Testing distribution kappa4\n",
      "Testing distribution kappa3\n",
      "Testing distribution moyal\n",
      "Testing distribution nakagami\n",
      "Testing distribution ncx2\n",
      "Testing distribution ncf\n",
      "Testing distribution t\n",
      "Testing distribution nct\n",
      "Testing distribution pareto\n",
      "Testing distribution lomax\n",
      "Testing distribution pearson3\n",
      "Testing distribution powerlaw\n",
      "Testing distribution powerlognorm\n",
      "Testing distribution powernorm\n",
      "Testing distribution rdist\n",
      "Testing distribution rayleigh\n",
      "Testing distribution loguniform\n",
      "Testing distribution reciprocal\n",
      "Testing distribution rice\n",
      "Testing distribution recipinvgauss\n",
      "Testing distribution semicircular\n",
      "Testing distribution skewcauchy\n",
      "Testing distribution skewnorm\n",
      "Testing distribution trapezoid\n",
      "Testing distribution trapz\n",
      "Testing distribution triang\n",
      "Testing distribution truncexpon\n",
      "Testing distribution truncnorm\n",
      "Testing distribution tukeylambda\n",
      "Testing distribution uniform\n",
      "Testing distribution vonmises\n",
      "Testing distribution vonmises_line\n",
      "Testing distribution wald\n",
      "Testing distribution wrapcauchy\n",
      "Testing distribution gennorm\n",
      "Testing distribution halfgennorm\n",
      "Testing distribution crystalball\n",
      "Testing distribution argus\n",
      "Done processing distribution tests for cnn_breaking\n"
     ]
    }
   ],
   "source": [
    "generate_and_save_distribution_tests_for(cnnBrk, \"cnn_breaking\")"
   ]
  },
  {
   "cell_type": "code",
   "execution_count": 30,
   "metadata": {
    "collapsed": false,
    "jupyter": {
     "outputs_hidden": false
    },
    "pycharm": {
     "name": "#%%\n"
    }
   },
   "outputs": [
    {
     "name": "stdout",
     "output_type": "stream",
     "text": [
      "Testing distribution ksone\n",
      "Testing distribution kstwo\n",
      "Could not process distribution <scipy.stats._continuous_distns.kstwo_gen object at 0x000001DA743735B0>\n",
      "Testing distribution kstwobign\n",
      "Testing distribution norm\n",
      "Testing distribution alpha\n",
      "Testing distribution anglit\n",
      "Testing distribution arcsine\n",
      "Testing distribution beta\n",
      "Testing distribution betaprime\n",
      "Testing distribution bradford\n",
      "Testing distribution burr\n",
      "Testing distribution burr12\n",
      "Testing distribution fisk\n",
      "Testing distribution cauchy\n",
      "Testing distribution chi\n",
      "Testing distribution chi2\n",
      "Testing distribution cosine\n",
      "Testing distribution dgamma\n",
      "Testing distribution dweibull\n",
      "Testing distribution expon\n",
      "Testing distribution exponnorm\n",
      "Testing distribution exponweib\n",
      "Testing distribution exponpow\n",
      "Testing distribution fatiguelife\n",
      "Testing distribution foldcauchy\n",
      "Testing distribution f\n",
      "Testing distribution foldnorm\n",
      "Testing distribution weibull_min\n",
      "Testing distribution weibull_max\n",
      "Testing distribution genlogistic\n",
      "Testing distribution genpareto\n",
      "Testing distribution genexpon\n",
      "Testing distribution genextreme\n",
      "Testing distribution gamma\n",
      "Testing distribution erlang\n",
      "Testing distribution gengamma\n",
      "Testing distribution genhalflogistic\n",
      "Testing distribution genhyperbolic\n",
      "Testing distribution gompertz\n",
      "Testing distribution gumbel_r\n",
      "Testing distribution gumbel_l\n",
      "Testing distribution halfcauchy\n",
      "Testing distribution halflogistic\n",
      "Testing distribution halfnorm\n",
      "Testing distribution hypsecant\n",
      "Testing distribution gausshyper\n",
      "Testing distribution invgamma\n",
      "Testing distribution invgauss\n",
      "Testing distribution geninvgauss\n",
      "Testing distribution norminvgauss\n",
      "Testing distribution invweibull\n",
      "Testing distribution johnsonsb\n",
      "Testing distribution johnsonsu\n",
      "Testing distribution laplace\n",
      "Testing distribution laplace_asymmetric\n",
      "Testing distribution levy\n",
      "Testing distribution levy_l\n",
      "Testing distribution logistic\n",
      "Testing distribution loggamma\n",
      "Testing distribution loglaplace\n",
      "Testing distribution lognorm\n",
      "Testing distribution gilbrat\n",
      "Testing distribution maxwell\n",
      "Testing distribution mielke\n",
      "Testing distribution kappa4\n",
      "Testing distribution kappa3\n",
      "Testing distribution moyal\n",
      "Testing distribution nakagami\n",
      "Testing distribution ncx2\n",
      "Testing distribution ncf\n",
      "Testing distribution t\n",
      "Testing distribution nct\n",
      "Testing distribution pareto\n",
      "Testing distribution lomax\n",
      "Testing distribution pearson3\n",
      "Testing distribution powerlaw\n",
      "Testing distribution powerlognorm\n",
      "Testing distribution powernorm\n",
      "Testing distribution rdist\n",
      "Testing distribution rayleigh\n",
      "Testing distribution loguniform\n",
      "Testing distribution reciprocal\n",
      "Testing distribution rice\n",
      "Testing distribution recipinvgauss\n",
      "Testing distribution semicircular\n",
      "Testing distribution skewcauchy\n",
      "Testing distribution skewnorm\n",
      "Testing distribution trapezoid\n",
      "Testing distribution trapz\n",
      "Testing distribution triang\n",
      "Testing distribution truncexpon\n",
      "Testing distribution truncnorm\n",
      "Testing distribution tukeylambda\n",
      "Testing distribution uniform\n",
      "Testing distribution vonmises\n",
      "Testing distribution vonmises_line\n",
      "Testing distribution wald\n",
      "Testing distribution wrapcauchy\n",
      "Testing distribution gennorm\n",
      "Testing distribution halfgennorm\n",
      "Testing distribution crystalball\n",
      "Testing distribution argus\n",
      "Done processing distribution tests for reuters\n"
     ]
    }
   ],
   "source": [
    "generate_and_save_distribution_tests_for(reutersWorld, \"reuters\")"
   ]
  },
  {
   "cell_type": "code",
   "execution_count": 28,
   "metadata": {
    "collapsed": false,
    "jupyter": {
     "outputs_hidden": false
    },
    "pycharm": {
     "name": "#%%\n"
    }
   },
   "outputs": [
    {
     "name": "stdout",
     "output_type": "stream",
     "text": [
      "Testing distribution ksone\n",
      "Testing distribution kstwo\n",
      "Could not process distribution <scipy.stats._continuous_distns.kstwo_gen object at 0x000001DA743735B0>\n",
      "Testing distribution kstwobign\n",
      "Testing distribution norm\n",
      "Testing distribution alpha\n",
      "Testing distribution anglit\n",
      "Testing distribution arcsine\n",
      "Testing distribution beta\n",
      "Testing distribution betaprime\n",
      "Testing distribution bradford\n",
      "Testing distribution burr\n",
      "Testing distribution burr12\n",
      "Testing distribution fisk\n",
      "Testing distribution cauchy\n",
      "Testing distribution chi\n",
      "Testing distribution chi2\n",
      "Testing distribution cosine\n",
      "Testing distribution dgamma\n",
      "Testing distribution dweibull\n",
      "Testing distribution expon\n",
      "Testing distribution exponnorm\n",
      "Testing distribution exponweib\n",
      "Testing distribution exponpow\n",
      "Testing distribution fatiguelife\n",
      "Testing distribution foldcauchy\n",
      "Testing distribution f\n",
      "Testing distribution foldnorm\n",
      "Testing distribution weibull_min\n",
      "Testing distribution weibull_max\n",
      "Testing distribution genlogistic\n",
      "Testing distribution genpareto\n",
      "Testing distribution genexpon\n",
      "Testing distribution genextreme\n",
      "Testing distribution gamma\n",
      "Testing distribution erlang\n",
      "Testing distribution gengamma\n",
      "Testing distribution genhalflogistic\n",
      "Testing distribution genhyperbolic\n",
      "Testing distribution gompertz\n",
      "Testing distribution gumbel_r\n",
      "Testing distribution gumbel_l\n",
      "Testing distribution halfcauchy\n",
      "Testing distribution halflogistic\n",
      "Testing distribution halfnorm\n",
      "Testing distribution hypsecant\n",
      "Testing distribution gausshyper\n",
      "Testing distribution invgamma\n",
      "Testing distribution invgauss\n",
      "Testing distribution geninvgauss\n",
      "Testing distribution norminvgauss\n",
      "Testing distribution invweibull\n",
      "Testing distribution johnsonsb\n",
      "Testing distribution johnsonsu\n",
      "Testing distribution laplace\n",
      "Testing distribution laplace_asymmetric\n",
      "Testing distribution levy\n",
      "Testing distribution levy_l\n",
      "Testing distribution logistic\n",
      "Testing distribution loggamma\n",
      "Testing distribution loglaplace\n",
      "Testing distribution lognorm\n",
      "Testing distribution gilbrat\n",
      "Testing distribution maxwell\n",
      "Testing distribution mielke\n",
      "Testing distribution kappa4\n",
      "Testing distribution kappa3\n",
      "Testing distribution moyal\n",
      "Testing distribution nakagami\n",
      "Testing distribution ncx2\n",
      "Testing distribution ncf\n",
      "Testing distribution t\n",
      "Testing distribution nct\n",
      "Testing distribution pareto\n",
      "Testing distribution lomax\n",
      "Testing distribution pearson3\n",
      "Testing distribution powerlaw\n",
      "Testing distribution powerlognorm\n",
      "Testing distribution powernorm\n",
      "Testing distribution rdist\n",
      "Testing distribution rayleigh\n",
      "Testing distribution loguniform\n",
      "Testing distribution reciprocal\n",
      "Testing distribution rice\n",
      "Testing distribution recipinvgauss\n",
      "Testing distribution semicircular\n",
      "Testing distribution skewcauchy\n",
      "Testing distribution skewnorm\n",
      "Testing distribution trapezoid\n",
      "Testing distribution trapz\n",
      "Testing distribution triang\n",
      "Testing distribution truncexpon\n",
      "Testing distribution truncnorm\n",
      "Testing distribution tukeylambda\n",
      "Testing distribution uniform\n",
      "Testing distribution vonmises\n",
      "Testing distribution vonmises_line\n",
      "Testing distribution wald\n",
      "Testing distribution wrapcauchy\n",
      "Testing distribution gennorm\n",
      "Testing distribution halfgennorm\n",
      "Testing distribution crystalball\n",
      "Testing distribution argus\n",
      "Done processing distribution tests for bbc\n"
     ]
    }
   ],
   "source": [
    "generate_and_save_distribution_tests_for(bbc, \"bbc\")"
   ]
  },
  {
   "cell_type": "code",
   "execution_count": 29,
   "metadata": {
    "collapsed": false,
    "jupyter": {
     "outputs_hidden": false
    },
    "pycharm": {
     "name": "#%%\n"
    }
   },
   "outputs": [
    {
     "name": "stdout",
     "output_type": "stream",
     "text": [
      "Testing distribution ksone\n",
      "Testing distribution kstwo\n",
      "Could not process distribution <scipy.stats._continuous_distns.kstwo_gen object at 0x000001DA743735B0>\n",
      "Testing distribution kstwobign\n",
      "Testing distribution norm\n",
      "Testing distribution alpha\n",
      "Testing distribution anglit\n",
      "Testing distribution arcsine\n",
      "Testing distribution beta\n",
      "Testing distribution betaprime\n",
      "Testing distribution bradford\n",
      "Testing distribution burr\n",
      "Testing distribution burr12\n",
      "Testing distribution fisk\n",
      "Testing distribution cauchy\n",
      "Testing distribution chi\n",
      "Testing distribution chi2\n",
      "Testing distribution cosine\n",
      "Testing distribution dgamma\n",
      "Testing distribution dweibull\n",
      "Testing distribution expon\n",
      "Testing distribution exponnorm\n",
      "Testing distribution exponweib\n",
      "Testing distribution exponpow\n",
      "Testing distribution fatiguelife\n",
      "Testing distribution foldcauchy\n",
      "Testing distribution f\n",
      "Testing distribution foldnorm\n",
      "Testing distribution weibull_min\n",
      "Testing distribution weibull_max\n",
      "Testing distribution genlogistic\n",
      "Testing distribution genpareto\n",
      "Testing distribution genexpon\n",
      "Testing distribution genextreme\n",
      "Testing distribution gamma\n",
      "Testing distribution erlang\n",
      "Testing distribution gengamma\n",
      "Testing distribution genhalflogistic\n",
      "Testing distribution genhyperbolic\n",
      "Testing distribution gompertz\n",
      "Testing distribution gumbel_r\n",
      "Testing distribution gumbel_l\n",
      "Testing distribution halfcauchy\n",
      "Testing distribution halflogistic\n",
      "Testing distribution halfnorm\n",
      "Testing distribution hypsecant\n",
      "Testing distribution gausshyper\n",
      "Testing distribution invgamma\n",
      "Testing distribution invgauss\n",
      "Testing distribution geninvgauss\n",
      "Testing distribution norminvgauss\n",
      "Testing distribution invweibull\n",
      "Testing distribution johnsonsb\n",
      "Testing distribution johnsonsu\n",
      "Testing distribution laplace\n",
      "Testing distribution laplace_asymmetric\n",
      "Testing distribution levy\n",
      "Testing distribution levy_l\n",
      "Testing distribution logistic\n",
      "Testing distribution loggamma\n",
      "Testing distribution loglaplace\n",
      "Testing distribution lognorm\n",
      "Testing distribution gilbrat\n",
      "Testing distribution maxwell\n",
      "Testing distribution mielke\n",
      "Testing distribution kappa4\n",
      "Testing distribution kappa3\n",
      "Testing distribution moyal\n",
      "Testing distribution nakagami\n",
      "Testing distribution ncx2\n",
      "Testing distribution ncf\n",
      "Testing distribution t\n",
      "Testing distribution nct\n",
      "Testing distribution pareto\n",
      "Testing distribution lomax\n",
      "Testing distribution pearson3\n",
      "Testing distribution powerlaw\n",
      "Testing distribution powerlognorm\n",
      "Testing distribution powernorm\n",
      "Testing distribution rdist\n",
      "Testing distribution rayleigh\n",
      "Testing distribution loguniform\n",
      "Testing distribution reciprocal\n",
      "Testing distribution rice\n",
      "Testing distribution recipinvgauss\n",
      "Testing distribution semicircular\n",
      "Testing distribution skewcauchy\n",
      "Testing distribution skewnorm\n",
      "Testing distribution trapezoid\n",
      "Testing distribution trapz\n",
      "Testing distribution triang\n",
      "Testing distribution truncexpon\n",
      "Testing distribution truncnorm\n",
      "Testing distribution tukeylambda\n",
      "Testing distribution uniform\n",
      "Testing distribution vonmises\n",
      "Testing distribution vonmises_line\n",
      "Testing distribution wald\n",
      "Testing distribution wrapcauchy\n",
      "Testing distribution gennorm\n",
      "Testing distribution halfgennorm\n",
      "Testing distribution crystalball\n",
      "Testing distribution argus\n",
      "Done processing distribution tests for presstv\n"
     ]
    }
   ],
   "source": [
    "generate_and_save_distribution_tests_for(pressTV, \"presstv\")"
   ]
  },
  {
   "cell_type": "markdown",
   "metadata": {
    "id": "EAvQ1YSK2LAg"
   },
   "source": [
    "# Label into top 5% and top 25%\n",
    "\n",
    "## Issues Found\n",
    "\n",
    "* **How are the labels applied?** My guess would be via a categorical variable as target, which is also what is applied below.\n",
    "\n",
    "* **Are there separate datasets for 25% and 5%?** I would guess this should be the case, since they mention _\"Therefore, we first found the thresholds that satisfy these percent-\n",
    "ages for training and test sets and assigned a binary label to each\n",
    "post (“popular” or “not popular”). \"_ I would say this suggest they do the experiments two times, once for each popularity prediction percentge."
   ]
  },
  {
   "cell_type": "code",
   "execution_count": null,
   "metadata": {
    "colab": {
     "base_uri": "https://localhost:8080/",
     "height": 265
    },
    "id": "KXV04_js2Kxg",
    "outputId": "d29001e4-48b4-4461-d501-f94c1fecd6a5"
   },
   "outputs": [
    {
     "data": {
      "image/png": "[encoded data removed]",
      "text/plain": [
       "<Figure size 432x288 with 1 Axes>"
      ]
     },
     "metadata": {
      "needs_background": "light"
     },
     "output_type": "display_data"
    }
   ],
   "source": [
    "def produce_binary_labels(df):\n",
    "  sorted = df.sort_values(by='views', ascending=False)\n",
    "  top5_indices = sorted.head(int(len(df)*(5/100))).index\n",
    "  top25_indices = sorted.head(int(len(df)*(25/100))).index\n",
    "\n",
    "  # Create the target, 0 for not popular, 1 for popular\n",
    "  df.loc[:,'popularity'] = 0\n",
    "\n",
    "  top5_set = df.copy()\n",
    "  top25_set = df.copy()\n",
    "\n",
    "  top5_set.loc[top5_indices,'popularity'] = 1\n",
    "  top25_set.loc[top25_indices,'popularity'] = 1\n",
    "\n",
    "  return top5_set, top25_set\n",
    "\n",
    "cnnBrk5, cnnBrk25 = produce_binary_labels(cnnBrk)\n",
    "sns.barplot(x=[0,1], y=cnnBrk5.groupby('popularity').popularity.count());"
   ]
  },
  {
   "cell_type": "code",
   "execution_count": null,
   "metadata": {
    "colab": {
     "base_uri": "https://localhost:8080/",
     "height": 265
    },
    "id": "6YPuObLSB-pS",
    "outputId": "b3d3e94b-fe66-4bba-9a90-a0fc365566dd"
   },
   "outputs": [
    {
     "data": {
      "image/png": "[encoded data removed]",
      "text/plain": [
       "<Figure size 432x288 with 1 Axes>"
      ]
     },
     "metadata": {
      "needs_background": "light"
     },
     "output_type": "display_data"
    }
   ],
   "source": [
    "sns.barplot(x=[0,1], y=cnnBrk25.groupby('popularity').popularity.count());"
   ]
  },
  {
   "cell_type": "markdown",
   "metadata": {
    "id": "Y46DMTUOxY9T"
   },
   "source": [
    "# Split into Training/Test\n",
    "\n",
    "## Issues Found\n",
    "\n",
    "* **Maybe there are imbalances in train/test due to holidays or \n",
    "interesting news topics in those months?** (Just a thought)\n",
    "\n",
    "* **Very few training samples!** The authors use 86.65% of their data for training, leaving just shy of 14% for testing. That may be an issue in case of overfitting.\n",
    "\n",
    "* **They don't mention which columns are scaled!!** This results in static cols,\n",
    "such as the std of views etc. to get put to 0!!"
   ]
  },
  {
   "cell_type": "code",
   "execution_count": null,
   "metadata": {
    "colab": {
     "base_uri": "https://localhost:8080/"
    },
    "id": "jyKUIBInxfS0",
    "outputId": "b1dd536a-7259-4217-8316-fc5ded7c36bc"
   },
   "outputs": [
    {
     "name": "stdout",
     "output_type": "stream",
     "text": [
      "Size of Training set: 41998\n",
      "Size of Test set: 6473\n",
      "Percentage of train split: 86.65%\n"
     ]
    }
   ],
   "source": [
    "from sklearn.preprocessing import MinMaxScaler\n",
    "\n",
    "def create_train_test_split(df):\n",
    "  # the first six months of the data is selected for training and the last month \n",
    "  # is selected for testing.\n",
    "   # March 8, 2017 to October 8, 2017.\n",
    "  train_start = \"2017-03-08\"\n",
    "  train_end = \"2017-9-08\"\n",
    "  mask = (df.date > train_start) & (df.date <= train_end)\n",
    "\n",
    "  df = df.drop(labels=['date'],axis=1)\n",
    "  df.mediaType = df.mediaType.astype('category').cat.codes\n",
    "\n",
    "  training = df.loc[mask]\n",
    "  test = df.loc[-mask]\n",
    "\n",
    "  # Apply Min-Max scaling fitted on the training data\n",
    "  scaler = MinMaxScaler()\n",
    "  scaled_training = pd.DataFrame(scaler.fit_transform(training), columns=df.columns)\n",
    "  scaled_test = pd.DataFrame(scaler.transform(test), columns=df.columns)\n",
    "\n",
    "  return scaled_training, scaled_test\n",
    "\n",
    "cnnTrain5, cnnTest5 = create_train_test_split(cnnBrk5)\n",
    "print(f\"Size of Training set: {len(cnnTrain5.index)}\")\n",
    "print(f\"Size of Test set: {len(cnnTest5.index)}\")\n",
    "print(f\"Percentage of train split: {round(100 * len(cnnTrain5.index) / len(cnnBrk.index),2)}%\")"
   ]
  },
  {
   "cell_type": "code",
   "execution_count": null,
   "metadata": {
    "colab": {
     "base_uri": "https://localhost:8080/"
    },
    "id": "oG24EpgYSu8j",
    "outputId": "7617e844-98aa-4529-e80f-f6a141c02bd3"
   },
   "outputs": [
    {
     "name": "stdout",
     "output_type": "stream",
     "text": [
      "Size of Training set: 41998\n",
      "Size of Test set: 6473\n",
      "Percentage of train split: 86.65%\n"
     ]
    }
   ],
   "source": [
    "cnnTrain25, cnnTest25 = create_train_test_split(cnnBrk25)\n",
    "print(f\"Size of Training set: {len(cnnTrain25.index)}\")\n",
    "print(f\"Size of Test set: {len(cnnTest25.index)}\")\n",
    "print(f\"Percentage of train split: {round(100 * len(cnnTrain25.index) / len(cnnBrk.index),2)}%\")"
   ]
  },
  {
   "cell_type": "markdown",
   "metadata": {
    "id": "wxx9v-tW-tzf"
   },
   "source": [
    "# SVM Partial Models\n",
    "\n",
    "We will follow the paper and find the tuning parameter **c** by applying **5-fold CV**. We will collect the same 5 metrics mentioned in the paper. \n",
    "\n",
    "We also also try feature selection using randomized Lasso, as mentioned in the paper. Should their assumptions hold, the results should be that no substantial improvement can be shown.\n",
    "\n",
    "Before training we also have to also apply the sample weighting technique mentioned for the MTL: _\"Both of these models\n",
    "also use a sample weighting technique, exactly the same as the one\n",
    "used for MTL.\"_\n",
    "\n",
    "## Issues Found\n",
    "\n",
    "* **SVM also has other hyperparameters that they don't mention!!** These include gamma and kernel (and degree for some kernels). As they don't mention these parameters, we will just assume the default is used.\n",
    "\n",
    "* **Not mentioned wether they do GridSearch of Randomized Search for the hyperparameter tuning!**\n",
    "\n",
    "* **Which range of parameters for c is the search based on?** They only mention that they use 5-fold CV, but not over which range of parameters. We will just have to take some arbitrary values and hope for the best.\n",
    "\n",
    "* **Which metric is used to decide which CV fold is the best?** E.g. which\n",
    "scorer should be used to determine the optimal 'C' hyperparamter.\n",
    "\n",
    "* **Which Kernel do they use?** Since they use linear normalization, I guess one\n",
    "would use a linear kernel? This would also make the computation much faster..."
   ]
  },
  {
   "cell_type": "code",
   "execution_count": 6,
   "metadata": {
    "colab": {
     "base_uri": "https://localhost:8080/"
    },
    "id": "ljfpHVib-8ff",
    "outputId": "5b6e74bf-bc89-4aae-9e09-9c315a3cbc10"
   },
   "outputs": [
    {
     "ename": "NameError",
     "evalue": "name 'cnnTrain25' is not defined",
     "output_type": "error",
     "traceback": [
      "\u001b[1;31m---------------------------------------------------------------------------\u001b[0m",
      "\u001b[1;31mNameError\u001b[0m                                 Traceback (most recent call last)",
      "Input \u001b[1;32mIn [6]\u001b[0m, in \u001b[0;36m<module>\u001b[1;34m\u001b[0m\n\u001b[0;32m      8\u001b[0m   bigLambda \u001b[38;5;241m=\u001b[39m \u001b[38;5;28mmap\u001b[39m(\u001b[38;5;28;01mlambda\u001b[39;00m i: (\u001b[38;5;241m1\u001b[39m \u001b[38;5;241m/\u001b[39m (popular \u001b[38;5;28;01mif\u001b[39;00m labels[i] \u001b[38;5;241m==\u001b[39m \u001b[38;5;241m1\u001b[39m \u001b[38;5;28;01melse\u001b[39;00m not_popular)) \u001b[38;5;241m*\u001b[39m denominator, \u001b[38;5;28mrange\u001b[39m(\u001b[38;5;241m0\u001b[39m, n))\n\u001b[0;32m      9\u001b[0m   \u001b[38;5;28;01mreturn\u001b[39;00m pd\u001b[38;5;241m.\u001b[39mSeries(bigLambda)\n\u001b[1;32m---> 11\u001b[0m bigLambdaCnn25 \u001b[38;5;241m=\u001b[39m calculate_weights(\u001b[43mcnnTrain25\u001b[49m)\n\u001b[0;32m     12\u001b[0m bigLambdaCnn25\u001b[38;5;241m.\u001b[39mvalue_counts()\n",
      "\u001b[1;31mNameError\u001b[0m: name 'cnnTrain25' is not defined"
     ]
    }
   ],
   "source": [
    "def calculate_weights(train_df):\n",
    "  n = len(train_df.index)\n",
    "  labels = train_df.popularity\n",
    "  popular = len(labels[labels == 1])\n",
    "  not_popular = n - popular\n",
    "\n",
    "  denominator = sum((1 / (popular if labels[k] == 1 else not_popular)) for k in range(1,n))\n",
    "  bigLambda = map(lambda i: (1 / (popular if labels[i] == 1 else not_popular)) * denominator, range(0, n))\n",
    "  return pd.Series(bigLambda)\n",
    "\n",
    "bigLambdaCnn25 = calculate_weights(cnnTrain25)\n",
    "bigLambdaCnn25.value_counts()"
   ]
  },
  {
   "cell_type": "code",
   "execution_count": 7,
   "metadata": {
    "colab": {
     "base_uri": "https://localhost:8080/"
    },
    "id": "4_0H9SUU0g0y",
    "outputId": "0692d6d2-11ac-49f3-d6c5-7c1c32a50374"
   },
   "outputs": [],
   "source": [
    "from sklearn.svm import LinearSVC\n",
    "from sklearn.model_selection import GridSearchCV\n",
    "import pickle\n",
    "\n",
    "def train_svm_wo_feature_select(train_df, weights):\n",
    "  weight_array = weights.unique()\n",
    "  weight_dict = {0 : weight_array[0], 1 : weight_array[1]}\n",
    "  param_grid = {'C' : np.logspace(-3, 2, 6)}\n",
    "\n",
    "  # Do 5-fold CV\n",
    "  # Use LinearSVC as we get quadratic scaling for the standard RFB\n",
    "  # kernel otherwise, which is unreasonable given the amount of data.\n",
    "  gridSearch = GridSearchCV(LinearSVC(class_weight=weight_dict), param_grid,\n",
    "                            verbose=1) \n",
    "  model = gridSearch.fit(train_df.drop('popularity', axis=1), \n",
    "                         train_df.popularity)\n",
    "  print(f\"Found best model :{model.best_params_}\")\n",
    "  return model\n",
    "\n",
    "#modelCnn25 = train_svm_wo_feature_select(cnnTrain25, bigLambdaCnn25)\n",
    "#with open('modelCnn25.pkl', 'wb') as fid:\n",
    "#    pickle.dump(modelCnn25, fid)"
   ]
  },
  {
   "cell_type": "code",
   "execution_count": 8,
   "metadata": {
    "colab": {
     "base_uri": "https://localhost:8080/",
     "height": 316
    },
    "id": "3TMFYMTsfPfa",
    "outputId": "bc6ba7e1-fde5-443f-d05d-922bcf041932"
   },
   "outputs": [],
   "source": [
    "from sklearn.metrics import f1_score, accuracy_score, balanced_accuracy_score, precision_score, recall_score\n",
    "from sklearn.metrics import confusion_matrix\n",
    "from sklearn.metrics import ConfusionMatrixDisplay\n",
    "import matplotlib.pyplot as plt\n",
    "\n",
    "def calculate_metrics_for_model(model, test_df):\n",
    "  # Get predictions from model\n",
    "  test_preds = model.predict(test_df.drop('popularity', axis=1))\n",
    "  test_accuracy = accuracy_score(test_df.popularity, test_preds)\n",
    "  test_balanced_acc = balanced_accuracy_score(test_df.popularity, test_preds)\n",
    "  test_f1 = f1_score(test_df.popularity, test_preds)\n",
    "  test_precision = precision_score(test_df.popularity, test_preds)\n",
    "  test_recall = recall_score(test_df.popularity, test_preds)\n",
    "\n",
    "  print(\"Confusion Matrix\".center(50,\"-\"))\n",
    "  ConfusionMatrixDisplay.from_estimator(model, test_df.drop('popularity', axis=1), test_df.popularity)\n",
    "  plt.show()\n",
    "  \n",
    "  return {\"Accuracy\" : test_accuracy, \"Balanced_Accuracy\": test_balanced_acc, \n",
    "          \"Precision\": test_precision, \"Recall\": test_recall, \"F1\": test_f1}\n",
    "\n",
    "#cnn25Metrics = calculate_metrics_for_model(modelCnn25, cnnTest25)\n",
    "#print(cnn25Metrics)"
   ]
  },
  {
   "cell_type": "markdown",
   "metadata": {
    "id": "v8RmRPCni5Tb"
   },
   "source": [
    "# Evaluation of model + generation for other datasets"
   ]
  },
  {
   "cell_type": "code",
   "execution_count": 9,
   "metadata": {
    "id": "75wN_3aQi4_z"
   },
   "outputs": [],
   "source": [
    "def get_results_for_dataset(df, name):\n",
    "  print(name.center(50,\"=\"))\n",
    "\n",
    "  # Create labbeled train test splits for 5% and 25%\n",
    "  train, test = create_train_test_split(df)\n",
    "  train5, train25 = produce_binary_labels(train)\n",
    "  test5, test25 = produce_binary_labels(test)\n",
    "\n",
    "  # Train models for 5% and 25%\n",
    "  results_5 = get_model_results(train5, test5)\n",
    "  results_25 = get_model_results(train25, test25)\n",
    "\n",
    "  # Save best models to disk\n",
    "  with open(f'{name}_5.pkl', 'wb') as fid:\n",
    "    pickle.dump(results_5['model'], fid)  \n",
    "\n",
    "  with open(f'{name}_25.pkl', 'wb') as fid:\n",
    "    pickle.dump(results_25['model'], fid)  \n",
    "  \n",
    "  print(f\"Results for dataset {name}:\")\n",
    "  print(f\"5% Popularity: {results_5['metrics']}\")\n",
    "  print(f\"25% Popularity: {results_25['metrics']}\")\n",
    "  return {\"5\" : results_5, \"25\" : results_25}\n",
    "\n",
    "def get_model_results(train, test):\n",
    "  train_weights = calculate_weights(train)\n",
    "  model = train_svm_wo_feature_select(train, train_weights)\n",
    "  metrics = calculate_metrics_for_model(model, test)\n",
    "  return {\"model\" : model, \"metrics\" : metrics}"
   ]
  },
  {
   "cell_type": "markdown",
   "metadata": {
    "id": "zz30dLSuk2KR"
   },
   "source": [
    "## Reuters World"
   ]
  },
  {
   "cell_type": "code",
   "execution_count": null,
   "metadata": {
    "colab": {
     "base_uri": "https://localhost:8080/",
     "height": 725
    },
    "id": "7-_nL5K8k57W",
    "outputId": "c14cd4c5-8551-4353-f652-4e83536c3cb5"
   },
   "outputs": [
    {
     "name": "stdout",
     "output_type": "stream",
     "text": [
      "=====================Reuters======================\n",
      "Fitting 5 folds for each of 6 candidates, totalling 30 fits\n",
      "Found best model :{'C': 100.0}\n",
      "-----------------Confusion Matrix-----------------\n"
     ]
    },
    {
     "data": {
      "image/png": "[encoded data removed]",
      "text/plain": [
       "<Figure size 432x288 with 2 Axes>"
      ]
     },
     "metadata": {
      "needs_background": "light"
     },
     "output_type": "display_data"
    },
    {
     "name": "stdout",
     "output_type": "stream",
     "text": [
      "Fitting 5 folds for each of 6 candidates, totalling 30 fits\n",
      "Found best model :{'C': 10.0}\n",
      "-----------------Confusion Matrix-----------------\n"
     ]
    },
    {
     "data": {
      "image/png": "[encoded data removed]",
      "text/plain": [
       "<Figure size 432x288 with 2 Axes>"
      ]
     },
     "metadata": {
      "needs_background": "light"
     },
     "output_type": "display_data"
    },
    {
     "name": "stdout",
     "output_type": "stream",
     "text": [
      "Results for dataset Reuters:\n",
      "5% Popularity: {'Accuracy': 0.9539584503088153, 'Balanced_Accuracy': 0.5393258426966292, 'Precision': 1.0, 'Recall': 0.07865168539325842, 'F1': 0.14583333333333334}\n",
      "25% Popularity: {'Accuracy': 0.7445255474452555, 'Balanced_Accuracy': 0.7570292000269124, 'Precision': 0.49291784702549574, 'Recall': 0.7820224719101123, 'F1': 0.6046915725456125}\n"
     ]
    }
   ],
   "source": [
    "resReuters = get_results_for_dataset(reutersWorld, \"Reuters\")"
   ]
  },
  {
   "cell_type": "markdown",
   "metadata": {
    "id": "Oq4-NkPWloG6"
   },
   "source": [
    "## CNN"
   ]
  },
  {
   "cell_type": "code",
   "execution_count": null,
   "metadata": {
    "colab": {
     "base_uri": "https://localhost:8080/",
     "height": 725
    },
    "id": "pRGBkhBvlnzn",
    "outputId": "81045328-4b64-4fdc-ad4f-bb8ede14e69e"
   },
   "outputs": [
    {
     "name": "stdout",
     "output_type": "stream",
     "text": [
      "=======================CNN========================\n",
      "Fitting 5 folds for each of 6 candidates, totalling 30 fits\n",
      "Found best model :{'C': 100.0}\n",
      "-----------------Confusion Matrix-----------------\n"
     ]
    },
    {
     "data": {
      "image/png": "[encoded data removed]",
      "text/plain": [
       "<Figure size 432x288 with 2 Axes>"
      ]
     },
     "metadata": {
      "needs_background": "light"
     },
     "output_type": "display_data"
    },
    {
     "name": "stdout",
     "output_type": "stream",
     "text": [
      "Fitting 5 folds for each of 6 candidates, totalling 30 fits\n",
      "Found best model :{'C': 100.0}\n",
      "-----------------Confusion Matrix-----------------\n"
     ]
    },
    {
     "data": {
      "image/png": "[encoded data removed]",
      "text/plain": [
       "<Figure size 432x288 with 2 Axes>"
      ]
     },
     "metadata": {
      "needs_background": "light"
     },
     "output_type": "display_data"
    },
    {
     "name": "stdout",
     "output_type": "stream",
     "text": [
      "Results for dataset CNN:\n",
      "5% Popularity: {'Accuracy': 0.0498995828827437, 'Balanced_Accuracy': 0.5, 'Precision': 0.0498995828827437, 'Recall': 1.0, 'F1': 0.09505591524426132}\n",
      "25% Popularity: {'Accuracy': 0.2499613780318245, 'Balanced_Accuracy': 0.5, 'Precision': 0.2499613780318245, 'Recall': 1.0, 'F1': 0.399950562353232}\n"
     ]
    }
   ],
   "source": [
    "resCNN = get_results_for_dataset(cnnBrk, \"CNN\")"
   ]
  },
  {
   "cell_type": "markdown",
   "metadata": {
    "id": "o8gdK54dl1Ep"
   },
   "source": [
    "## Press TV"
   ]
  },
  {
   "cell_type": "code",
   "execution_count": null,
   "metadata": {
    "colab": {
     "base_uri": "https://localhost:8080/",
     "height": 725
    },
    "id": "fR-eCrVAl4Gv",
    "outputId": "262af555-5f0b-4dbe-b3ed-069af93d9ba9"
   },
   "outputs": [
    {
     "name": "stdout",
     "output_type": "stream",
     "text": [
      "=====================PressTV======================\n",
      "Fitting 5 folds for each of 6 candidates, totalling 30 fits\n",
      "Found best model :{'C': 100.0}\n",
      "-----------------Confusion Matrix-----------------\n"
     ]
    },
    {
     "data": {
      "image/png": "[encoded data removed]",
      "text/plain": [
       "<Figure size 432x288 with 2 Axes>"
      ]
     },
     "metadata": {
      "needs_background": "light"
     },
     "output_type": "display_data"
    },
    {
     "name": "stdout",
     "output_type": "stream",
     "text": [
      "Fitting 5 folds for each of 6 candidates, totalling 30 fits\n",
      "Found best model :{'C': 100.0}\n",
      "-----------------Confusion Matrix-----------------\n"
     ]
    },
    {
     "data": {
      "image/png": "[encoded data removed]",
      "text/plain": [
       "<Figure size 432x288 with 2 Axes>"
      ]
     },
     "metadata": {
      "needs_background": "light"
     },
     "output_type": "display_data"
    },
    {
     "name": "stdout",
     "output_type": "stream",
     "text": [
      "Results for dataset PressTV:\n",
      "5% Popularity: {'Accuracy': 0.9629317607413648, 'Balanced_Accuracy': 0.6271186440677966, 'Precision': 1.0, 'Recall': 0.2542372881355932, 'F1': 0.4054054054054054}\n",
      "25% Popularity: {'Accuracy': 0.9561920808761584, 'Balanced_Accuracy': 0.9685632602299269, 'Precision': 0.8546511627906976, 'Recall': 0.9932432432432432, 'F1': 0.91875}\n"
     ]
    }
   ],
   "source": [
    "resPressTV = get_results_for_dataset(pressTV, \"PressTV\")"
   ]
  },
  {
   "cell_type": "markdown",
   "metadata": {
    "id": "Bw1zA6d1mFzk"
   },
   "source": [
    "## BBC"
   ]
  },
  {
   "cell_type": "code",
   "execution_count": 10,
   "metadata": {
    "colab": {
     "base_uri": "https://localhost:8080/",
     "height": 761
    },
    "id": "FLghcX0tmQpX",
    "outputId": "7080b3cd-4cb0-4a88-fc8b-f2044eaccf54"
   },
   "outputs": [
    {
     "name": "stdout",
     "output_type": "stream",
     "text": [
      "=======================BBC========================\n"
     ]
    },
    {
     "ename": "NameError",
     "evalue": "name 'create_train_test_split' is not defined",
     "output_type": "error",
     "traceback": [
      "\u001b[1;31m---------------------------------------------------------------------------\u001b[0m",
      "\u001b[1;31mNameError\u001b[0m                                 Traceback (most recent call last)",
      "Input \u001b[1;32mIn [10]\u001b[0m, in \u001b[0;36m<module>\u001b[1;34m\u001b[0m\n\u001b[1;32m----> 1\u001b[0m resBBC \u001b[38;5;241m=\u001b[39m \u001b[43mget_results_for_dataset\u001b[49m\u001b[43m(\u001b[49m\u001b[43mbbc\u001b[49m\u001b[43m,\u001b[49m\u001b[43m \u001b[49m\u001b[38;5;124;43m\"\u001b[39;49m\u001b[38;5;124;43mBBC\u001b[39;49m\u001b[38;5;124;43m\"\u001b[39;49m\u001b[43m)\u001b[49m\n",
      "Input \u001b[1;32mIn [9]\u001b[0m, in \u001b[0;36mget_results_for_dataset\u001b[1;34m(df, name)\u001b[0m\n\u001b[0;32m      2\u001b[0m \u001b[38;5;28mprint\u001b[39m(name\u001b[38;5;241m.\u001b[39mcenter(\u001b[38;5;241m50\u001b[39m,\u001b[38;5;124m\"\u001b[39m\u001b[38;5;124m=\u001b[39m\u001b[38;5;124m\"\u001b[39m))\n\u001b[0;32m      4\u001b[0m \u001b[38;5;66;03m# Create labbeled train test splits for 5% and 25%\u001b[39;00m\n\u001b[1;32m----> 5\u001b[0m train, test \u001b[38;5;241m=\u001b[39m \u001b[43mcreate_train_test_split\u001b[49m(df)\n\u001b[0;32m      6\u001b[0m train5, train25 \u001b[38;5;241m=\u001b[39m produce_binary_labels(train)\n\u001b[0;32m      7\u001b[0m test5, test25 \u001b[38;5;241m=\u001b[39m produce_binary_labels(test)\n",
      "\u001b[1;31mNameError\u001b[0m: name 'create_train_test_split' is not defined"
     ]
    }
   ],
   "source": [
    "resBBC = get_results_for_dataset(bbc, \"BBC\")"
   ]
  },
  {
   "cell_type": "markdown",
   "metadata": {
    "id": "418KZKhhmgkv"
   },
   "source": [
    "## Results\n",
    "\n",
    "The results seem similar for some of the models, but not very good for most metrics. This is probably due to inconsistencies mentioned above caused by\n",
    "the authors leaving out critical information about the algorithm's hyperparamters and the pre-processing of the dataset.\n",
    "\n",
    "From my guesses I would also say that we don't have a model that fits the\n",
    "data good enough. Maybe it isn't linearily seperable. Henceforth, a simple\n",
    "LinearSVC does not suffice. \n",
    "\n",
    "Another probable issue is the massive imbalance between training and test samples. Test sets are small to begin with, and by labelling the data using\n",
    "only 5% and 25% of the data, we reduce the quantity of popular news to \n",
    "next to nothing. For this reason, most classifiers on 5% seem to just overfit\n",
    "the Unpopular News (label 0) class.\n"
   ]
  }
 ],
 "metadata": {
  "colab": {
   "collapsed_sections": [],
   "name": "Experiment_Design_SVM_Partial.ipynb",
   "provenance": []
  },
  "kernelspec": {
   "display_name": "Python 3",
   "language": "python",
   "name": "python3"
  },
  "language_info": {
   "codemirror_mode": {
    "name": "ipython",
    "version": 3
   },
   "file_extension": ".py",
   "mimetype": "text/x-python",
   "name": "python",
   "nbconvert_exporter": "python",
   "pygments_lexer": "ipython3",
   "version": "3.9.2"
  }
 },
 "nbformat": 4,
 "nbformat_minor": 4
}
