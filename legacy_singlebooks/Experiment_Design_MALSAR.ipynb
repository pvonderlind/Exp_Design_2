{
 "cells": [
  {
   "cell_type": "markdown",
   "metadata": {
    "id": "YSy_DWTKLtg8"
   },
   "source": [
    "This notebook implements the SVM Partial models for the News Prediction paper of Experiment Design. We will train separate models for each news agency Telegram channel, as described in the paper. Weirdly enough, the also added\n",
    "the Guardian, BCC Persian and the Washington Post in their dataset, but they\n",
    "are not mentioned in the paper ...\n",
    "\n",
    "We will collect a few measures also used in the paper and investiagte the results.\n",
    "\n",
    "As the first step, we will clone the dataset containing the Telegram data used by [Naseri 2019]."
   ]
  },
  {
   "cell_type": "markdown",
   "metadata": {
    "id": "9kwqm9kGRgUs"
   },
   "source": [
    "**ISSUES FOUND**\n",
    "\n",
    "* **Which of the .bson files are actually used for the experiment?** There\n",
    "is no indication if Washington Post and BBC Persia etc. are used for the\n",
    "experiments, as they are not mentioned in the paper itself.\n",
    "\n",
    "* **How are the binary labels acutally generated from the data?** There is no indication for the threshold they used in the paper. They mention only: \"Therefore, we first found the thresholds that satisfy these percent-\n",
    "ages for training and test sets and assigned a binary label to each\n",
    "post (“popular” or “not popular”). \"\n",
    "\n",
    "* **How are the features generated from the data (manually, algorithm, ...)?** This would be important as the bson data does **not** have the same features. List of issues: What is the n-grams thing? How do we generate the hashtags and mention features? How are we supposed to generate the media-type features? What does Has Link mean (could be either the enitity type URL or a media page containing a url tag...).\n",
    "\n",
    "* **THERE IS A TYPO MISTAKE IN THE FEATURES TABLE!!** We can't really reproduce\n",
    "the #mentions features without guessing that they mean the count of the mentions\n",
    "in a post (They use the same text as for the hashtags)\n",
    "\n",
    "* **How are the NaN in the data handled?** Could be removed, zero-filled, interpolated. We just don't know..."
   ]
  },
  {
   "cell_type": "markdown",
   "metadata": {
    "id": "w1brRJIlhYu-"
   },
   "source": [
    "# Feature Extraction"
   ]
  },
  {
   "cell_type": "code",
   "execution_count": null,
   "metadata": {
    "colab": {
     "base_uri": "https://localhost:8080/"
    },
    "id": "gCLmZepRLnXs",
    "outputId": "180ed374-90f7-49e1-be86-14806dad509f"
   },
   "outputs": [
    {
     "name": "stdout",
     "output_type": "stream",
     "text": [
      "fatal: destination path 'TelegramNews' already exists and is not an empty directory.\n"
     ]
    }
   ],
   "source": [
    "# Run only if needed, e.g. when the Telegram News Folder is not yet downloaded!\n",
    "#! git clone https://github.com/IceCream71/TelegramNews.git"
   ]
  },
  {
   "cell_type": "code",
   "execution_count": 1,
   "metadata": {
    "id": "FLBREFi9N9kY"
   },
   "outputs": [],
   "source": [
    "import pandas as pd\n",
    "import bson\n",
    "import seaborn as sns\n",
    "\n",
    "def create_df_for_bson(path): \n",
    "  with open (path, 'rb') as f:\n",
    "    data = bson.decode_all(f.read())\n",
    "\n",
    "  df = pd.DataFrame(data)\n",
    "  df = handle_NAS(df)\n",
    "  df = extract_features(df)\n",
    "  df = cut_date_range(df)\n",
    "  df = drop_unused_features(df)\n",
    "  return df\n",
    "\n",
    "def handle_NAS(df):\n",
    "  df = df.dropna(subset=['views'],axis=0)\n",
    "  return df\n",
    "\n",
    "def extract_features(df):\n",
    "  df = create_datetime_features(df)\n",
    "  df = add_channel_features(df)\n",
    "  df = create_entity_features(df)\n",
    "  return df\n",
    "\n",
    "def create_datetime_features(df):\n",
    "  df['age'] =  df.date\n",
    "  df['date'] = pd.to_datetime(df.date, unit='s')\n",
    "  df['year'] = df.date.dt.year\n",
    "  df['month'] = df.date.dt.month\n",
    "  df['day'] = df.date.dt.day\n",
    "  df['weekday'] = df.date.dt.dayofweek\n",
    "  df['hour'] = df.date.dt.hour\n",
    "  return df\n",
    "\n",
    "def cut_date_range(df):\n",
    "  # March 8, 2017 to October 8, 2017.\n",
    "  start_date = \"2017-03-08\"\n",
    "  end_date  = \"2017-10-08\"\n",
    "  mask = (df.date > start_date) & (df.date <= end_date)\n",
    "  return df.loc[mask]\n",
    "\n",
    "def add_channel_features(df):\n",
    "  df['minViews'] = df.views.min()\n",
    "  df['maxViews'] = df.views.max()\n",
    "  df['meanViews'] = df.views.mean()\n",
    "  df['stdViews'] = df.views.std()\n",
    "  df['hourlyAvgPosts'] = df.groupby('hour').size().mean()\n",
    "  df['dailyAvgPosts'] = df.groupby(['year','month','day']).size().mean()\n",
    "  return df\n",
    "\n",
    "def create_entity_features(df):\n",
    "  # Convert the entity field from bson into the actual features.\n",
    "  # For each row, check if media exists, if yes set media type.\n",
    "  df['hasMedia'] = df.media.notnull()\n",
    "  df['mediaType'] = df.apply(lambda x: x.media['_'] if x.hasMedia else '', axis=1)\n",
    "  # Check if URL exists in entities, if exists, is a link\n",
    "  df['hasLink'] = df.apply(lambda x: True if type(x.entities) != float and [d for d in x.entities if d['_'] ==  'messageEntityTextUrl'] else False, axis=1)\n",
    "  # Collect the mentions from the entities feature\n",
    "  df['mentions'] = df.apply(lambda x: len([d for d in x.entities if d['_'] == 'messageEntityMention']) if type(x.entities) != float else 0, axis=1)\n",
    "  # Same as before for the hashtags\n",
    "  df['hashtags'] = df.apply(lambda x: len([d for d in x.entities if d['_'] == 'messageEntityHashtag']) if type(x.entities) != float else 0, axis=1)\n",
    "  return df\n",
    "\n",
    "def drop_unused_features(df):\n",
    "  return df.drop(labels=['_id','_','flags','post','id','to_id','reply_to_msg_id',\n",
    "                  'media','channel','entities','message','fwd_from','edit_date',\n",
    "                  'via_bot_id','reply_markup','action', 'silent'],axis=1,errors='ignore')\n",
    "\n",
    " \n",
    "reutersWorld = create_df_for_bson('./TelegramNews/mongo/telegram/ReutersWorld.bson')\n",
    "cnnBrk = create_df_for_bson('./TelegramNews/mongo/telegram/CNNBrk.bson')\n",
    "pressTV = create_df_for_bson('./TelegramNews/mongo/telegram/presstv.bson')\n",
    "bbcBreaking = create_df_for_bson('./TelegramNews/mongo/telegram/bbcbreaking.bson')"
   ]
  },
  {
   "cell_type": "markdown",
   "metadata": {
    "id": "znggwkym_WkS"
   },
   "source": [
    "I added some tests belkow to check if my calculations and mappings of the features correspond to the ones reported in the paper. The results seem\n",
    "fairly accurate if we take rounding into account. \n",
    "\n",
    "What is weird is that\n",
    "the actual size of the datasets don't match up with the repoted dataset sizes\n",
    "in the paper. My guess would be that they just repoted their acutal test set\n",
    "sizes and not the complete set."
   ]
  },
  {
   "cell_type": "code",
   "execution_count": null,
   "metadata": {
    "colab": {
     "base_uri": "https://localhost:8080/",
     "height": 297
    },
    "id": "vpEtV1ilXbAG",
    "outputId": "2a1f7d7b-210a-4f80-fc7f-c7183952496e"
   },
   "outputs": [],
   "source": [
    "sns.barplot(x=cnnBrk.mentions,y=cnnBrk.index);\n",
    "print(f\"Mentions per news {round(cnnBrk.mentions.sum() / len(cnnBrk.index),4)}\")"
   ]
  },
  {
   "cell_type": "code",
   "execution_count": null,
   "metadata": {
    "colab": {
     "base_uri": "https://localhost:8080/",
     "height": 297
    },
    "id": "wKY8DVV_9w_i",
    "outputId": "2b03a308-50de-4a7e-87b0-28e288216fa2"
   },
   "outputs": [],
   "source": [
    "sns.barplot(x=cnnBrk.hashtags,y=cnnBrk.index);\n",
    "print(f\"Hastags per news {round(cnnBrk.hashtags.sum() / len(cnnBrk.index),4)}\")"
   ]
  },
  {
   "cell_type": "code",
   "execution_count": 3,
   "metadata": {
    "colab": {
     "base_uri": "https://localhost:8080/",
     "height": 297
    },
    "id": "oKvrB-n5-0P0",
    "outputId": "4119f647-d6c6-4d52-b80e-9dfb1c06644e"
   },
   "outputs": [
    {
     "name": "stdout",
     "output_type": "stream",
     "text": [
      "Media per news 0.5302\n"
     ]
    },
    {
     "data": {
      "image/png": "[encoded data removed]",
      "text/plain": [
       "<Figure size 432x288 with 1 Axes>"
      ]
     },
     "metadata": {
      "needs_background": "light"
     },
     "output_type": "display_data"
    }
   ],
   "source": [
    "sns.barplot(x=cnnBrk.hasMedia,y=cnnBrk.index);\n",
    "print(f\"Media per news {round(len(cnnBrk[cnnBrk.hasMedia == True].index) / len(cnnBrk.index),4)}\")"
   ]
  },
  {
   "cell_type": "markdown",
   "metadata": {
    "id": "B7mpiQjEhBqp"
   },
   "source": [
    "# Distribution Assumptions\n",
    "We can now also test the distribution assumptions for the views variable made by the authors.\n",
    "For this we check all 89 distributions available in Skicit-Learn: (https://docs.scipy.org/doc/scipy/reference/stats.html)\n",
    "\n",
    "## Issues Found\n",
    "\n",
    "* **Which 89 distributions did they acutally test?** Scipy includes more distributions than 89 and is continually updated, so just linking to the page above is not enough ...\n",
    "\n",
    "* **Which metric was used to evaluate goodness of fit of the dist.?** No metric is repoted in the paper.\n",
    "\n",
    "* **Distributions do NOT MATCH with the paper !!**"
   ]
  },
  {
   "cell_type": "code",
   "execution_count": 9,
   "metadata": {
    "id": "3L7XO0XkhWNc"
   },
   "outputs": [],
   "source": [
    "from scipy.stats._continuous_distns import _distn_names\n",
    "import scipy.stats as st\n",
    "import numpy as np\n",
    "import warnings\n",
    "\n",
    "def test_best_distribution(data):\n",
    "  results = []\n",
    "  # Exclude levy_stable and studentized_range as their implementations in \n",
    "  # scipy suck and take a vast amount of time to compute.\n",
    "  for dist in [d for d in _distn_names if not d in ['levy_stable', 'studentized_range']]:\n",
    "    print(f\"Testing distribution {dist}\")\n",
    "    dist = getattr(st, dist)\n",
    "\n",
    "    with warnings.catch_warnings():\n",
    "      warnings.filterwarnings('ignore')\n",
    "      params = dist.fit(data.views)\n",
    "      \n",
    "      #parameters of fitted distribution.\n",
    "      arg = params[:-2]\n",
    "      loc = params[-2]\n",
    "      scale = params[-1]\n",
    "\n",
    "      #calc pdf and error for fit.\n",
    "      pdf = dist.pdf(np.arange(len(data.views)), loc=loc, scale=scale, *arg)\n",
    "      sse = np.sum(np.power(data.views - pdf, 2.0))\n",
    "      results.append((dist, params, sse))\n",
    "\n",
    "  return sorted(results, key=lambda x:x[2])\n",
    "\n",
    "# NOTE: Uncomment when needed, this takes quite a long time to run ...\n",
    "#cnnBrkDists = test_best_distribution(cnnBrk)\n",
    "#print(f\"Best distribution for {cnnBrk} is {cnnBrkDists[0]}\")"
   ]
  },
  {
   "cell_type": "markdown",
   "metadata": {
    "id": "EAvQ1YSK2LAg"
   },
   "source": [
    "# Label into top 5% and top 25%\n",
    "\n",
    "## Issues Found\n",
    "\n",
    "* **How are the labels applied?** My guess would be via a categorical variable as target, which is also what is applied below.\n",
    "\n",
    "* **Are there separate datasets for 25% and 5%?** I would guess this should be the case, since they mention _\"Therefore, we first found the thresholds that satisfy these percent-\n",
    "ages for training and test sets and assigned a binary label to each\n",
    "post (“popular” or “not popular”). \"_ I would say this suggest they do the experiments two times, once for each popularity prediction percentge."
   ]
  },
  {
   "cell_type": "code",
   "execution_count": 3,
   "metadata": {
    "colab": {
     "base_uri": "https://localhost:8080/",
     "height": 265
    },
    "id": "KXV04_js2Kxg",
    "outputId": "d29001e4-48b4-4461-d501-f94c1fecd6a5"
   },
   "outputs": [
    {
     "data": {
      "image/png": "[encoded data removed]",
      "text/plain": [
       "<Figure size 432x288 with 1 Axes>"
      ]
     },
     "metadata": {
      "needs_background": "light"
     },
     "output_type": "display_data"
    }
   ],
   "source": [
    "def produce_binary_labels(df):\n",
    "  sorted = df.sort_values(by='views', ascending=False)\n",
    "  top5_indices = sorted.head(int(len(df)*(5/100))).index\n",
    "  top25_indices = sorted.head(int(len(df)*(25/100))).index\n",
    "\n",
    "  # Create the target, 0 for not popular, 1 for popular\n",
    "  df.loc[:,'popularity'] = 0\n",
    "\n",
    "  top5_set = df.copy()\n",
    "  top25_set = df.copy()\n",
    "\n",
    "  top5_set.loc[top5_indices,'popularity'] = 1\n",
    "  top25_set.loc[top25_indices,'popularity'] = 1\n",
    "\n",
    "  return top5_set, top25_set\n",
    "\n",
    "cnnBrk5, cnnBrk25 = produce_binary_labels(cnnBrk)\n",
    "sns.barplot(x=[0,1], y=cnnBrk5.groupby('popularity').popularity.count());"
   ]
  },
  {
   "cell_type": "code",
   "execution_count": null,
   "metadata": {
    "colab": {
     "base_uri": "https://localhost:8080/",
     "height": 265
    },
    "id": "6YPuObLSB-pS",
    "outputId": "b3d3e94b-fe66-4bba-9a90-a0fc365566dd"
   },
   "outputs": [
    {
     "data": {
      "image/png": "[encoded data removed]",
      "text/plain": [
       "<Figure size 432x288 with 1 Axes>"
      ]
     },
     "metadata": {
      "needs_background": "light"
     },
     "output_type": "display_data"
    }
   ],
   "source": [
    "sns.barplot(x=[0,1], y=cnnBrk25.groupby('popularity').popularity.count());"
   ]
  },
  {
   "cell_type": "markdown",
   "metadata": {
    "id": "Y46DMTUOxY9T"
   },
   "source": [
    "# Split into Training/Test\n",
    "\n",
    "PP: should we do this before? Otherwise I have to plug my stuff into the generate results logic. But we need to make sure we operate on the same splits.\n",
    "\n",
    "## Issues Found\n",
    "\n",
    "* **Maybe there are imbalances in train/test due to holidays or \n",
    "interesting news topics in those months?** (Just a thought)\n",
    "\n",
    "* **Very few training samples!** The authors use 86.65% of their data for training, leaving just shy of 14% for testing. That may be an issue in case of overfitting.\n",
    "\n",
    "* **They don't mention which columns are scaled!!** This results in static cols,\n",
    "such as the std of views etc. to get put to 0!!"
   ]
  },
  {
   "cell_type": "code",
   "execution_count": 4,
   "metadata": {
    "colab": {
     "base_uri": "https://localhost:8080/"
    },
    "id": "jyKUIBInxfS0",
    "outputId": "b1dd536a-7259-4217-8316-fc5ded7c36bc"
   },
   "outputs": [
    {
     "name": "stdout",
     "output_type": "stream",
     "text": [
      "Size of Training set: 41998\n",
      "Size of Test set: 6473\n",
      "Percentage of train split: 86.65%\n"
     ]
    }
   ],
   "source": [
    "from sklearn.preprocessing import MinMaxScaler\n",
    "\n",
    "def create_train_test_split(df):\n",
    "  # the first six months of the data is selected for training and the last month \n",
    "  # is selected for testing.\n",
    "   # March 8, 2017 to October 8, 2017.\n",
    "  train_start = \"2017-03-08\"\n",
    "  train_end = \"2017-9-08\"\n",
    "  mask = (df.date > train_start) & (df.date <= train_end)\n",
    "\n",
    "  df = df.drop(labels=['date'],axis=1)\n",
    "  df.mediaType = df.mediaType.astype('category').cat.codes\n",
    "\n",
    "  training = df.loc[mask]\n",
    "  test = df.loc[-mask]\n",
    "\n",
    "  # Apply Min-Max scaling fitted on the training data\n",
    "  scaler = MinMaxScaler()\n",
    "  scaled_training = pd.DataFrame(scaler.fit_transform(training), columns=df.columns)\n",
    "  scaled_test = pd.DataFrame(scaler.transform(test), columns=df.columns)\n",
    "\n",
    "  return scaled_training, scaled_test\n",
    "\n",
    "cnnTrain5, cnnTest5 = create_train_test_split(cnnBrk5)\n",
    "print(f\"Size of Training set: {len(cnnTrain5.index)}\")\n",
    "print(f\"Size of Test set: {len(cnnTest5.index)}\")\n",
    "print(f\"Percentage of train split: {round(100 * len(cnnTrain5.index) / len(cnnBrk.index),2)}%\")"
   ]
  },
  {
   "cell_type": "code",
   "execution_count": 6,
   "metadata": {
    "colab": {
     "base_uri": "https://localhost:8080/"
    },
    "id": "oG24EpgYSu8j",
    "outputId": "7617e844-98aa-4529-e80f-f6a141c02bd3"
   },
   "outputs": [
    {
     "name": "stdout",
     "output_type": "stream",
     "text": [
      "Size of Training set: 41998\n",
      "Size of Test set: 6473\n",
      "Percentage of train split: 86.65%\n"
     ]
    }
   ],
   "source": [
    "cnnTrain25, cnnTest25 = create_train_test_split(cnnBrk25)\n",
    "print(f\"Size of Training set: {len(cnnTrain25.index)}\")\n",
    "print(f\"Size of Test set: {len(cnnTest25.index)}\")\n",
    "print(f\"Percentage of train split: {round(100 * len(cnnTrain25.index) / len(cnnBrk.index),2)}%\")"
   ]
  },
  {
   "cell_type": "markdown",
   "metadata": {
    "id": "wxx9v-tW-tzf"
   },
   "source": [
    "# SVM Partial Models\n",
    "\n",
    "We will follow the paper and find the tuning parameter **c** by applying **5-fold CV**. We will collect the same 5 metrics mentioned in the paper. \n",
    "\n",
    "We also also try feature selection using randomized Lasso, as mentioned in the paper. Should their assumptions hold, the results should be that no substantial improvement can be shown.\n",
    "\n",
    "Before training we also have to also apply the sample weighting technique mentioned for the MTL: _\"Both of these models\n",
    "also use a sample weighting technique, exactly the same as the one\n",
    "used for MTL.\"_\n",
    "\n",
    "## Issues Found\n",
    "\n",
    "* **SVM also has other hyperparameters that they don't mention!!** These include gamma and kernel (and degree for some kernels). As they don't mention these parameters, we will just assume the default is used.\n",
    "\n",
    "* **Not mentioned wether they do GridSearch of Randomized Search for the hyperparameter tuning!**\n",
    "\n",
    "* **Which range of parameters for c is the search based on?** They only mention that they use 5-fold CV, but not over which range of parameters. We will just have to take some arbitrary values and hope for the best.\n",
    "\n",
    "* **Which metric is used to decide which CV fold is the best?** E.g. which\n",
    "scorer should be used to determine the optimal 'C' hyperparamter.\n",
    "\n",
    "* **Which Kernel do they use?** Since they use linear normalization, I guess one\n",
    "would use a linear kernel? This would also make the computation much faster...\n",
    "\n",
    "PP: formula correct? Why mult instead of div"
   ]
  },
  {
   "cell_type": "code",
   "execution_count": 7,
   "metadata": {
    "colab": {
     "base_uri": "https://localhost:8080/"
    },
    "id": "ljfpHVib-8ff",
    "outputId": "5b6e74bf-bc89-4aae-9e09-9c315a3cbc10"
   },
   "outputs": [
    {
     "data": {
      "text/plain": [
       "0.000063    31791\n",
       "0.000196    10207\n",
       "dtype: int64"
      ]
     },
     "execution_count": 7,
     "metadata": {},
     "output_type": "execute_result"
    }
   ],
   "source": [
    "def calculate_weights(train_df):\n",
    "  n = len(train_df.index)\n",
    "  labels = train_df.popularity\n",
    "  popular = len(labels[labels == 1])\n",
    "  not_popular = n - popular\n",
    "\n",
    "  denominator = sum((1 / (popular if labels[k] == 1 else not_popular)) for k in range(1,n))\n",
    "  bigLambda = map(lambda i: (1 / (popular if labels[i] == 1 else not_popular)) * denominator, range(0, n))\n",
    "  return pd.Series(bigLambda)\n",
    "\n",
    "bigLambdaCnn25 = calculate_weights(cnnTrain25)\n",
    "bigLambdaCnn25.value_counts()"
   ]
  },
  {
   "cell_type": "code",
   "execution_count": 10,
   "metadata": {
    "colab": {
     "base_uri": "https://localhost:8080/"
    },
    "id": "4_0H9SUU0g0y",
    "outputId": "0692d6d2-11ac-49f3-d6c5-7c1c32a50374"
   },
   "outputs": [
    {
     "name": "stdout",
     "output_type": "stream",
     "text": [
      "Fitting 5 folds for each of 6 candidates, totalling 30 fits\n",
      "Found best model :{'C': 100.0}\n"
     ]
    }
   ],
   "source": [
    "from sklearn.svm import LinearSVC\n",
    "from sklearn.model_selection import GridSearchCV\n",
    "import pickle\n",
    "\n",
    "def train_svm_wo_feature_select(train_df, weights):\n",
    "  weight_array = weights.unique()\n",
    "  weight_dict = {0 : weight_array[0], 1 : weight_array[1]}\n",
    "  param_grid = {'C' : np.logspace(-3, 2, 6)}\n",
    "\n",
    "  # Do 5-fold CV\n",
    "  # Use LinearSVC as we get quadratic scaling for the standard RFB\n",
    "  # kernel otherwise, which is unreasonable given the amount of data.\n",
    "  gridSearch = GridSearchCV(LinearSVC(class_weight=weight_dict), param_grid,\n",
    "                            verbose=1) \n",
    "  model = gridSearch.fit(train_df.drop('popularity', axis=1), \n",
    "                         train_df.popularity)\n",
    "  print(f\"Found best model :{model.best_params_}\")\n",
    "  return model\n",
    "\n",
    "modelCnn25 = train_svm_wo_feature_select(cnnTrain25, bigLambdaCnn25)\n",
    "with open('modelCnn25.pkl', 'wb') as fid:\n",
    "    pickle.dump(modelCnn25, fid)  "
   ]
  },
  {
   "cell_type": "code",
   "execution_count": 11,
   "metadata": {},
   "outputs": [],
   "source": [
    "cnnTrain, cnnTest = create_train_test_split(cnnBrk)\n",
    "cnnTrain5, cnnTrain25 = produce_binary_labels(cnnTrain)\n",
    "cnnTest5, cnnTest25 = produce_binary_labels(cnnTest)\n",
    "\n",
    "reuTrain, reuTest = create_train_test_split(reutersWorld)\n",
    "reuTrain5, reuTrain25 = produce_binary_labels(reuTrain)\n",
    "reuTest5, reuTest25 = produce_binary_labels(reuTest)\n",
    "\n",
    "bbcTrain, bbcTest = create_train_test_split(bbcBreaking)\n",
    "bbcTrain5, bbcTrain25 = produce_binary_labels(bbcTrain)\n",
    "bbcTest5, bbcTest25 = produce_binary_labels(bbcTest)\n",
    "\n",
    "preTrain, preTest = create_train_test_split(pressTV)\n",
    "preTrain5, preTrain25 = produce_binary_labels(preTrain)\n",
    "preTest5, preTest25 = produce_binary_labels(preTest)"
   ]
  },
  {
   "cell_type": "code",
   "execution_count": 178,
   "metadata": {},
   "outputs": [
    {
     "data": {
      "text/html": [
       "<div>\n",
       "<style scoped>\n",
       "    .dataframe tbody tr th:only-of-type {\n",
       "        vertical-align: middle;\n",
       "    }\n",
       "\n",
       "    .dataframe tbody tr th {\n",
       "        vertical-align: top;\n",
       "    }\n",
       "\n",
       "    .dataframe thead th {\n",
       "        text-align: right;\n",
       "    }\n",
       "</style>\n",
       "<table border=\"1\" class=\"dataframe\">\n",
       "  <thead>\n",
       "    <tr style=\"text-align: right;\">\n",
       "      <th></th>\n",
       "      <th>views</th>\n",
       "      <th>age</th>\n",
       "      <th>year</th>\n",
       "      <th>month</th>\n",
       "      <th>day</th>\n",
       "      <th>weekday</th>\n",
       "      <th>hour</th>\n",
       "      <th>minViews</th>\n",
       "      <th>maxViews</th>\n",
       "      <th>meanViews</th>\n",
       "      <th>stdViews</th>\n",
       "      <th>hourlyAvgPosts</th>\n",
       "      <th>dailyAvgPosts</th>\n",
       "      <th>hasMedia</th>\n",
       "      <th>mediaType</th>\n",
       "      <th>hasLink</th>\n",
       "      <th>mentions</th>\n",
       "      <th>hashtags</th>\n",
       "      <th>popularity</th>\n",
       "    </tr>\n",
       "  </thead>\n",
       "  <tbody>\n",
       "    <tr>\n",
       "      <th>0</th>\n",
       "      <td>0.189557</td>\n",
       "      <td>1.000000</td>\n",
       "      <td>0.0</td>\n",
       "      <td>1.0</td>\n",
       "      <td>0.200000</td>\n",
       "      <td>0.500000</td>\n",
       "      <td>1.000000</td>\n",
       "      <td>0.0</td>\n",
       "      <td>0.0</td>\n",
       "      <td>0.0</td>\n",
       "      <td>0.0</td>\n",
       "      <td>0.0</td>\n",
       "      <td>0.0</td>\n",
       "      <td>0.0</td>\n",
       "      <td>0.0</td>\n",
       "      <td>0.0</td>\n",
       "      <td>1.0</td>\n",
       "      <td>0.0</td>\n",
       "      <td>1</td>\n",
       "    </tr>\n",
       "    <tr>\n",
       "      <th>1</th>\n",
       "      <td>0.178827</td>\n",
       "      <td>0.999971</td>\n",
       "      <td>0.0</td>\n",
       "      <td>1.0</td>\n",
       "      <td>0.200000</td>\n",
       "      <td>0.500000</td>\n",
       "      <td>1.000000</td>\n",
       "      <td>0.0</td>\n",
       "      <td>0.0</td>\n",
       "      <td>0.0</td>\n",
       "      <td>0.0</td>\n",
       "      <td>0.0</td>\n",
       "      <td>0.0</td>\n",
       "      <td>0.0</td>\n",
       "      <td>0.0</td>\n",
       "      <td>0.0</td>\n",
       "      <td>1.0</td>\n",
       "      <td>0.0</td>\n",
       "      <td>1</td>\n",
       "    </tr>\n",
       "    <tr>\n",
       "      <th>2</th>\n",
       "      <td>0.172389</td>\n",
       "      <td>0.999850</td>\n",
       "      <td>0.0</td>\n",
       "      <td>1.0</td>\n",
       "      <td>0.200000</td>\n",
       "      <td>0.500000</td>\n",
       "      <td>0.956522</td>\n",
       "      <td>0.0</td>\n",
       "      <td>0.0</td>\n",
       "      <td>0.0</td>\n",
       "      <td>0.0</td>\n",
       "      <td>0.0</td>\n",
       "      <td>0.0</td>\n",
       "      <td>0.0</td>\n",
       "      <td>0.0</td>\n",
       "      <td>0.0</td>\n",
       "      <td>1.0</td>\n",
       "      <td>0.0</td>\n",
       "      <td>1</td>\n",
       "    </tr>\n",
       "    <tr>\n",
       "      <th>3</th>\n",
       "      <td>0.173820</td>\n",
       "      <td>0.999706</td>\n",
       "      <td>0.0</td>\n",
       "      <td>1.0</td>\n",
       "      <td>0.200000</td>\n",
       "      <td>0.500000</td>\n",
       "      <td>0.913043</td>\n",
       "      <td>0.0</td>\n",
       "      <td>0.0</td>\n",
       "      <td>0.0</td>\n",
       "      <td>0.0</td>\n",
       "      <td>0.0</td>\n",
       "      <td>0.0</td>\n",
       "      <td>0.0</td>\n",
       "      <td>0.0</td>\n",
       "      <td>0.0</td>\n",
       "      <td>1.0</td>\n",
       "      <td>0.0</td>\n",
       "      <td>1</td>\n",
       "    </tr>\n",
       "    <tr>\n",
       "      <th>4</th>\n",
       "      <td>0.218169</td>\n",
       "      <td>0.999582</td>\n",
       "      <td>0.0</td>\n",
       "      <td>1.0</td>\n",
       "      <td>0.200000</td>\n",
       "      <td>0.500000</td>\n",
       "      <td>0.913043</td>\n",
       "      <td>0.0</td>\n",
       "      <td>0.0</td>\n",
       "      <td>0.0</td>\n",
       "      <td>0.0</td>\n",
       "      <td>0.0</td>\n",
       "      <td>0.0</td>\n",
       "      <td>0.0</td>\n",
       "      <td>0.0</td>\n",
       "      <td>0.0</td>\n",
       "      <td>1.0</td>\n",
       "      <td>0.0</td>\n",
       "      <td>1</td>\n",
       "    </tr>\n",
       "    <tr>\n",
       "      <th>...</th>\n",
       "      <td>...</td>\n",
       "      <td>...</td>\n",
       "      <td>...</td>\n",
       "      <td>...</td>\n",
       "      <td>...</td>\n",
       "      <td>...</td>\n",
       "      <td>...</td>\n",
       "      <td>...</td>\n",
       "      <td>...</td>\n",
       "      <td>...</td>\n",
       "      <td>...</td>\n",
       "      <td>...</td>\n",
       "      <td>...</td>\n",
       "      <td>...</td>\n",
       "      <td>...</td>\n",
       "      <td>...</td>\n",
       "      <td>...</td>\n",
       "      <td>...</td>\n",
       "      <td>...</td>\n",
       "    </tr>\n",
       "    <tr>\n",
       "      <th>9521</th>\n",
       "      <td>0.025751</td>\n",
       "      <td>0.000729</td>\n",
       "      <td>0.0</td>\n",
       "      <td>0.0</td>\n",
       "      <td>0.233333</td>\n",
       "      <td>0.333333</td>\n",
       "      <td>0.130435</td>\n",
       "      <td>0.0</td>\n",
       "      <td>0.0</td>\n",
       "      <td>0.0</td>\n",
       "      <td>0.0</td>\n",
       "      <td>0.0</td>\n",
       "      <td>0.0</td>\n",
       "      <td>1.0</td>\n",
       "      <td>1.0</td>\n",
       "      <td>1.0</td>\n",
       "      <td>1.0</td>\n",
       "      <td>0.0</td>\n",
       "      <td>0</td>\n",
       "    </tr>\n",
       "    <tr>\n",
       "      <th>9522</th>\n",
       "      <td>0.027897</td>\n",
       "      <td>0.000729</td>\n",
       "      <td>0.0</td>\n",
       "      <td>0.0</td>\n",
       "      <td>0.233333</td>\n",
       "      <td>0.333333</td>\n",
       "      <td>0.130435</td>\n",
       "      <td>0.0</td>\n",
       "      <td>0.0</td>\n",
       "      <td>0.0</td>\n",
       "      <td>0.0</td>\n",
       "      <td>0.0</td>\n",
       "      <td>0.0</td>\n",
       "      <td>1.0</td>\n",
       "      <td>1.0</td>\n",
       "      <td>1.0</td>\n",
       "      <td>1.0</td>\n",
       "      <td>0.0</td>\n",
       "      <td>0</td>\n",
       "    </tr>\n",
       "    <tr>\n",
       "      <th>9523</th>\n",
       "      <td>0.030758</td>\n",
       "      <td>0.000494</td>\n",
       "      <td>0.0</td>\n",
       "      <td>0.0</td>\n",
       "      <td>0.233333</td>\n",
       "      <td>0.333333</td>\n",
       "      <td>0.086957</td>\n",
       "      <td>0.0</td>\n",
       "      <td>0.0</td>\n",
       "      <td>0.0</td>\n",
       "      <td>0.0</td>\n",
       "      <td>0.0</td>\n",
       "      <td>0.0</td>\n",
       "      <td>1.0</td>\n",
       "      <td>1.0</td>\n",
       "      <td>1.0</td>\n",
       "      <td>1.0</td>\n",
       "      <td>0.0</td>\n",
       "      <td>0</td>\n",
       "    </tr>\n",
       "    <tr>\n",
       "      <th>9524</th>\n",
       "      <td>0.037911</td>\n",
       "      <td>0.000232</td>\n",
       "      <td>0.0</td>\n",
       "      <td>0.0</td>\n",
       "      <td>0.233333</td>\n",
       "      <td>0.333333</td>\n",
       "      <td>0.043478</td>\n",
       "      <td>0.0</td>\n",
       "      <td>0.0</td>\n",
       "      <td>0.0</td>\n",
       "      <td>0.0</td>\n",
       "      <td>0.0</td>\n",
       "      <td>0.0</td>\n",
       "      <td>1.0</td>\n",
       "      <td>1.0</td>\n",
       "      <td>1.0</td>\n",
       "      <td>1.0</td>\n",
       "      <td>0.0</td>\n",
       "      <td>0</td>\n",
       "    </tr>\n",
       "    <tr>\n",
       "      <th>9525</th>\n",
       "      <td>0.037196</td>\n",
       "      <td>0.000000</td>\n",
       "      <td>0.0</td>\n",
       "      <td>0.0</td>\n",
       "      <td>0.233333</td>\n",
       "      <td>0.333333</td>\n",
       "      <td>0.000000</td>\n",
       "      <td>0.0</td>\n",
       "      <td>0.0</td>\n",
       "      <td>0.0</td>\n",
       "      <td>0.0</td>\n",
       "      <td>0.0</td>\n",
       "      <td>0.0</td>\n",
       "      <td>1.0</td>\n",
       "      <td>1.0</td>\n",
       "      <td>1.0</td>\n",
       "      <td>1.0</td>\n",
       "      <td>0.0</td>\n",
       "      <td>0</td>\n",
       "    </tr>\n",
       "  </tbody>\n",
       "</table>\n",
       "<p>9526 rows × 19 columns</p>\n",
       "</div>"
      ],
      "text/plain": [
       "         views       age  year  month       day   weekday      hour  minViews  \\\n",
       "0     0.189557  1.000000   0.0    1.0  0.200000  0.500000  1.000000       0.0   \n",
       "1     0.178827  0.999971   0.0    1.0  0.200000  0.500000  1.000000       0.0   \n",
       "2     0.172389  0.999850   0.0    1.0  0.200000  0.500000  0.956522       0.0   \n",
       "3     0.173820  0.999706   0.0    1.0  0.200000  0.500000  0.913043       0.0   \n",
       "4     0.218169  0.999582   0.0    1.0  0.200000  0.500000  0.913043       0.0   \n",
       "...        ...       ...   ...    ...       ...       ...       ...       ...   \n",
       "9521  0.025751  0.000729   0.0    0.0  0.233333  0.333333  0.130435       0.0   \n",
       "9522  0.027897  0.000729   0.0    0.0  0.233333  0.333333  0.130435       0.0   \n",
       "9523  0.030758  0.000494   0.0    0.0  0.233333  0.333333  0.086957       0.0   \n",
       "9524  0.037911  0.000232   0.0    0.0  0.233333  0.333333  0.043478       0.0   \n",
       "9525  0.037196  0.000000   0.0    0.0  0.233333  0.333333  0.000000       0.0   \n",
       "\n",
       "      maxViews  meanViews  stdViews  hourlyAvgPosts  dailyAvgPosts  hasMedia  \\\n",
       "0          0.0        0.0       0.0             0.0            0.0       0.0   \n",
       "1          0.0        0.0       0.0             0.0            0.0       0.0   \n",
       "2          0.0        0.0       0.0             0.0            0.0       0.0   \n",
       "3          0.0        0.0       0.0             0.0            0.0       0.0   \n",
       "4          0.0        0.0       0.0             0.0            0.0       0.0   \n",
       "...        ...        ...       ...             ...            ...       ...   \n",
       "9521       0.0        0.0       0.0             0.0            0.0       1.0   \n",
       "9522       0.0        0.0       0.0             0.0            0.0       1.0   \n",
       "9523       0.0        0.0       0.0             0.0            0.0       1.0   \n",
       "9524       0.0        0.0       0.0             0.0            0.0       1.0   \n",
       "9525       0.0        0.0       0.0             0.0            0.0       1.0   \n",
       "\n",
       "      mediaType  hasLink  mentions  hashtags  popularity  \n",
       "0           0.0      0.0       1.0       0.0           1  \n",
       "1           0.0      0.0       1.0       0.0           1  \n",
       "2           0.0      0.0       1.0       0.0           1  \n",
       "3           0.0      0.0       1.0       0.0           1  \n",
       "4           0.0      0.0       1.0       0.0           1  \n",
       "...         ...      ...       ...       ...         ...  \n",
       "9521        1.0      1.0       1.0       0.0           0  \n",
       "9522        1.0      1.0       1.0       0.0           0  \n",
       "9523        1.0      1.0       1.0       0.0           0  \n",
       "9524        1.0      1.0       1.0       0.0           0  \n",
       "9525        1.0      1.0       1.0       0.0           0  \n",
       "\n",
       "[9526 rows x 19 columns]"
      ]
     },
     "execution_count": 178,
     "metadata": {},
     "output_type": "execute_result"
    }
   ],
   "source": [
    "reuTrain25"
   ]
  },
  {
   "cell_type": "code",
   "execution_count": 12,
   "metadata": {},
   "outputs": [
    {
     "data": {
      "text/html": [
       "<div>\n",
       "<style scoped>\n",
       "    .dataframe tbody tr th:only-of-type {\n",
       "        vertical-align: middle;\n",
       "    }\n",
       "\n",
       "    .dataframe tbody tr th {\n",
       "        vertical-align: top;\n",
       "    }\n",
       "\n",
       "    .dataframe thead th {\n",
       "        text-align: right;\n",
       "    }\n",
       "</style>\n",
       "<table border=\"1\" class=\"dataframe\">\n",
       "  <thead>\n",
       "    <tr style=\"text-align: right;\">\n",
       "      <th></th>\n",
       "      <th>date</th>\n",
       "      <th>views</th>\n",
       "      <th>age</th>\n",
       "      <th>year</th>\n",
       "      <th>month</th>\n",
       "      <th>day</th>\n",
       "      <th>weekday</th>\n",
       "      <th>hour</th>\n",
       "      <th>minViews</th>\n",
       "      <th>maxViews</th>\n",
       "      <th>meanViews</th>\n",
       "      <th>stdViews</th>\n",
       "      <th>hourlyAvgPosts</th>\n",
       "      <th>dailyAvgPosts</th>\n",
       "      <th>hasMedia</th>\n",
       "      <th>mediaType</th>\n",
       "      <th>hasLink</th>\n",
       "      <th>mentions</th>\n",
       "      <th>hashtags</th>\n",
       "      <th>popularity</th>\n",
       "    </tr>\n",
       "  </thead>\n",
       "  <tbody>\n",
       "    <tr>\n",
       "      <th>4354</th>\n",
       "      <td>2017-10-07 23:40:59</td>\n",
       "      <td>199.0</td>\n",
       "      <td>1507419659</td>\n",
       "      <td>2017</td>\n",
       "      <td>10</td>\n",
       "      <td>7</td>\n",
       "      <td>5</td>\n",
       "      <td>23</td>\n",
       "      <td>5.0</td>\n",
       "      <td>15277.0</td>\n",
       "      <td>89.8361</td>\n",
       "      <td>97.311753</td>\n",
       "      <td>2201.041667</td>\n",
       "      <td>225.747863</td>\n",
       "      <td>False</td>\n",
       "      <td></td>\n",
       "      <td>False</td>\n",
       "      <td>1</td>\n",
       "      <td>0</td>\n",
       "      <td>0</td>\n",
       "    </tr>\n",
       "    <tr>\n",
       "      <th>4355</th>\n",
       "      <td>2017-10-07 23:40:59</td>\n",
       "      <td>198.0</td>\n",
       "      <td>1507419659</td>\n",
       "      <td>2017</td>\n",
       "      <td>10</td>\n",
       "      <td>7</td>\n",
       "      <td>5</td>\n",
       "      <td>23</td>\n",
       "      <td>5.0</td>\n",
       "      <td>15277.0</td>\n",
       "      <td>89.8361</td>\n",
       "      <td>97.311753</td>\n",
       "      <td>2201.041667</td>\n",
       "      <td>225.747863</td>\n",
       "      <td>True</td>\n",
       "      <td>messageMediaPhoto</td>\n",
       "      <td>False</td>\n",
       "      <td>0</td>\n",
       "      <td>0</td>\n",
       "      <td>0</td>\n",
       "    </tr>\n",
       "    <tr>\n",
       "      <th>4356</th>\n",
       "      <td>2017-10-07 23:40:55</td>\n",
       "      <td>200.0</td>\n",
       "      <td>1507419655</td>\n",
       "      <td>2017</td>\n",
       "      <td>10</td>\n",
       "      <td>7</td>\n",
       "      <td>5</td>\n",
       "      <td>23</td>\n",
       "      <td>5.0</td>\n",
       "      <td>15277.0</td>\n",
       "      <td>89.8361</td>\n",
       "      <td>97.311753</td>\n",
       "      <td>2201.041667</td>\n",
       "      <td>225.747863</td>\n",
       "      <td>False</td>\n",
       "      <td></td>\n",
       "      <td>False</td>\n",
       "      <td>1</td>\n",
       "      <td>0</td>\n",
       "      <td>0</td>\n",
       "    </tr>\n",
       "    <tr>\n",
       "      <th>4357</th>\n",
       "      <td>2017-10-07 23:40:54</td>\n",
       "      <td>201.0</td>\n",
       "      <td>1507419654</td>\n",
       "      <td>2017</td>\n",
       "      <td>10</td>\n",
       "      <td>7</td>\n",
       "      <td>5</td>\n",
       "      <td>23</td>\n",
       "      <td>5.0</td>\n",
       "      <td>15277.0</td>\n",
       "      <td>89.8361</td>\n",
       "      <td>97.311753</td>\n",
       "      <td>2201.041667</td>\n",
       "      <td>225.747863</td>\n",
       "      <td>True</td>\n",
       "      <td>messageMediaPhoto</td>\n",
       "      <td>False</td>\n",
       "      <td>0</td>\n",
       "      <td>0</td>\n",
       "      <td>0</td>\n",
       "    </tr>\n",
       "    <tr>\n",
       "      <th>4358</th>\n",
       "      <td>2017-10-07 22:12:19</td>\n",
       "      <td>194.0</td>\n",
       "      <td>1507414339</td>\n",
       "      <td>2017</td>\n",
       "      <td>10</td>\n",
       "      <td>7</td>\n",
       "      <td>5</td>\n",
       "      <td>22</td>\n",
       "      <td>5.0</td>\n",
       "      <td>15277.0</td>\n",
       "      <td>89.8361</td>\n",
       "      <td>97.311753</td>\n",
       "      <td>2201.041667</td>\n",
       "      <td>225.747863</td>\n",
       "      <td>False</td>\n",
       "      <td></td>\n",
       "      <td>True</td>\n",
       "      <td>1</td>\n",
       "      <td>0</td>\n",
       "      <td>0</td>\n",
       "    </tr>\n",
       "    <tr>\n",
       "      <th>...</th>\n",
       "      <td>...</td>\n",
       "      <td>...</td>\n",
       "      <td>...</td>\n",
       "      <td>...</td>\n",
       "      <td>...</td>\n",
       "      <td>...</td>\n",
       "      <td>...</td>\n",
       "      <td>...</td>\n",
       "      <td>...</td>\n",
       "      <td>...</td>\n",
       "      <td>...</td>\n",
       "      <td>...</td>\n",
       "      <td>...</td>\n",
       "      <td>...</td>\n",
       "      <td>...</td>\n",
       "      <td>...</td>\n",
       "      <td>...</td>\n",
       "      <td>...</td>\n",
       "      <td>...</td>\n",
       "      <td>...</td>\n",
       "    </tr>\n",
       "    <tr>\n",
       "      <th>52820</th>\n",
       "      <td>2017-03-08 04:17:03</td>\n",
       "      <td>27.0</td>\n",
       "      <td>1488946623</td>\n",
       "      <td>2017</td>\n",
       "      <td>3</td>\n",
       "      <td>8</td>\n",
       "      <td>2</td>\n",
       "      <td>4</td>\n",
       "      <td>5.0</td>\n",
       "      <td>15277.0</td>\n",
       "      <td>89.8361</td>\n",
       "      <td>97.311753</td>\n",
       "      <td>2201.041667</td>\n",
       "      <td>225.747863</td>\n",
       "      <td>True</td>\n",
       "      <td>messageMediaWebPage</td>\n",
       "      <td>True</td>\n",
       "      <td>0</td>\n",
       "      <td>0</td>\n",
       "      <td>0</td>\n",
       "    </tr>\n",
       "    <tr>\n",
       "      <th>52821</th>\n",
       "      <td>2017-03-08 04:08:11</td>\n",
       "      <td>31.0</td>\n",
       "      <td>1488946091</td>\n",
       "      <td>2017</td>\n",
       "      <td>3</td>\n",
       "      <td>8</td>\n",
       "      <td>2</td>\n",
       "      <td>4</td>\n",
       "      <td>5.0</td>\n",
       "      <td>15277.0</td>\n",
       "      <td>89.8361</td>\n",
       "      <td>97.311753</td>\n",
       "      <td>2201.041667</td>\n",
       "      <td>225.747863</td>\n",
       "      <td>True</td>\n",
       "      <td>messageMediaWebPage</td>\n",
       "      <td>True</td>\n",
       "      <td>0</td>\n",
       "      <td>0</td>\n",
       "      <td>0</td>\n",
       "    </tr>\n",
       "    <tr>\n",
       "      <th>52822</th>\n",
       "      <td>2017-03-08 04:07:09</td>\n",
       "      <td>31.0</td>\n",
       "      <td>1488946029</td>\n",
       "      <td>2017</td>\n",
       "      <td>3</td>\n",
       "      <td>8</td>\n",
       "      <td>2</td>\n",
       "      <td>4</td>\n",
       "      <td>5.0</td>\n",
       "      <td>15277.0</td>\n",
       "      <td>89.8361</td>\n",
       "      <td>97.311753</td>\n",
       "      <td>2201.041667</td>\n",
       "      <td>225.747863</td>\n",
       "      <td>True</td>\n",
       "      <td>messageMediaWebPage</td>\n",
       "      <td>False</td>\n",
       "      <td>0</td>\n",
       "      <td>0</td>\n",
       "      <td>0</td>\n",
       "    </tr>\n",
       "    <tr>\n",
       "      <th>52823</th>\n",
       "      <td>2017-03-08 04:01:30</td>\n",
       "      <td>34.0</td>\n",
       "      <td>1488945690</td>\n",
       "      <td>2017</td>\n",
       "      <td>3</td>\n",
       "      <td>8</td>\n",
       "      <td>2</td>\n",
       "      <td>4</td>\n",
       "      <td>5.0</td>\n",
       "      <td>15277.0</td>\n",
       "      <td>89.8361</td>\n",
       "      <td>97.311753</td>\n",
       "      <td>2201.041667</td>\n",
       "      <td>225.747863</td>\n",
       "      <td>True</td>\n",
       "      <td>messageMediaWebPage</td>\n",
       "      <td>True</td>\n",
       "      <td>0</td>\n",
       "      <td>0</td>\n",
       "      <td>0</td>\n",
       "    </tr>\n",
       "    <tr>\n",
       "      <th>52825</th>\n",
       "      <td>2017-03-08 03:46:07</td>\n",
       "      <td>38.0</td>\n",
       "      <td>1488944767</td>\n",
       "      <td>2017</td>\n",
       "      <td>3</td>\n",
       "      <td>8</td>\n",
       "      <td>2</td>\n",
       "      <td>3</td>\n",
       "      <td>5.0</td>\n",
       "      <td>15277.0</td>\n",
       "      <td>89.8361</td>\n",
       "      <td>97.311753</td>\n",
       "      <td>2201.041667</td>\n",
       "      <td>225.747863</td>\n",
       "      <td>True</td>\n",
       "      <td>messageMediaWebPage</td>\n",
       "      <td>True</td>\n",
       "      <td>0</td>\n",
       "      <td>0</td>\n",
       "      <td>0</td>\n",
       "    </tr>\n",
       "  </tbody>\n",
       "</table>\n",
       "<p>48471 rows × 20 columns</p>\n",
       "</div>"
      ],
      "text/plain": [
       "                     date  views         age  year  month  day  weekday  hour  \\\n",
       "4354  2017-10-07 23:40:59  199.0  1507419659  2017     10    7        5    23   \n",
       "4355  2017-10-07 23:40:59  198.0  1507419659  2017     10    7        5    23   \n",
       "4356  2017-10-07 23:40:55  200.0  1507419655  2017     10    7        5    23   \n",
       "4357  2017-10-07 23:40:54  201.0  1507419654  2017     10    7        5    23   \n",
       "4358  2017-10-07 22:12:19  194.0  1507414339  2017     10    7        5    22   \n",
       "...                   ...    ...         ...   ...    ...  ...      ...   ...   \n",
       "52820 2017-03-08 04:17:03   27.0  1488946623  2017      3    8        2     4   \n",
       "52821 2017-03-08 04:08:11   31.0  1488946091  2017      3    8        2     4   \n",
       "52822 2017-03-08 04:07:09   31.0  1488946029  2017      3    8        2     4   \n",
       "52823 2017-03-08 04:01:30   34.0  1488945690  2017      3    8        2     4   \n",
       "52825 2017-03-08 03:46:07   38.0  1488944767  2017      3    8        2     3   \n",
       "\n",
       "       minViews  maxViews  meanViews   stdViews  hourlyAvgPosts  \\\n",
       "4354        5.0   15277.0    89.8361  97.311753     2201.041667   \n",
       "4355        5.0   15277.0    89.8361  97.311753     2201.041667   \n",
       "4356        5.0   15277.0    89.8361  97.311753     2201.041667   \n",
       "4357        5.0   15277.0    89.8361  97.311753     2201.041667   \n",
       "4358        5.0   15277.0    89.8361  97.311753     2201.041667   \n",
       "...         ...       ...        ...        ...             ...   \n",
       "52820       5.0   15277.0    89.8361  97.311753     2201.041667   \n",
       "52821       5.0   15277.0    89.8361  97.311753     2201.041667   \n",
       "52822       5.0   15277.0    89.8361  97.311753     2201.041667   \n",
       "52823       5.0   15277.0    89.8361  97.311753     2201.041667   \n",
       "52825       5.0   15277.0    89.8361  97.311753     2201.041667   \n",
       "\n",
       "       dailyAvgPosts  hasMedia            mediaType  hasLink  mentions  \\\n",
       "4354      225.747863     False                         False         1   \n",
       "4355      225.747863      True    messageMediaPhoto    False         0   \n",
       "4356      225.747863     False                         False         1   \n",
       "4357      225.747863      True    messageMediaPhoto    False         0   \n",
       "4358      225.747863     False                          True         1   \n",
       "...              ...       ...                  ...      ...       ...   \n",
       "52820     225.747863      True  messageMediaWebPage     True         0   \n",
       "52821     225.747863      True  messageMediaWebPage     True         0   \n",
       "52822     225.747863      True  messageMediaWebPage    False         0   \n",
       "52823     225.747863      True  messageMediaWebPage     True         0   \n",
       "52825     225.747863      True  messageMediaWebPage     True         0   \n",
       "\n",
       "       hashtags  popularity  \n",
       "4354          0           0  \n",
       "4355          0           0  \n",
       "4356          0           0  \n",
       "4357          0           0  \n",
       "4358          0           0  \n",
       "...         ...         ...  \n",
       "52820         0           0  \n",
       "52821         0           0  \n",
       "52822         0           0  \n",
       "52823         0           0  \n",
       "52825         0           0  \n",
       "\n",
       "[48471 rows x 20 columns]"
      ]
     },
     "metadata": {},
     "output_type": "display_data"
    }
   ],
   "source": [
    "from scipy import io\n",
    "\n",
    "def split_xy(df, nm = False):\n",
    "    weight = calculate_weights(df)\n",
    "    mn = min(weight)\n",
    "    mx = max(weight)\n",
    "    nmin = mn/(mn+mx)\n",
    "    nmax = 1 - nmin\n",
    "    weight[weight == mn] = nmin\n",
    "    weight[weight == mx] = nmax\n",
    "                                   \n",
    "    df.loc[df.popularity == 0, \"popularity\"] = -1\n",
    "    X = df.drop(\"popularity\", axis=1)#.mul(weight, axis=0)\n",
    "    Y = df.popularity\n",
    "    \n",
    "    if nm:\n",
    "        X.to_csv(\"X_\"+nm+\".csv\", header=False, index=False)\n",
    "        Y.to_csv(\"Y_\"+nm+\".csv\", header=False, index=False)\n",
    "        \n",
    "    return X,Y\n",
    "\n",
    "X_cnnTrain25, Y_cnnTrain25 = split_xy(cnnTrain25, 'cnn25')\n",
    "X_reuTrain25, Y_reuTrain25 = split_xy(reuTrain25, 'reu25')\n",
    "X_bbcTrain25, Y_bbcTrain25 = split_xy(bbcTrain25, 'bbc25')\n",
    "X_preTrain25, Y_preTrain25 = split_xy(preTrain25, 'pre25')\n",
    "\n",
    "X_cnnTest25, Y_cnnTest25 = split_xy(cnnTest25)\n",
    "X_reuTest25, Y_reuTest25 = split_xy(reuTest25)\n",
    "X_bbcTest25, Y_bbcTest25 = split_xy(bbcTest25)\n",
    "X_preTest25, Y_preTest25 = split_xy(preTest25)\n",
    "\n",
    "X_cnnTrain5, Y_cnnTrain5 = split_xy(cnnTrain5, 'cnn5')\n",
    "display(cnnBrk)\n",
    "X_reuTrain5, Y_reuTrain5 = split_xy(reuTrain5, 'reu5')\n",
    "X_bbcTrain5, Y_bbcTrain5 = split_xy(bbcTrain5, 'bbc5')\n",
    "X_preTrain5, Y_preTrain5 = split_xy(preTrain5, 'pre5')\n",
    "\n",
    "X_cnnTest5, Y_cnnTest5 = split_xy(cnnTest5)\n",
    "X_reuTest5, Y_reuTest5 = split_xy(reuTest5)\n",
    "X_bbcTest5, Y_bbcTest5 = split_xy(bbcTest5)\n",
    "X_preTest5, Y_preTest5 = split_xy(preTest5)"
   ]
  },
  {
   "cell_type": "markdown",
   "metadata": {},
   "source": [
    "PP: Methode in MATLAB ist radnom!!! Keine seed."
   ]
  },
  {
   "cell_type": "code",
   "execution_count": 22,
   "metadata": {},
   "outputs": [
    {
     "data": {
      "text/html": [
       "<div>\n",
       "<style scoped>\n",
       "    .dataframe tbody tr th:only-of-type {\n",
       "        vertical-align: middle;\n",
       "    }\n",
       "\n",
       "    .dataframe tbody tr th {\n",
       "        vertical-align: top;\n",
       "    }\n",
       "\n",
       "    .dataframe thead th {\n",
       "        text-align: right;\n",
       "    }\n",
       "</style>\n",
       "<table border=\"1\" class=\"dataframe\">\n",
       "  <thead>\n",
       "    <tr style=\"text-align: right;\">\n",
       "      <th>predicted</th>\n",
       "      <th>-1.0</th>\n",
       "      <th>1.0</th>\n",
       "    </tr>\n",
       "    <tr>\n",
       "      <th>original</th>\n",
       "      <th></th>\n",
       "      <th></th>\n",
       "    </tr>\n",
       "  </thead>\n",
       "  <tbody>\n",
       "    <tr>\n",
       "      <th>-1</th>\n",
       "      <td>27966</td>\n",
       "      <td>3533</td>\n",
       "    </tr>\n",
       "    <tr>\n",
       "      <th>1</th>\n",
       "      <td>8618</td>\n",
       "      <td>1881</td>\n",
       "    </tr>\n",
       "  </tbody>\n",
       "</table>\n",
       "</div>"
      ],
      "text/plain": [
       "predicted   -1.0   1.0\n",
       "original              \n",
       "-1         27966  3533\n",
       " 1          8618  1881"
      ]
     },
     "metadata": {},
     "output_type": "display_data"
    },
    {
     "name": "stdout",
     "output_type": "stream",
     "text": [
      "-----------CNN Train25 Confusion Matrix-----------\n"
     ]
    },
    {
     "data": {
      "image/png": "[encoded data removed]",
      "text/plain": [
       "<Figure size 432x288 with 2 Axes>"
      ]
     },
     "metadata": {
      "needs_background": "light"
     },
     "output_type": "display_data"
    },
    {
     "name": "stdout",
     "output_type": "stream",
     "text": [
      "{'Accuracy': 0.7106766988904234, 'Balanced_Accuracy': 0.5334988145630017, 'Precision': 0.34743258219431106, 'Recall': 0.17915991999238023, 'F1': 0.23641048199585246}\n"
     ]
    },
    {
     "data": {
      "text/html": [
       "<div>\n",
       "<style scoped>\n",
       "    .dataframe tbody tr th:only-of-type {\n",
       "        vertical-align: middle;\n",
       "    }\n",
       "\n",
       "    .dataframe tbody tr th {\n",
       "        vertical-align: top;\n",
       "    }\n",
       "\n",
       "    .dataframe thead th {\n",
       "        text-align: right;\n",
       "    }\n",
       "</style>\n",
       "<table border=\"1\" class=\"dataframe\">\n",
       "  <thead>\n",
       "    <tr style=\"text-align: right;\">\n",
       "      <th>predicted</th>\n",
       "      <th>-1.0</th>\n",
       "      <th>1.0</th>\n",
       "    </tr>\n",
       "    <tr>\n",
       "      <th>original</th>\n",
       "      <th></th>\n",
       "      <th></th>\n",
       "    </tr>\n",
       "  </thead>\n",
       "  <tbody>\n",
       "    <tr>\n",
       "      <th>-1</th>\n",
       "      <td>6658</td>\n",
       "      <td>487</td>\n",
       "    </tr>\n",
       "    <tr>\n",
       "      <th>1</th>\n",
       "      <td>802</td>\n",
       "      <td>1579</td>\n",
       "    </tr>\n",
       "  </tbody>\n",
       "</table>\n",
       "</div>"
      ],
      "text/plain": [
       "predicted  -1.0   1.0\n",
       "original             \n",
       "-1         6658   487\n",
       " 1          802  1579"
      ]
     },
     "metadata": {},
     "output_type": "display_data"
    },
    {
     "name": "stdout",
     "output_type": "stream",
     "text": [
      "---------Reuters Train25 Confusion Matrix---------\n"
     ]
    },
    {
     "data": {
      "image/png": "[encoded data removed]",
      "text/plain": [
       "<Figure size 432x288 with 2 Axes>"
      ]
     },
     "metadata": {
      "needs_background": "light"
     },
     "output_type": "display_data"
    },
    {
     "name": "stdout",
     "output_type": "stream",
     "text": [
      "{'Accuracy': 0.8646861221918959, 'Balanced_Accuracy': 0.7975035922654535, 'Precision': 0.7642787996127783, 'Recall': 0.6631667366652667, 'F1': 0.7101416685405891}\n"
     ]
    },
    {
     "data": {
      "text/html": [
       "<div>\n",
       "<style scoped>\n",
       "    .dataframe tbody tr th:only-of-type {\n",
       "        vertical-align: middle;\n",
       "    }\n",
       "\n",
       "    .dataframe tbody tr th {\n",
       "        vertical-align: top;\n",
       "    }\n",
       "\n",
       "    .dataframe thead th {\n",
       "        text-align: right;\n",
       "    }\n",
       "</style>\n",
       "<table border=\"1\" class=\"dataframe\">\n",
       "  <thead>\n",
       "    <tr style=\"text-align: right;\">\n",
       "      <th>predicted</th>\n",
       "      <th>-1.0</th>\n",
       "      <th>1.0</th>\n",
       "    </tr>\n",
       "    <tr>\n",
       "      <th>original</th>\n",
       "      <th></th>\n",
       "      <th></th>\n",
       "    </tr>\n",
       "  </thead>\n",
       "  <tbody>\n",
       "    <tr>\n",
       "      <th>-1</th>\n",
       "      <td>1120</td>\n",
       "      <td>89</td>\n",
       "    </tr>\n",
       "    <tr>\n",
       "      <th>1</th>\n",
       "      <td>193</td>\n",
       "      <td>210</td>\n",
       "    </tr>\n",
       "  </tbody>\n",
       "</table>\n",
       "</div>"
      ],
      "text/plain": [
       "predicted  -1.0   1.0\n",
       "original             \n",
       "-1         1120    89\n",
       " 1          193   210"
      ]
     },
     "metadata": {},
     "output_type": "display_data"
    },
    {
     "name": "stdout",
     "output_type": "stream",
     "text": [
      "-----------BBC Train25 Confusion Matrix-----------\n"
     ]
    },
    {
     "data": {
      "image/png": "[encoded data removed]",
      "text/plain": [
       "<Figure size 432x288 with 2 Axes>"
      ]
     },
     "metadata": {
      "needs_background": "light"
     },
     "output_type": "display_data"
    },
    {
     "name": "stdout",
     "output_type": "stream",
     "text": [
      "{'Accuracy': 0.825062034739454, 'Balanced_Accuracy': 0.7237386269644335, 'Precision': 0.7023411371237458, 'Recall': 0.5210918114143921, 'F1': 0.5982905982905983}\n"
     ]
    },
    {
     "data": {
      "text/html": [
       "<div>\n",
       "<style scoped>\n",
       "    .dataframe tbody tr th:only-of-type {\n",
       "        vertical-align: middle;\n",
       "    }\n",
       "\n",
       "    .dataframe tbody tr th {\n",
       "        vertical-align: top;\n",
       "    }\n",
       "\n",
       "    .dataframe thead th {\n",
       "        text-align: right;\n",
       "    }\n",
       "</style>\n",
       "<table border=\"1\" class=\"dataframe\">\n",
       "  <thead>\n",
       "    <tr style=\"text-align: right;\">\n",
       "      <th>predicted</th>\n",
       "      <th>-1.0</th>\n",
       "      <th>1.0</th>\n",
       "    </tr>\n",
       "    <tr>\n",
       "      <th>original</th>\n",
       "      <th></th>\n",
       "      <th></th>\n",
       "    </tr>\n",
       "  </thead>\n",
       "  <tbody>\n",
       "    <tr>\n",
       "      <th>-1</th>\n",
       "      <td>4982</td>\n",
       "      <td>23</td>\n",
       "    </tr>\n",
       "    <tr>\n",
       "      <th>1</th>\n",
       "      <td>1604</td>\n",
       "      <td>64</td>\n",
       "    </tr>\n",
       "  </tbody>\n",
       "</table>\n",
       "</div>"
      ],
      "text/plain": [
       "predicted  -1.0   1.0\n",
       "original             \n",
       "-1         4982    23\n",
       " 1         1604    64"
      ]
     },
     "metadata": {},
     "output_type": "display_data"
    },
    {
     "name": "stdout",
     "output_type": "stream",
     "text": [
      "---------PressTV Train25 Confusion Matrix---------\n"
     ]
    },
    {
     "data": {
      "image/png": "[encoded data removed]",
      "text/plain": [
       "<Figure size 432x288 with 2 Axes>"
      ]
     },
     "metadata": {
      "needs_background": "light"
     },
     "output_type": "display_data"
    },
    {
     "name": "stdout",
     "output_type": "stream",
     "text": [
      "{'Accuracy': 0.7561816274539188, 'Balanced_Accuracy': 0.5168869499804751, 'Precision': 0.735632183908046, 'Recall': 0.03836930455635491, 'F1': 0.07293447293447293}\n"
     ]
    },
    {
     "data": {
      "text/html": [
       "<div>\n",
       "<style scoped>\n",
       "    .dataframe tbody tr th:only-of-type {\n",
       "        vertical-align: middle;\n",
       "    }\n",
       "\n",
       "    .dataframe tbody tr th {\n",
       "        vertical-align: top;\n",
       "    }\n",
       "\n",
       "    .dataframe thead th {\n",
       "        text-align: right;\n",
       "    }\n",
       "</style>\n",
       "<table border=\"1\" class=\"dataframe\">\n",
       "  <thead>\n",
       "    <tr style=\"text-align: right;\">\n",
       "      <th>predicted</th>\n",
       "      <th>-1.0</th>\n",
       "      <th>1.0</th>\n",
       "    </tr>\n",
       "    <tr>\n",
       "      <th>original</th>\n",
       "      <th></th>\n",
       "      <th></th>\n",
       "    </tr>\n",
       "  </thead>\n",
       "  <tbody>\n",
       "    <tr>\n",
       "      <th>-1</th>\n",
       "      <td>1</td>\n",
       "      <td>4854</td>\n",
       "    </tr>\n",
       "    <tr>\n",
       "      <th>1</th>\n",
       "      <td>0</td>\n",
       "      <td>1618</td>\n",
       "    </tr>\n",
       "  </tbody>\n",
       "</table>\n",
       "</div>"
      ],
      "text/plain": [
       "predicted  -1.0   1.0\n",
       "original             \n",
       "-1            1  4854\n",
       " 1            0  1618"
      ]
     },
     "metadata": {},
     "output_type": "display_data"
    },
    {
     "name": "stdout",
     "output_type": "stream",
     "text": [
      "-----------CNN Test25 Confusion Matrix------------\n"
     ]
    },
    {
     "data": {
      "image/png": "[encoded data removed]",
      "text/plain": [
       "<Figure size 432x288 with 2 Axes>"
      ]
     },
     "metadata": {
      "needs_background": "light"
     },
     "output_type": "display_data"
    },
    {
     "name": "stdout",
     "output_type": "stream",
     "text": [
      "{'Accuracy': 0.2501158659045265, 'Balanced_Accuracy': 0.5001029866117405, 'Precision': 0.25, 'Recall': 1.0, 'F1': 0.4}\n"
     ]
    },
    {
     "data": {
      "text/html": [
       "<div>\n",
       "<style scoped>\n",
       "    .dataframe tbody tr th:only-of-type {\n",
       "        vertical-align: middle;\n",
       "    }\n",
       "\n",
       "    .dataframe tbody tr th {\n",
       "        vertical-align: top;\n",
       "    }\n",
       "\n",
       "    .dataframe thead th {\n",
       "        text-align: right;\n",
       "    }\n",
       "</style>\n",
       "<table border=\"1\" class=\"dataframe\">\n",
       "  <thead>\n",
       "    <tr style=\"text-align: right;\">\n",
       "      <th>predicted</th>\n",
       "      <th>1.0</th>\n",
       "    </tr>\n",
       "    <tr>\n",
       "      <th>original</th>\n",
       "      <th></th>\n",
       "    </tr>\n",
       "  </thead>\n",
       "  <tbody>\n",
       "    <tr>\n",
       "      <th>-1</th>\n",
       "      <td>1336</td>\n",
       "    </tr>\n",
       "    <tr>\n",
       "      <th>1</th>\n",
       "      <td>445</td>\n",
       "    </tr>\n",
       "  </tbody>\n",
       "</table>\n",
       "</div>"
      ],
      "text/plain": [
       "predicted   1.0\n",
       "original       \n",
       "-1         1336\n",
       " 1          445"
      ]
     },
     "metadata": {},
     "output_type": "display_data"
    },
    {
     "name": "stdout",
     "output_type": "stream",
     "text": [
      "---------Reuters Test25 Confusion Matrix----------\n"
     ]
    },
    {
     "data": {
      "image/png": "[encoded data removed]",
      "text/plain": [
       "<Figure size 432x288 with 2 Axes>"
      ]
     },
     "metadata": {
      "needs_background": "light"
     },
     "output_type": "display_data"
    },
    {
     "name": "stdout",
     "output_type": "stream",
     "text": [
      "{'Accuracy': 0.24985962942167322, 'Balanced_Accuracy': 0.5, 'Precision': 0.24985962942167322, 'Recall': 1.0, 'F1': 0.3998203054806828}\n"
     ]
    },
    {
     "data": {
      "text/html": [
       "<div>\n",
       "<style scoped>\n",
       "    .dataframe tbody tr th:only-of-type {\n",
       "        vertical-align: middle;\n",
       "    }\n",
       "\n",
       "    .dataframe tbody tr th {\n",
       "        vertical-align: top;\n",
       "    }\n",
       "\n",
       "    .dataframe thead th {\n",
       "        text-align: right;\n",
       "    }\n",
       "</style>\n",
       "<table border=\"1\" class=\"dataframe\">\n",
       "  <thead>\n",
       "    <tr style=\"text-align: right;\">\n",
       "      <th>predicted</th>\n",
       "      <th>1.0</th>\n",
       "    </tr>\n",
       "    <tr>\n",
       "      <th>original</th>\n",
       "      <th></th>\n",
       "    </tr>\n",
       "  </thead>\n",
       "  <tbody>\n",
       "    <tr>\n",
       "      <th>-1</th>\n",
       "      <td>170</td>\n",
       "    </tr>\n",
       "    <tr>\n",
       "      <th>1</th>\n",
       "      <td>56</td>\n",
       "    </tr>\n",
       "  </tbody>\n",
       "</table>\n",
       "</div>"
      ],
      "text/plain": [
       "predicted  1.0\n",
       "original      \n",
       "-1         170\n",
       " 1          56"
      ]
     },
     "metadata": {},
     "output_type": "display_data"
    },
    {
     "name": "stdout",
     "output_type": "stream",
     "text": [
      "-----------BBC Test25 Confusion Matrix------------\n"
     ]
    },
    {
     "data": {
      "image/png": "[encoded data removed]",
      "text/plain": [
       "<Figure size 432x288 with 2 Axes>"
      ]
     },
     "metadata": {
      "needs_background": "light"
     },
     "output_type": "display_data"
    },
    {
     "name": "stdout",
     "output_type": "stream",
     "text": [
      "{'Accuracy': 0.24778761061946902, 'Balanced_Accuracy': 0.5, 'Precision': 0.24778761061946902, 'Recall': 1.0, 'F1': 0.3971631205673759}\n"
     ]
    },
    {
     "data": {
      "text/html": [
       "<div>\n",
       "<style scoped>\n",
       "    .dataframe tbody tr th:only-of-type {\n",
       "        vertical-align: middle;\n",
       "    }\n",
       "\n",
       "    .dataframe tbody tr th {\n",
       "        vertical-align: top;\n",
       "    }\n",
       "\n",
       "    .dataframe thead th {\n",
       "        text-align: right;\n",
       "    }\n",
       "</style>\n",
       "<table border=\"1\" class=\"dataframe\">\n",
       "  <thead>\n",
       "    <tr style=\"text-align: right;\">\n",
       "      <th>predicted</th>\n",
       "      <th>-1.0</th>\n",
       "      <th>1.0</th>\n",
       "    </tr>\n",
       "    <tr>\n",
       "      <th>original</th>\n",
       "      <th></th>\n",
       "      <th></th>\n",
       "    </tr>\n",
       "  </thead>\n",
       "  <tbody>\n",
       "    <tr>\n",
       "      <th>-1</th>\n",
       "      <td>863</td>\n",
       "      <td>28</td>\n",
       "    </tr>\n",
       "    <tr>\n",
       "      <th>1</th>\n",
       "      <td>212</td>\n",
       "      <td>84</td>\n",
       "    </tr>\n",
       "  </tbody>\n",
       "</table>\n",
       "</div>"
      ],
      "text/plain": [
       "predicted  -1.0   1.0\n",
       "original             \n",
       "-1          863    28\n",
       " 1          212    84"
      ]
     },
     "metadata": {},
     "output_type": "display_data"
    },
    {
     "name": "stdout",
     "output_type": "stream",
     "text": [
      "---------PressTV Test25 Confusion Matrix----------\n"
     ]
    },
    {
     "data": {
      "image/png": "[encoded data removed]",
      "text/plain": [
       "<Figure size 432x288 with 2 Axes>"
      ]
     },
     "metadata": {
      "needs_background": "light"
     },
     "output_type": "display_data"
    },
    {
     "name": "stdout",
     "output_type": "stream",
     "text": [
      "{'Accuracy': 0.797809604043808, 'Balanced_Accuracy': 0.6261792095125429, 'Precision': 0.75, 'Recall': 0.28378378378378377, 'F1': 0.4117647058823529}\n"
     ]
    },
    {
     "data": {
      "text/html": [
       "<div>\n",
       "<style scoped>\n",
       "    .dataframe tbody tr th:only-of-type {\n",
       "        vertical-align: middle;\n",
       "    }\n",
       "\n",
       "    .dataframe tbody tr th {\n",
       "        vertical-align: top;\n",
       "    }\n",
       "\n",
       "    .dataframe thead th {\n",
       "        text-align: right;\n",
       "    }\n",
       "</style>\n",
       "<table border=\"1\" class=\"dataframe\">\n",
       "  <thead>\n",
       "    <tr style=\"text-align: right;\">\n",
       "      <th>predicted</th>\n",
       "      <th>-1.0</th>\n",
       "      <th>1.0</th>\n",
       "    </tr>\n",
       "    <tr>\n",
       "      <th>original</th>\n",
       "      <th></th>\n",
       "      <th></th>\n",
       "    </tr>\n",
       "  </thead>\n",
       "  <tbody>\n",
       "    <tr>\n",
       "      <th>-1</th>\n",
       "      <td>39899</td>\n",
       "      <td>0</td>\n",
       "    </tr>\n",
       "    <tr>\n",
       "      <th>1</th>\n",
       "      <td>2095</td>\n",
       "      <td>4</td>\n",
       "    </tr>\n",
       "  </tbody>\n",
       "</table>\n",
       "</div>"
      ],
      "text/plain": [
       "predicted   -1.0   1.0\n",
       "original              \n",
       "-1         39899     0\n",
       " 1          2095     4"
      ]
     },
     "metadata": {},
     "output_type": "display_data"
    },
    {
     "name": "stdout",
     "output_type": "stream",
     "text": [
      "-----------CNN Train5 Confusion Matrix------------\n"
     ]
    },
    {
     "data": {
      "image/png": "[encoded data removed]",
      "text/plain": [
       "<Figure size 432x288 with 2 Axes>"
      ]
     },
     "metadata": {
      "needs_background": "light"
     },
     "output_type": "display_data"
    },
    {
     "name": "stdout",
     "output_type": "stream",
     "text": [
      "{'Accuracy': 0.9501166722224867, 'Balanced_Accuracy': 0.5009528346831824, 'Precision': 1.0, 'Recall': 0.0019056693663649356, 'F1': 0.0038040893961008085}\n"
     ]
    },
    {
     "data": {
      "text/html": [
       "<div>\n",
       "<style scoped>\n",
       "    .dataframe tbody tr th:only-of-type {\n",
       "        vertical-align: middle;\n",
       "    }\n",
       "\n",
       "    .dataframe tbody tr th {\n",
       "        vertical-align: top;\n",
       "    }\n",
       "\n",
       "    .dataframe thead th {\n",
       "        text-align: right;\n",
       "    }\n",
       "</style>\n",
       "<table border=\"1\" class=\"dataframe\">\n",
       "  <thead>\n",
       "    <tr style=\"text-align: right;\">\n",
       "      <th>predicted</th>\n",
       "      <th>-1.0</th>\n",
       "      <th>1.0</th>\n",
       "    </tr>\n",
       "    <tr>\n",
       "      <th>original</th>\n",
       "      <th></th>\n",
       "      <th></th>\n",
       "    </tr>\n",
       "  </thead>\n",
       "  <tbody>\n",
       "    <tr>\n",
       "      <th>-1</th>\n",
       "      <td>9049</td>\n",
       "      <td>1</td>\n",
       "    </tr>\n",
       "    <tr>\n",
       "      <th>1</th>\n",
       "      <td>109</td>\n",
       "      <td>367</td>\n",
       "    </tr>\n",
       "  </tbody>\n",
       "</table>\n",
       "</div>"
      ],
      "text/plain": [
       "predicted  -1.0   1.0\n",
       "original             \n",
       "-1         9049     1\n",
       " 1          109   367"
      ]
     },
     "metadata": {},
     "output_type": "display_data"
    },
    {
     "name": "stdout",
     "output_type": "stream",
     "text": [
      "---------Reuters Train5 Confusion Matrix----------\n"
     ]
    },
    {
     "data": {
      "image/png": "[encoded data removed]",
      "text/plain": [
       "<Figure size 432x288 with 2 Axes>"
      ]
     },
     "metadata": {
      "needs_background": "light"
     },
     "output_type": "display_data"
    },
    {
     "name": "stdout",
     "output_type": "stream",
     "text": [
      "{'Accuracy': 0.9884526558891455, 'Balanced_Accuracy': 0.8854489530618878, 'Precision': 0.9972826086956522, 'Recall': 0.7710084033613446, 'F1': 0.8696682464454977}\n"
     ]
    },
    {
     "data": {
      "text/html": [
       "<div>\n",
       "<style scoped>\n",
       "    .dataframe tbody tr th:only-of-type {\n",
       "        vertical-align: middle;\n",
       "    }\n",
       "\n",
       "    .dataframe tbody tr th {\n",
       "        vertical-align: top;\n",
       "    }\n",
       "\n",
       "    .dataframe thead th {\n",
       "        text-align: right;\n",
       "    }\n",
       "</style>\n",
       "<table border=\"1\" class=\"dataframe\">\n",
       "  <thead>\n",
       "    <tr style=\"text-align: right;\">\n",
       "      <th>predicted</th>\n",
       "      <th>-1.0</th>\n",
       "      <th>1.0</th>\n",
       "    </tr>\n",
       "    <tr>\n",
       "      <th>original</th>\n",
       "      <th></th>\n",
       "      <th></th>\n",
       "    </tr>\n",
       "  </thead>\n",
       "  <tbody>\n",
       "    <tr>\n",
       "      <th>-1</th>\n",
       "      <td>1532</td>\n",
       "      <td>0</td>\n",
       "    </tr>\n",
       "    <tr>\n",
       "      <th>1</th>\n",
       "      <td>38</td>\n",
       "      <td>42</td>\n",
       "    </tr>\n",
       "  </tbody>\n",
       "</table>\n",
       "</div>"
      ],
      "text/plain": [
       "predicted  -1.0   1.0\n",
       "original             \n",
       "-1         1532     0\n",
       " 1           38    42"
      ]
     },
     "metadata": {},
     "output_type": "display_data"
    },
    {
     "name": "stdout",
     "output_type": "stream",
     "text": [
      "-----------BBC Train5 Confusion Matrix------------\n"
     ]
    },
    {
     "data": {
      "image/png": "[encoded data removed]",
      "text/plain": [
       "<Figure size 432x288 with 2 Axes>"
      ]
     },
     "metadata": {
      "needs_background": "light"
     },
     "output_type": "display_data"
    },
    {
     "name": "stdout",
     "output_type": "stream",
     "text": [
      "{'Accuracy': 0.9764267990074442, 'Balanced_Accuracy': 0.7625, 'Precision': 1.0, 'Recall': 0.525, 'F1': 0.6885245901639345}\n"
     ]
    },
    {
     "data": {
      "text/html": [
       "<div>\n",
       "<style scoped>\n",
       "    .dataframe tbody tr th:only-of-type {\n",
       "        vertical-align: middle;\n",
       "    }\n",
       "\n",
       "    .dataframe tbody tr th {\n",
       "        vertical-align: top;\n",
       "    }\n",
       "\n",
       "    .dataframe thead th {\n",
       "        text-align: right;\n",
       "    }\n",
       "</style>\n",
       "<table border=\"1\" class=\"dataframe\">\n",
       "  <thead>\n",
       "    <tr style=\"text-align: right;\">\n",
       "      <th>predicted</th>\n",
       "      <th>-1.0</th>\n",
       "      <th>1.0</th>\n",
       "    </tr>\n",
       "    <tr>\n",
       "      <th>original</th>\n",
       "      <th></th>\n",
       "      <th></th>\n",
       "    </tr>\n",
       "  </thead>\n",
       "  <tbody>\n",
       "    <tr>\n",
       "      <th>-1</th>\n",
       "      <td>6339</td>\n",
       "      <td>1</td>\n",
       "    </tr>\n",
       "    <tr>\n",
       "      <th>1</th>\n",
       "      <td>46</td>\n",
       "      <td>287</td>\n",
       "    </tr>\n",
       "  </tbody>\n",
       "</table>\n",
       "</div>"
      ],
      "text/plain": [
       "predicted  -1.0   1.0\n",
       "original             \n",
       "-1         6339     1\n",
       " 1           46   287"
      ]
     },
     "metadata": {},
     "output_type": "display_data"
    },
    {
     "name": "stdout",
     "output_type": "stream",
     "text": [
      "---------PressTV Train5 Confusion Matrix----------\n"
     ]
    },
    {
     "data": {
      "image/png": "[encoded data removed]",
      "text/plain": [
       "<Figure size 432x288 with 2 Axes>"
      ]
     },
     "metadata": {
      "needs_background": "light"
     },
     "output_type": "display_data"
    },
    {
     "name": "stdout",
     "output_type": "stream",
     "text": [
      "{'Accuracy': 0.9929566911434138, 'Balanced_Accuracy': 0.9308520665776187, 'Precision': 0.9965277777777778, 'Recall': 0.8618618618618619, 'F1': 0.9243156199677939}\n"
     ]
    },
    {
     "data": {
      "text/html": [
       "<div>\n",
       "<style scoped>\n",
       "    .dataframe tbody tr th:only-of-type {\n",
       "        vertical-align: middle;\n",
       "    }\n",
       "\n",
       "    .dataframe tbody tr th {\n",
       "        vertical-align: top;\n",
       "    }\n",
       "\n",
       "    .dataframe thead th {\n",
       "        text-align: right;\n",
       "    }\n",
       "</style>\n",
       "<table border=\"1\" class=\"dataframe\">\n",
       "  <thead>\n",
       "    <tr style=\"text-align: right;\">\n",
       "      <th>predicted</th>\n",
       "      <th>-1.0</th>\n",
       "      <th>1.0</th>\n",
       "    </tr>\n",
       "    <tr>\n",
       "      <th>original</th>\n",
       "      <th></th>\n",
       "      <th></th>\n",
       "    </tr>\n",
       "  </thead>\n",
       "  <tbody>\n",
       "    <tr>\n",
       "      <th>-1</th>\n",
       "      <td>6138</td>\n",
       "      <td>12</td>\n",
       "    </tr>\n",
       "    <tr>\n",
       "      <th>1</th>\n",
       "      <td>309</td>\n",
       "      <td>14</td>\n",
       "    </tr>\n",
       "  </tbody>\n",
       "</table>\n",
       "</div>"
      ],
      "text/plain": [
       "predicted  -1.0   1.0\n",
       "original             \n",
       "-1         6138    12\n",
       " 1          309    14"
      ]
     },
     "metadata": {},
     "output_type": "display_data"
    },
    {
     "name": "stdout",
     "output_type": "stream",
     "text": [
      "------------CNN Test5 Confusion Matrix------------\n"
     ]
    },
    {
     "data": {
      "image/png": "[encoded data removed]",
      "text/plain": [
       "<Figure size 432x288 with 2 Axes>"
      ]
     },
     "metadata": {
      "needs_background": "light"
     },
     "output_type": "display_data"
    },
    {
     "name": "stdout",
     "output_type": "stream",
     "text": [
      "{'Accuracy': 0.9504093928626602, 'Balanced_Accuracy': 0.5206962168692895, 'Precision': 0.5384615384615384, 'Recall': 0.043343653250773995, 'F1': 0.08022922636103152}\n"
     ]
    },
    {
     "data": {
      "text/html": [
       "<div>\n",
       "<style scoped>\n",
       "    .dataframe tbody tr th:only-of-type {\n",
       "        vertical-align: middle;\n",
       "    }\n",
       "\n",
       "    .dataframe tbody tr th {\n",
       "        vertical-align: top;\n",
       "    }\n",
       "\n",
       "    .dataframe thead th {\n",
       "        text-align: right;\n",
       "    }\n",
       "</style>\n",
       "<table border=\"1\" class=\"dataframe\">\n",
       "  <thead>\n",
       "    <tr style=\"text-align: right;\">\n",
       "      <th>predicted</th>\n",
       "      <th>-1.0</th>\n",
       "      <th>1.0</th>\n",
       "    </tr>\n",
       "    <tr>\n",
       "      <th>original</th>\n",
       "      <th></th>\n",
       "      <th></th>\n",
       "    </tr>\n",
       "  </thead>\n",
       "  <tbody>\n",
       "    <tr>\n",
       "      <th>-1</th>\n",
       "      <td>1415</td>\n",
       "      <td>277</td>\n",
       "    </tr>\n",
       "    <tr>\n",
       "      <th>1</th>\n",
       "      <td>0</td>\n",
       "      <td>89</td>\n",
       "    </tr>\n",
       "  </tbody>\n",
       "</table>\n",
       "</div>"
      ],
      "text/plain": [
       "predicted  -1.0   1.0\n",
       "original             \n",
       "-1         1415   277\n",
       " 1            0    89"
      ]
     },
     "metadata": {},
     "output_type": "display_data"
    },
    {
     "name": "stdout",
     "output_type": "stream",
     "text": [
      "----------Reuters Test5 Confusion Matrix----------\n"
     ]
    },
    {
     "data": {
      "image/png": "[encoded data removed]",
      "text/plain": [
       "<Figure size 432x288 with 2 Axes>"
      ]
     },
     "metadata": {
      "needs_background": "light"
     },
     "output_type": "display_data"
    },
    {
     "name": "stdout",
     "output_type": "stream",
     "text": [
      "{'Accuracy': 0.8444693992139247, 'Balanced_Accuracy': 0.918144208037825, 'Precision': 0.24316939890710382, 'Recall': 1.0, 'F1': 0.3912087912087912}\n"
     ]
    },
    {
     "data": {
      "text/html": [
       "<div>\n",
       "<style scoped>\n",
       "    .dataframe tbody tr th:only-of-type {\n",
       "        vertical-align: middle;\n",
       "    }\n",
       "\n",
       "    .dataframe tbody tr th {\n",
       "        vertical-align: top;\n",
       "    }\n",
       "\n",
       "    .dataframe thead th {\n",
       "        text-align: right;\n",
       "    }\n",
       "</style>\n",
       "<table border=\"1\" class=\"dataframe\">\n",
       "  <thead>\n",
       "    <tr style=\"text-align: right;\">\n",
       "      <th>predicted</th>\n",
       "      <th>-1.0</th>\n",
       "      <th>1.0</th>\n",
       "    </tr>\n",
       "    <tr>\n",
       "      <th>original</th>\n",
       "      <th></th>\n",
       "      <th></th>\n",
       "    </tr>\n",
       "  </thead>\n",
       "  <tbody>\n",
       "    <tr>\n",
       "      <th>-1</th>\n",
       "      <td>174</td>\n",
       "      <td>41</td>\n",
       "    </tr>\n",
       "    <tr>\n",
       "      <th>1</th>\n",
       "      <td>4</td>\n",
       "      <td>7</td>\n",
       "    </tr>\n",
       "  </tbody>\n",
       "</table>\n",
       "</div>"
      ],
      "text/plain": [
       "predicted  -1.0   1.0\n",
       "original             \n",
       "-1          174    41\n",
       " 1            4     7"
      ]
     },
     "metadata": {},
     "output_type": "display_data"
    },
    {
     "name": "stdout",
     "output_type": "stream",
     "text": [
      "------------BBC Test5 Confusion Matrix------------\n"
     ]
    },
    {
     "data": {
      "image/png": "[encoded data removed]",
      "text/plain": [
       "<Figure size 432x288 with 2 Axes>"
      ]
     },
     "metadata": {
      "needs_background": "light"
     },
     "output_type": "display_data"
    },
    {
     "name": "stdout",
     "output_type": "stream",
     "text": [
      "{'Accuracy': 0.8008849557522124, 'Balanced_Accuracy': 0.7228329809725158, 'Precision': 0.14583333333333334, 'Recall': 0.6363636363636364, 'F1': 0.23728813559322035}\n"
     ]
    },
    {
     "data": {
      "text/html": [
       "<div>\n",
       "<style scoped>\n",
       "    .dataframe tbody tr th:only-of-type {\n",
       "        vertical-align: middle;\n",
       "    }\n",
       "\n",
       "    .dataframe tbody tr th {\n",
       "        vertical-align: top;\n",
       "    }\n",
       "\n",
       "    .dataframe thead th {\n",
       "        text-align: right;\n",
       "    }\n",
       "</style>\n",
       "<table border=\"1\" class=\"dataframe\">\n",
       "  <thead>\n",
       "    <tr style=\"text-align: right;\">\n",
       "      <th>predicted</th>\n",
       "      <th>-1.0</th>\n",
       "      <th>1.0</th>\n",
       "    </tr>\n",
       "    <tr>\n",
       "      <th>original</th>\n",
       "      <th></th>\n",
       "      <th></th>\n",
       "    </tr>\n",
       "  </thead>\n",
       "  <tbody>\n",
       "    <tr>\n",
       "      <th>-1</th>\n",
       "      <td>1128</td>\n",
       "      <td>0</td>\n",
       "    </tr>\n",
       "    <tr>\n",
       "      <th>1</th>\n",
       "      <td>53</td>\n",
       "      <td>6</td>\n",
       "    </tr>\n",
       "  </tbody>\n",
       "</table>\n",
       "</div>"
      ],
      "text/plain": [
       "predicted  -1.0   1.0\n",
       "original             \n",
       "-1         1128     0\n",
       " 1           53     6"
      ]
     },
     "metadata": {},
     "output_type": "display_data"
    },
    {
     "name": "stdout",
     "output_type": "stream",
     "text": [
      "----------PressTV Test5 Confusion Matrix----------\n"
     ]
    },
    {
     "data": {
      "image/png": "[encoded data removed]",
      "text/plain": [
       "<Figure size 432x288 with 2 Axes>"
      ]
     },
     "metadata": {
      "needs_background": "light"
     },
     "output_type": "display_data"
    },
    {
     "name": "stdout",
     "output_type": "stream",
     "text": [
      "{'Accuracy': 0.9553496208930076, 'Balanced_Accuracy': 0.5508474576271186, 'Precision': 1.0, 'Recall': 0.1016949152542373, 'F1': 0.18461538461538463}\n"
     ]
    }
   ],
   "source": [
    "from sklearn.metrics import f1_score, accuracy_score, balanced_accuracy_score, precision_score, recall_score\n",
    "from sklearn.metrics import confusion_matrix\n",
    "from sklearn.metrics import ConfusionMatrixDisplay\n",
    "import matplotlib.pyplot as plt\n",
    "\n",
    "def calculate_metrics_for_model(res_df, nm): \n",
    "    test_accuracy = accuracy_score(res_df.original, res_df.predicted)\n",
    "    test_balanced_acc = balanced_accuracy_score(res_df.original, res_df.predicted)\n",
    "    test_f1 = f1_score(res_df.original, res_df.predicted)\n",
    "    test_precision = precision_score(res_df.original, res_df.predicted)\n",
    "    test_recall = recall_score(res_df.original, res_df.predicted)\n",
    "\n",
    "    print((nm+\" Confusion Matrix\").center(50,\"-\"))\n",
    "    cm = confusion_matrix(res_df.original, res_df.predicted)\n",
    "    ConfusionMatrixDisplay(cm).plot()\n",
    "    plt.show()\n",
    "\n",
    "    print({\"Accuracy\" : test_accuracy, \"Balanced_Accuracy\": test_balanced_acc, \n",
    "          \"Precision\": test_precision, \"Recall\": test_recall, \"F1\": test_f1})\n",
    "\n",
    "def evaluate_mlt(X, Y, W, c, i, nm):\n",
    "    \n",
    "    X = X.copy()\n",
    "    X.columns = range(0,X.shape[1])\n",
    "    res = np.sign(X.dot(W[i]) + c[i])\n",
    "\n",
    "    #display(res)\n",
    "    df_res = pd.DataFrame(data={'original':Y,'predicted':res})\n",
    "    #display(df_res.loc[df_res[\"original\"]==1,:])\n",
    "    #display(df_res.loc[df_res[\"original\"]==-1,:])\n",
    "    \n",
    "    display(pd.crosstab(df_res[\"original\"], df_res[\"predicted\"]))\n",
    "    \n",
    "    calculate_metrics_for_model(df_res, nm)\n",
    "    \n",
    "\n",
    "W = pd.read_csv('train_w25.csv',header=None)\n",
    "c = np.genfromtxt('train_c25.csv',delimiter=',')\n",
    "    \n",
    "evaluate_mlt(X_cnnTrain25, Y_cnnTrain25, W, c, 0, 'CNN Train25')\n",
    "evaluate_mlt(X_reuTrain25, Y_reuTrain25, W, c, 1, 'Reuters Train25')\n",
    "evaluate_mlt(X_bbcTrain25, Y_bbcTrain25, W, c, 2, 'BBC Train25')\n",
    "evaluate_mlt(X_preTrain25, Y_preTrain25, W, c, 3, 'PressTV Train25')\n",
    "\n",
    "evaluate_mlt(X_cnnTest25, Y_cnnTest25, W, c, 0, 'CNN Test25')\n",
    "evaluate_mlt(X_reuTest25, Y_reuTest25, W, c, 1, 'Reuters Test25')\n",
    "evaluate_mlt(X_bbcTest25, Y_bbcTest25, W, c, 2, 'BBC Test25')\n",
    "evaluate_mlt(X_preTest25, Y_preTest25, W, c, 3, 'PressTV Test25')\n",
    "\n",
    "W = pd.read_csv('train_w5.csv',header=None)\n",
    "c = np.genfromtxt('train_c5.csv',delimiter=',')\n",
    "\n",
    "evaluate_mlt(X_cnnTrain5, Y_cnnTrain5, W, c, 0, 'CNN Train5')\n",
    "evaluate_mlt(X_reuTrain5, Y_reuTrain5, W, c, 1, 'Reuters Train5')\n",
    "evaluate_mlt(X_bbcTrain5, Y_bbcTrain5, W, c, 2, 'BBC Train5')\n",
    "evaluate_mlt(X_preTrain5, Y_preTrain5, W, c, 3, 'PressTV Train5')\n",
    "\n",
    "evaluate_mlt(X_cnnTest5, Y_cnnTest5, W, c, 0, 'CNN Test5')\n",
    "evaluate_mlt(X_reuTest5, Y_reuTest5, W, c, 1, 'Reuters Test5')\n",
    "evaluate_mlt(X_bbcTest5, Y_bbcTest5, W, c, 2, 'BBC Test5')\n",
    "evaluate_mlt(X_preTest5, Y_preTest5, W, c, 3, 'PressTV Test5')"
   ]
  },
  {
   "cell_type": "markdown",
   "metadata": {},
   "source": [
    "PP: how do these HACKS apply the weight vector?\n",
    "\n",
    "Attempts:\n",
    " * elementwise multiplication for each column in X\n",
    " * elementwise muttiplication with Y\n",
    " * same but with weights rescaled towards their total contribution to their sum\n",
    " \n",
    "All resulted in significantly worse performance.\n",
    "\n",
    "No documentation of MATLAB hyperparameter tuning:\n",
    " * rho1 - relatedness of tasks\n",
    " * rho2 - regularization parameter"
   ]
  },
  {
   "cell_type": "code",
   "execution_count": 196,
   "metadata": {
    "colab": {
     "base_uri": "https://localhost:8080/",
     "height": 316
    },
    "id": "3TMFYMTsfPfa",
    "outputId": "bc6ba7e1-fde5-443f-d05d-922bcf041932"
   },
   "outputs": [
    {
     "name": "stdout",
     "output_type": "stream",
     "text": [
      "-----------------Confusion Matrix-----------------\n"
     ]
    },
    {
     "ename": "AttributeError",
     "evalue": "type object 'ConfusionMatrixDisplay' has no attribute 'from_estimator'",
     "output_type": "error",
     "traceback": [
      "\u001b[1;31m---------------------------------------------------------------------------\u001b[0m",
      "\u001b[1;31mAttributeError\u001b[0m                            Traceback (most recent call last)",
      "\u001b[1;32m<ipython-input-196-12ae3a55914f>\u001b[0m in \u001b[0;36m<module>\u001b[1;34m\u001b[0m\n\u001b[0;32m     20\u001b[0m           \"Precision\": test_precision, \"Recall\": test_recall, \"F1\": test_f1}\n\u001b[0;32m     21\u001b[0m \u001b[1;33m\u001b[0m\u001b[0m\n\u001b[1;32m---> 22\u001b[1;33m \u001b[0mcnn25Metrics\u001b[0m \u001b[1;33m=\u001b[0m \u001b[0mcalculate_metrics_for_model\u001b[0m\u001b[1;33m(\u001b[0m\u001b[0mmodelCnn25\u001b[0m\u001b[1;33m,\u001b[0m \u001b[0mcnnTest25\u001b[0m\u001b[1;33m)\u001b[0m\u001b[1;33m\u001b[0m\u001b[1;33m\u001b[0m\u001b[0m\n\u001b[0m\u001b[0;32m     23\u001b[0m \u001b[0mprint\u001b[0m\u001b[1;33m(\u001b[0m\u001b[0mcnn25Metrics\u001b[0m\u001b[1;33m)\u001b[0m\u001b[1;33m\u001b[0m\u001b[1;33m\u001b[0m\u001b[0m\n",
      "\u001b[1;32m<ipython-input-196-12ae3a55914f>\u001b[0m in \u001b[0;36mcalculate_metrics_for_model\u001b[1;34m(model, test_df)\u001b[0m\n\u001b[0;32m     14\u001b[0m \u001b[1;33m\u001b[0m\u001b[0m\n\u001b[0;32m     15\u001b[0m   \u001b[0mprint\u001b[0m\u001b[1;33m(\u001b[0m\u001b[1;34m\"Confusion Matrix\"\u001b[0m\u001b[1;33m.\u001b[0m\u001b[0mcenter\u001b[0m\u001b[1;33m(\u001b[0m\u001b[1;36m50\u001b[0m\u001b[1;33m,\u001b[0m\u001b[1;34m\"-\"\u001b[0m\u001b[1;33m)\u001b[0m\u001b[1;33m)\u001b[0m\u001b[1;33m\u001b[0m\u001b[1;33m\u001b[0m\u001b[0m\n\u001b[1;32m---> 16\u001b[1;33m   \u001b[0mConfusionMatrixDisplay\u001b[0m\u001b[1;33m.\u001b[0m\u001b[0mfrom_estimator\u001b[0m\u001b[1;33m(\u001b[0m\u001b[0mmodel\u001b[0m\u001b[1;33m,\u001b[0m \u001b[0mtest_df\u001b[0m\u001b[1;33m.\u001b[0m\u001b[0mdrop\u001b[0m\u001b[1;33m(\u001b[0m\u001b[1;34m'popularity'\u001b[0m\u001b[1;33m,\u001b[0m \u001b[0maxis\u001b[0m\u001b[1;33m=\u001b[0m\u001b[1;36m1\u001b[0m\u001b[1;33m)\u001b[0m\u001b[1;33m,\u001b[0m \u001b[0mtest_df\u001b[0m\u001b[1;33m.\u001b[0m\u001b[0mpopularity\u001b[0m\u001b[1;33m)\u001b[0m\u001b[1;33m\u001b[0m\u001b[1;33m\u001b[0m\u001b[0m\n\u001b[0m\u001b[0;32m     17\u001b[0m   \u001b[0mplt\u001b[0m\u001b[1;33m.\u001b[0m\u001b[0mshow\u001b[0m\u001b[1;33m(\u001b[0m\u001b[1;33m)\u001b[0m\u001b[1;33m\u001b[0m\u001b[1;33m\u001b[0m\u001b[0m\n\u001b[0;32m     18\u001b[0m \u001b[1;33m\u001b[0m\u001b[0m\n",
      "\u001b[1;31mAttributeError\u001b[0m: type object 'ConfusionMatrixDisplay' has no attribute 'from_estimator'"
     ]
    }
   ],
   "source": [
    "from sklearn.metrics import f1_score, accuracy_score, balanced_accuracy_score, precision_score, recall_score\n",
    "from sklearn.metrics import confusion_matrix\n",
    "from sklearn.metrics import ConfusionMatrixDisplay\n",
    "import matplotlib.pyplot as plt\n",
    "\n",
    "def calculate_metrics_for_model(model, test_df):\n",
    "  # Get predictions from model\n",
    "  test_preds = model.predict(test_df.drop('popularity', axis=1))\n",
    "  test_accuracy = accuracy_score(test_df.popularity, test_preds)\n",
    "  test_balanced_acc = balanced_accuracy_score(test_df.popularity, test_preds)\n",
    "  test_f1 = f1_score(test_df.popularity, test_preds)\n",
    "  test_precision = precision_score(test_df.popularity, test_preds)\n",
    "  test_recall = recall_score(test_df.popularity, test_preds)\n",
    "\n",
    "  print(\"Confusion Matrix\".center(50,\"-\"))\n",
    "  ConfusionMatrixDisplay.from_estimator(model, test_df.drop('popularity', axis=1), test_df.popularity)\n",
    "  plt.show()\n",
    "  \n",
    "  return {\"Accuracy\" : test_accuracy, \"Balanced_Accuracy\": test_balanced_acc, \n",
    "          \"Precision\": test_precision, \"Recall\": test_recall, \"F1\": test_f1}\n",
    "\n",
    "cnn25Metrics = calculate_metrics_for_model(modelCnn25, cnnTest25)\n",
    "print(cnn25Metrics)"
   ]
  },
  {
   "cell_type": "markdown",
   "metadata": {
    "id": "v8RmRPCni5Tb"
   },
   "source": [
    "# Evaluation of model + generation for other datasets"
   ]
  },
  {
   "cell_type": "code",
   "execution_count": null,
   "metadata": {
    "id": "75wN_3aQi4_z"
   },
   "outputs": [],
   "source": [
    "def get_results_for_dataset(df, name):\n",
    "  print(name.center(50,\"=\"))\n",
    "\n",
    "  # Create labbeled train test splits for 5% and 25%\n",
    "  train, test = create_train_test_split(df)\n",
    "  train5, train25 = produce_binary_labels(train)\n",
    "  test5, test25 = produce_binary_labels(test)\n",
    "\n",
    "  # Train models for 5% and 25%\n",
    "  results_5 = get_model_results(train5, test5)\n",
    "  results_25 = get_model_results(train25, test25)\n",
    "  display(cnnBrk.columns)\n",
    "\n",
    "  # Save best models to disk\n",
    "  with open(f'{name}_5.pkl', 'wb') as fid:\n",
    "    pickle.dump(results_5['model'], fid)  \n",
    "\n",
    "  with open(f'{name}_25.pkl', 'wb') as fid:\n",
    "    pickle.dump(results_25['model'], fid)  \n",
    "  \n",
    "  print(f\"Results for dataset {name}:\")\n",
    "  print(f\"5% Popularity: {results_5['metrics']}\")\n",
    "  print(f\"25% Popularity: {results_25['metrics']}\")\n",
    "  return {\"5\" : results_5, \"25\" : results_25}\n",
    "\n",
    "def get_model_results(train, test):\n",
    "  train_weights = calculate_weights(train)\n",
    "  model = train_svm_wo_feature_select(train, train_weights)\n",
    "  metrics = calculate_metrics_for_model(model, test)\n",
    "  return {\"model\" : model, \"metrics\" : metrics}"
   ]
  },
  {
   "cell_type": "markdown",
   "metadata": {
    "id": "zz30dLSuk2KR"
   },
   "source": [
    "## Reuters World"
   ]
  },
  {
   "cell_type": "code",
   "execution_count": null,
   "metadata": {
    "colab": {
     "base_uri": "https://localhost:8080/",
     "height": 725
    },
    "id": "7-_nL5K8k57W",
    "outputId": "c14cd4c5-8551-4353-f652-4e83536c3cb5"
   },
   "outputs": [
    {
     "name": "stdout",
     "output_type": "stream",
     "text": [
      "=====================Reuters======================\n",
      "Fitting 5 folds for each of 6 candidates, totalling 30 fits\n",
      "Found best model :{'C': 100.0}\n",
      "-----------------Confusion Matrix-----------------\n"
     ]
    },
    {
     "data": {
      "image/png": "[encoded data removed]",
      "text/plain": [
       "<Figure size 432x288 with 2 Axes>"
      ]
     },
     "metadata": {
      "needs_background": "light"
     },
     "output_type": "display_data"
    },
    {
     "name": "stdout",
     "output_type": "stream",
     "text": [
      "Fitting 5 folds for each of 6 candidates, totalling 30 fits\n",
      "Found best model :{'C': 10.0}\n",
      "-----------------Confusion Matrix-----------------\n"
     ]
    },
    {
     "data": {
      "image/png": "[encoded data removed]",
      "text/plain": [
       "<Figure size 432x288 with 2 Axes>"
      ]
     },
     "metadata": {
      "needs_background": "light"
     },
     "output_type": "display_data"
    },
    {
     "name": "stdout",
     "output_type": "stream",
     "text": [
      "Results for dataset Reuters:\n",
      "5% Popularity: {'Accuracy': 0.9539584503088153, 'Balanced_Accuracy': 0.5393258426966292, 'Precision': 1.0, 'Recall': 0.07865168539325842, 'F1': 0.14583333333333334}\n",
      "25% Popularity: {'Accuracy': 0.7445255474452555, 'Balanced_Accuracy': 0.7570292000269124, 'Precision': 0.49291784702549574, 'Recall': 0.7820224719101123, 'F1': 0.6046915725456125}\n"
     ]
    }
   ],
   "source": [
    "resReuters = get_results_for_dataset(reutersWorld, \"Reuters\")"
   ]
  },
  {
   "cell_type": "markdown",
   "metadata": {
    "id": "Oq4-NkPWloG6"
   },
   "source": [
    "## CNN"
   ]
  },
  {
   "cell_type": "code",
   "execution_count": null,
   "metadata": {
    "colab": {
     "base_uri": "https://localhost:8080/",
     "height": 725
    },
    "id": "pRGBkhBvlnzn",
    "outputId": "81045328-4b64-4fdc-ad4f-bb8ede14e69e"
   },
   "outputs": [
    {
     "name": "stdout",
     "output_type": "stream",
     "text": [
      "=======================CNN========================\n",
      "Fitting 5 folds for each of 6 candidates, totalling 30 fits\n",
      "Found best model :{'C': 100.0}\n",
      "-----------------Confusion Matrix-----------------\n"
     ]
    },
    {
     "data": {
      "image/png": "[encoded data removed]",
      "text/plain": [
       "<Figure size 432x288 with 2 Axes>"
      ]
     },
     "metadata": {
      "needs_background": "light"
     },
     "output_type": "display_data"
    },
    {
     "name": "stdout",
     "output_type": "stream",
     "text": [
      "Fitting 5 folds for each of 6 candidates, totalling 30 fits\n",
      "Found best model :{'C': 100.0}\n",
      "-----------------Confusion Matrix-----------------\n"
     ]
    },
    {
     "data": {
      "image/png": "[encoded data removed]",
      "text/plain": [
       "<Figure size 432x288 with 2 Axes>"
      ]
     },
     "metadata": {
      "needs_background": "light"
     },
     "output_type": "display_data"
    },
    {
     "name": "stdout",
     "output_type": "stream",
     "text": [
      "Results for dataset CNN:\n",
      "5% Popularity: {'Accuracy': 0.0498995828827437, 'Balanced_Accuracy': 0.5, 'Precision': 0.0498995828827437, 'Recall': 1.0, 'F1': 0.09505591524426132}\n",
      "25% Popularity: {'Accuracy': 0.2499613780318245, 'Balanced_Accuracy': 0.5, 'Precision': 0.2499613780318245, 'Recall': 1.0, 'F1': 0.399950562353232}\n"
     ]
    }
   ],
   "source": [
    "resCNN = get_results_for_dataset(cnnBrk, \"CNN\")"
   ]
  },
  {
   "cell_type": "markdown",
   "metadata": {
    "id": "o8gdK54dl1Ep"
   },
   "source": [
    "## Press TV"
   ]
  },
  {
   "cell_type": "code",
   "execution_count": null,
   "metadata": {
    "colab": {
     "base_uri": "https://localhost:8080/",
     "height": 725
    },
    "id": "fR-eCrVAl4Gv",
    "outputId": "262af555-5f0b-4dbe-b3ed-069af93d9ba9"
   },
   "outputs": [
    {
     "name": "stdout",
     "output_type": "stream",
     "text": [
      "=====================PressTV======================\n",
      "Fitting 5 folds for each of 6 candidates, totalling 30 fits\n",
      "Found best model :{'C': 100.0}\n",
      "-----------------Confusion Matrix-----------------\n"
     ]
    },
    {
     "data": {
      "image/png": "[encoded data removed]",
      "text/plain": [
       "<Figure size 432x288 with 2 Axes>"
      ]
     },
     "metadata": {
      "needs_background": "light"
     },
     "output_type": "display_data"
    },
    {
     "name": "stdout",
     "output_type": "stream",
     "text": [
      "Fitting 5 folds for each of 6 candidates, totalling 30 fits\n",
      "Found best model :{'C': 100.0}\n",
      "-----------------Confusion Matrix-----------------\n"
     ]
    },
    {
     "data": {
      "image/png": "[encoded data removed]",
      "text/plain": [
       "<Figure size 432x288 with 2 Axes>"
      ]
     },
     "metadata": {
      "needs_background": "light"
     },
     "output_type": "display_data"
    },
    {
     "name": "stdout",
     "output_type": "stream",
     "text": [
      "Results for dataset PressTV:\n",
      "5% Popularity: {'Accuracy': 0.9629317607413648, 'Balanced_Accuracy': 0.6271186440677966, 'Precision': 1.0, 'Recall': 0.2542372881355932, 'F1': 0.4054054054054054}\n",
      "25% Popularity: {'Accuracy': 0.9561920808761584, 'Balanced_Accuracy': 0.9685632602299269, 'Precision': 0.8546511627906976, 'Recall': 0.9932432432432432, 'F1': 0.91875}\n"
     ]
    }
   ],
   "source": [
    "resPressTV = get_results_for_dataset(pressTV, \"PressTV\")"
   ]
  },
  {
   "cell_type": "markdown",
   "metadata": {
    "id": "Bw1zA6d1mFzk"
   },
   "source": [
    "## BBC"
   ]
  },
  {
   "cell_type": "code",
   "execution_count": null,
   "metadata": {
    "colab": {
     "base_uri": "https://localhost:8080/",
     "height": 761
    },
    "id": "FLghcX0tmQpX",
    "outputId": "7080b3cd-4cb0-4a88-fc8b-f2044eaccf54"
   },
   "outputs": [
    {
     "name": "stdout",
     "output_type": "stream",
     "text": [
      "=======================BBC========================\n",
      "Fitting 5 folds for each of 6 candidates, totalling 30 fits\n",
      "Found best model :{'C': 0.01}\n",
      "-----------------Confusion Matrix-----------------\n"
     ]
    },
    {
     "data": {
      "image/png": "[encoded data removed]",
      "text/plain": [
       "<Figure size 432x288 with 2 Axes>"
      ]
     },
     "metadata": {
      "needs_background": "light"
     },
     "output_type": "display_data"
    },
    {
     "name": "stdout",
     "output_type": "stream",
     "text": [
      "Fitting 5 folds for each of 6 candidates, totalling 30 fits\n",
      "Found best model :{'C': 1.0}\n",
      "-----------------Confusion Matrix-----------------\n"
     ]
    },
    {
     "name": "stderr",
     "output_type": "stream",
     "text": [
      "/usr/local/lib/python3.7/dist-packages/sklearn/metrics/_classification.py:1318: UndefinedMetricWarning: Precision is ill-defined and being set to 0.0 due to no predicted samples. Use `zero_division` parameter to control this behavior.\n",
      "  _warn_prf(average, modifier, msg_start, len(result))\n"
     ]
    },
    {
     "data": {
      "image/png": "[encoded data removed]",
      "text/plain": [
       "<Figure size 432x288 with 2 Axes>"
      ]
     },
     "metadata": {
      "needs_background": "light"
     },
     "output_type": "display_data"
    },
    {
     "name": "stdout",
     "output_type": "stream",
     "text": [
      "Results for dataset BBC:\n",
      "5% Popularity: {'Accuracy': 0.22123893805309736, 'Balanced_Accuracy': 0.547568710359408, 'Precision': 0.05405405405405406, 'Recall': 0.9090909090909091, 'F1': 0.10204081632653063}\n",
      "25% Popularity: {'Accuracy': 0.7522123893805309, 'Balanced_Accuracy': 0.5, 'Precision': 0.0, 'Recall': 0.0, 'F1': 0.0}\n"
     ]
    }
   ],
   "source": [
    "resBBC = get_results_for_dataset(bbc, \"BBC\")"
   ]
  },
  {
   "cell_type": "markdown",
   "metadata": {
    "id": "418KZKhhmgkv"
   },
   "source": [
    "## Results\n",
    "\n",
    "The results seem similar for some of the models, but not very good for most metrics. This is probably due to inconsistencies mentioned above caused by\n",
    "the authors leaving out critical information about the algorithm's hyperparamters and the pre-processing of the dataset.\n",
    "\n",
    "From my guesses I would also say that we don't have a model that fits the\n",
    "data good enough. Maybe it isn't linearily seperable. Henceforth, a simple\n",
    "LinearSVC does not suffice. \n",
    "\n",
    "Another probable issue is the massive imbalance between training and test samples. Test sets are small to begin with, and by labelling the data using\n",
    "only 5% and 25% of the data, we reduce the quantity of popular news to \n",
    "next to nothing. For this reason, most classifiers on 5% seem to just overfit\n",
    "the Unpopular News (label 0) class.\n"
   ]
  }
 ],
 "metadata": {
  "colab": {
   "collapsed_sections": [],
   "name": "Experiment_Design_SVM_Partial.ipynb",
   "provenance": []
  },
  "kernelspec": {
   "display_name": "Python 3",
   "language": "python",
   "name": "python3"
  },
  "language_info": {
   "codemirror_mode": {
    "name": "ipython",
    "version": 3
   },
   "file_extension": ".py",
   "mimetype": "text/x-python",
   "name": "python",
   "nbconvert_exporter": "python",
   "pygments_lexer": "ipython3",
   "version": "3.9.2"
  }
 },
 "nbformat": 4,
 "nbformat_minor": 4
}
